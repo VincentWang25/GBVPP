{
 "cells": [
  {
   "cell_type": "code",
   "execution_count": 1,
   "metadata": {
    "ExecuteTime": {
     "end_time": "2021-10-21T21:34:42.729812Z",
     "start_time": "2021-10-21T21:34:42.712924Z"
    }
   },
   "outputs": [
    {
     "data": {
      "text/html": [
       "<style>.container { width:100% !important; }</style>"
      ],
      "text/plain": [
       "<IPython.core.display.HTML object>"
      ]
     },
     "metadata": {},
     "output_type": "display_data"
    }
   ],
   "source": [
    "%load_ext autoreload\n",
    "%autoreload 2\n",
    "\n",
    "from IPython.core.display import display, HTML\n",
    "display(HTML(\"<style>.container { width:100% !important; }</style>\"))"
   ]
  },
  {
   "cell_type": "code",
   "execution_count": null,
   "metadata": {},
   "outputs": [],
   "source": []
  },
  {
   "cell_type": "code",
   "execution_count": 2,
   "metadata": {
    "ExecuteTime": {
     "end_time": "2021-10-21T21:34:42.735447Z",
     "start_time": "2021-10-21T21:34:42.730809Z"
    }
   },
   "outputs": [],
   "source": [
    "import os\n",
    "os.environ['CUDA_VISIBLE_DEVICES'] = '0'"
   ]
  },
  {
   "cell_type": "code",
   "execution_count": 3,
   "metadata": {
    "ExecuteTime": {
     "end_time": "2021-10-21T21:34:44.017176Z",
     "start_time": "2021-10-21T21:34:42.736078Z"
    }
   },
   "outputs": [],
   "source": [
    "import torch\n",
    "from torch.nn import DataParallel\n",
    "from torch.utils.data import DataLoader\n",
    "from torch.optim import AdamW\n",
    "\n",
    "import pandas as pd\n",
    "import numpy as np\n",
    "import matplotlib.pyplot as plt\n",
    "from sklearn.preprocessing import RobustScaler\n",
    "import gc\n",
    "\n",
    "import sys\n",
    "sys.path.append(\"../src\")\n",
    "import FE\n",
    "import dataset\n",
    "import models\n",
    "import util\n",
    "from config import read_config, update_config\n",
    "import train_helper\n",
    "import infer_helper\n",
    "import loss\n",
    "import lrfinder"
   ]
  },
  {
   "cell_type": "code",
   "execution_count": 4,
   "metadata": {
    "ExecuteTime": {
     "end_time": "2021-10-21T21:34:44.046106Z",
     "start_time": "2021-10-21T21:34:44.019300Z"
    }
   },
   "outputs": [
    {
     "name": "stdout",
     "output_type": "stream",
     "text": [
      "11.1\n"
     ]
    }
   ],
   "source": [
    "print(torch.version.cuda)"
   ]
  },
  {
   "cell_type": "code",
   "execution_count": 2,
   "metadata": {
    "ExecuteTime": {
     "end_time": "2021-10-22T11:45:25.386176Z",
     "start_time": "2021-10-22T11:45:25.330413Z"
    }
   },
   "outputs": [],
   "source": [
    "import numpy as np"
   ]
  },
  {
   "cell_type": "code",
   "execution_count": 7,
   "metadata": {
    "ExecuteTime": {
     "end_time": "2021-10-22T11:47:08.842594Z",
     "start_time": "2021-10-22T11:47:08.838183Z"
    }
   },
   "outputs": [
    {
     "name": "stdout",
     "output_type": "stream",
     "text": [
      "[[1 2]\n",
      " [3 4]\n",
      " [5 2]\n",
      " [7 2]]\n"
     ]
    },
    {
     "data": {
      "text/plain": [
       "array([2, 2, 2])"
      ]
     },
     "execution_count": 7,
     "metadata": {},
     "output_type": "execute_result"
    }
   ],
   "source": [
    "arr = np.reshape(np.array([1,2,3,4,5,2,7,2]),(4,2))\n",
    "print(arr)\n",
    "arr[arr==2]"
   ]
  },
  {
   "cell_type": "markdown",
   "metadata": {},
   "source": [
    "# Config"
   ]
  },
  {
   "cell_type": "code",
   "execution_count": 21,
   "metadata": {
    "ExecuteTime": {
     "end_time": "2021-10-21T21:39:43.033815Z",
     "start_time": "2021-10-21T21:39:43.015351Z"
    }
   },
   "outputs": [],
   "source": [
    "config = read_config(\"Base_Cls\")\n",
    "config.gpu = [0]\n",
    "config.train_folds = [0]"
   ]
  },
  {
   "cell_type": "code",
   "execution_count": 22,
   "metadata": {
    "ExecuteTime": {
     "end_time": "2021-10-21T21:39:43.619577Z",
     "start_time": "2021-10-21T21:39:43.598251Z"
    }
   },
   "outputs": [
    {
     "name": "stdout",
     "output_type": "stream",
     "text": [
      "Using device: cuda\n",
      "Number of device: 1\n",
      "Model Output Folder: /home/vincent/Kaggle/GBVPP/output/Base_Cls/\n"
     ]
    }
   ],
   "source": [
    "config = update_config(config)"
   ]
  },
  {
   "cell_type": "code",
   "execution_count": 7,
   "metadata": {
    "ExecuteTime": {
     "end_time": "2021-10-21T21:34:49.375703Z",
     "start_time": "2021-10-21T21:34:44.155321Z"
    }
   },
   "outputs": [
    {
     "data": {
      "text/plain": [
       "(6036000, 9)"
      ]
     },
     "metadata": {},
     "output_type": "display_data"
    },
    {
     "data": {
      "text/plain": [
       "(4024000, 7)"
      ]
     },
     "metadata": {},
     "output_type": "display_data"
    },
    {
     "data": {
      "text/html": [
       "<div>\n",
       "<style scoped>\n",
       "    .dataframe tbody tr th:only-of-type {\n",
       "        vertical-align: middle;\n",
       "    }\n",
       "\n",
       "    .dataframe tbody tr th {\n",
       "        vertical-align: top;\n",
       "    }\n",
       "\n",
       "    .dataframe thead th {\n",
       "        text-align: right;\n",
       "    }\n",
       "</style>\n",
       "<table border=\"1\" class=\"dataframe\">\n",
       "  <thead>\n",
       "    <tr style=\"text-align: right;\">\n",
       "      <th></th>\n",
       "      <th>id</th>\n",
       "      <th>breath_id</th>\n",
       "      <th>R</th>\n",
       "      <th>C</th>\n",
       "      <th>time_step</th>\n",
       "      <th>u_in</th>\n",
       "      <th>u_out</th>\n",
       "      <th>pressure</th>\n",
       "      <th>fold</th>\n",
       "    </tr>\n",
       "  </thead>\n",
       "  <tbody>\n",
       "    <tr>\n",
       "      <th>0</th>\n",
       "      <td>1</td>\n",
       "      <td>1</td>\n",
       "      <td>20</td>\n",
       "      <td>50</td>\n",
       "      <td>0.000000</td>\n",
       "      <td>0.083334</td>\n",
       "      <td>0</td>\n",
       "      <td>5.837492</td>\n",
       "      <td>0</td>\n",
       "    </tr>\n",
       "    <tr>\n",
       "      <th>1</th>\n",
       "      <td>2</td>\n",
       "      <td>1</td>\n",
       "      <td>20</td>\n",
       "      <td>50</td>\n",
       "      <td>0.033652</td>\n",
       "      <td>18.383041</td>\n",
       "      <td>0</td>\n",
       "      <td>5.907794</td>\n",
       "      <td>0</td>\n",
       "    </tr>\n",
       "    <tr>\n",
       "      <th>2</th>\n",
       "      <td>3</td>\n",
       "      <td>1</td>\n",
       "      <td>20</td>\n",
       "      <td>50</td>\n",
       "      <td>0.067514</td>\n",
       "      <td>22.509277</td>\n",
       "      <td>0</td>\n",
       "      <td>7.876254</td>\n",
       "      <td>0</td>\n",
       "    </tr>\n",
       "    <tr>\n",
       "      <th>3</th>\n",
       "      <td>4</td>\n",
       "      <td>1</td>\n",
       "      <td>20</td>\n",
       "      <td>50</td>\n",
       "      <td>0.101542</td>\n",
       "      <td>22.808823</td>\n",
       "      <td>0</td>\n",
       "      <td>11.742872</td>\n",
       "      <td>0</td>\n",
       "    </tr>\n",
       "    <tr>\n",
       "      <th>4</th>\n",
       "      <td>5</td>\n",
       "      <td>1</td>\n",
       "      <td>20</td>\n",
       "      <td>50</td>\n",
       "      <td>0.135756</td>\n",
       "      <td>25.355850</td>\n",
       "      <td>0</td>\n",
       "      <td>12.234987</td>\n",
       "      <td>0</td>\n",
       "    </tr>\n",
       "  </tbody>\n",
       "</table>\n",
       "</div>"
      ],
      "text/plain": [
       "   id  breath_id   R   C  time_step       u_in  u_out   pressure  fold\n",
       "0   1          1  20  50   0.000000   0.083334      0   5.837492     0\n",
       "1   2          1  20  50   0.033652  18.383041      0   5.907794     0\n",
       "2   3          1  20  50   0.067514  22.509277      0   7.876254     0\n",
       "3   4          1  20  50   0.101542  22.808823      0  11.742872     0\n",
       "4   5          1  20  50   0.135756  25.355850      0  12.234987     0"
      ]
     },
     "metadata": {},
     "output_type": "display_data"
    },
    {
     "data": {
      "text/html": [
       "<div>\n",
       "<style scoped>\n",
       "    .dataframe tbody tr th:only-of-type {\n",
       "        vertical-align: middle;\n",
       "    }\n",
       "\n",
       "    .dataframe tbody tr th {\n",
       "        vertical-align: top;\n",
       "    }\n",
       "\n",
       "    .dataframe thead th {\n",
       "        text-align: right;\n",
       "    }\n",
       "</style>\n",
       "<table border=\"1\" class=\"dataframe\">\n",
       "  <thead>\n",
       "    <tr style=\"text-align: right;\">\n",
       "      <th></th>\n",
       "      <th>id</th>\n",
       "      <th>breath_id</th>\n",
       "      <th>R</th>\n",
       "      <th>C</th>\n",
       "      <th>time_step</th>\n",
       "      <th>u_in</th>\n",
       "      <th>u_out</th>\n",
       "    </tr>\n",
       "  </thead>\n",
       "  <tbody>\n",
       "    <tr>\n",
       "      <th>0</th>\n",
       "      <td>1</td>\n",
       "      <td>0</td>\n",
       "      <td>5</td>\n",
       "      <td>20</td>\n",
       "      <td>0.000000</td>\n",
       "      <td>0.000000</td>\n",
       "      <td>0</td>\n",
       "    </tr>\n",
       "    <tr>\n",
       "      <th>1</th>\n",
       "      <td>2</td>\n",
       "      <td>0</td>\n",
       "      <td>5</td>\n",
       "      <td>20</td>\n",
       "      <td>0.031904</td>\n",
       "      <td>7.515046</td>\n",
       "      <td>0</td>\n",
       "    </tr>\n",
       "    <tr>\n",
       "      <th>2</th>\n",
       "      <td>3</td>\n",
       "      <td>0</td>\n",
       "      <td>5</td>\n",
       "      <td>20</td>\n",
       "      <td>0.063827</td>\n",
       "      <td>14.651675</td>\n",
       "      <td>0</td>\n",
       "    </tr>\n",
       "    <tr>\n",
       "      <th>3</th>\n",
       "      <td>4</td>\n",
       "      <td>0</td>\n",
       "      <td>5</td>\n",
       "      <td>20</td>\n",
       "      <td>0.095751</td>\n",
       "      <td>21.230610</td>\n",
       "      <td>0</td>\n",
       "    </tr>\n",
       "    <tr>\n",
       "      <th>4</th>\n",
       "      <td>5</td>\n",
       "      <td>0</td>\n",
       "      <td>5</td>\n",
       "      <td>20</td>\n",
       "      <td>0.127644</td>\n",
       "      <td>26.320955</td>\n",
       "      <td>0</td>\n",
       "    </tr>\n",
       "  </tbody>\n",
       "</table>\n",
       "</div>"
      ],
      "text/plain": [
       "   id  breath_id  R   C  time_step       u_in  u_out\n",
       "0   1          0  5  20   0.000000   0.000000      0\n",
       "1   2          0  5  20   0.031904   7.515046      0\n",
       "2   3          0  5  20   0.063827  14.651675      0\n",
       "3   4          0  5  20   0.095751  21.230610      0\n",
       "4   5          0  5  20   0.127644  26.320955      0"
      ]
     },
     "metadata": {},
     "output_type": "display_data"
    }
   ],
   "source": [
    "train, test = dataset.read_data(config)\n",
    "display(train.shape, test.shape)\n",
    "display(train.head())\n",
    "display(test.head())"
   ]
  },
  {
   "cell_type": "code",
   "execution_count": 8,
   "metadata": {
    "ExecuteTime": {
     "end_time": "2021-10-21T21:34:49.392623Z",
     "start_time": "2021-10-21T21:34:49.376744Z"
    }
   },
   "outputs": [
    {
     "data": {
      "text/plain": [
       "id            uint32\n",
       "breath_id     uint32\n",
       "R             uint32\n",
       "C             uint32\n",
       "time_step    float32\n",
       "u_in         float32\n",
       "u_out           int8\n",
       "pressure     float64\n",
       "fold           int64\n",
       "dtype: object"
      ]
     },
     "execution_count": 8,
     "metadata": {},
     "output_type": "execute_result"
    }
   ],
   "source": [
    "train.dtypes"
   ]
  },
  {
   "cell_type": "markdown",
   "metadata": {},
   "source": [
    "# adding features"
   ]
  },
  {
   "cell_type": "code",
   "execution_count": 9,
   "metadata": {
    "ExecuteTime": {
     "end_time": "2021-10-21T21:36:44.514755Z",
     "start_time": "2021-10-21T21:34:49.393606Z"
    }
   },
   "outputs": [],
   "source": [
    "train = FE.add_features_choice(train, config)\n",
    "test = FE.add_features_choice(test, config)"
   ]
  },
  {
   "cell_type": "code",
   "execution_count": 10,
   "metadata": {
    "ExecuteTime": {
     "end_time": "2021-10-21T21:36:44.745194Z",
     "start_time": "2021-10-21T21:36:44.516226Z"
    }
   },
   "outputs": [
    {
     "name": "stdout",
     "output_type": "stream",
     "text": [
      "['time_step', 'u_in', 'u_out', 'step', 'time_delta', 'area', 'u_in_cumsum', 'u_out_diff', 'cross_time', 'cross_u_in', 'u_in_first', 'u_in_last', 'time_end', 'u_in_lag1', 'u_in_lag_back1', 'u_in_lag2', 'u_in_lag_back2', 'u_in_lag3', 'u_in_lag_back3', 'u_in_lag4', 'u_in_lag_back4', 'u_in_diff', 'u_in_diff_2', 'u_in_diff_4', 'ewm_u_in_mean', 'ewm_u_in_std', 'ewm_u_in_corr', 'rolling_10_mean', 'rolling_10_max', 'rolling_10_std', 'expand_mean', 'expand_median', 'expand_std', 'expand_max', 'expand_skew', 'expand_kurt', 'u_in_max', 'u_in_mean', 'u_in__diffmax', 'u_in__diffmean', 'RC_u_in_median_diff', 'RC_u_in_mean_diff', 'R_20', 'R_5', 'R_50', 'C_10', 'C_20', 'C_50']\n"
     ]
    }
   ],
   "source": [
    "feature_cols = [col for col in train.columns if col not in [\"id\", \"breath_id\", \"fold\", \"pressure\"]]\n",
    "print(feature_cols)"
   ]
  },
  {
   "cell_type": "code",
   "execution_count": 11,
   "metadata": {
    "ExecuteTime": {
     "end_time": "2021-10-21T21:36:44.778859Z",
     "start_time": "2021-10-21T21:36:44.746147Z"
    }
   },
   "outputs": [
    {
     "data": {
      "text/html": [
       "<div>\n",
       "<style scoped>\n",
       "    .dataframe tbody tr th:only-of-type {\n",
       "        vertical-align: middle;\n",
       "    }\n",
       "\n",
       "    .dataframe tbody tr th {\n",
       "        vertical-align: top;\n",
       "    }\n",
       "\n",
       "    .dataframe thead th {\n",
       "        text-align: right;\n",
       "    }\n",
       "</style>\n",
       "<table border=\"1\" class=\"dataframe\">\n",
       "  <thead>\n",
       "    <tr style=\"text-align: right;\">\n",
       "      <th></th>\n",
       "      <th>id</th>\n",
       "      <th>breath_id</th>\n",
       "      <th>time_step</th>\n",
       "      <th>u_in</th>\n",
       "      <th>u_out</th>\n",
       "      <th>pressure</th>\n",
       "      <th>fold</th>\n",
       "      <th>step</th>\n",
       "      <th>time_delta</th>\n",
       "      <th>area</th>\n",
       "      <th>...</th>\n",
       "      <th>u_in__diffmax</th>\n",
       "      <th>u_in__diffmean</th>\n",
       "      <th>RC_u_in_median_diff</th>\n",
       "      <th>RC_u_in_mean_diff</th>\n",
       "      <th>R_20</th>\n",
       "      <th>R_5</th>\n",
       "      <th>R_50</th>\n",
       "      <th>C_10</th>\n",
       "      <th>C_20</th>\n",
       "      <th>C_50</th>\n",
       "    </tr>\n",
       "  </thead>\n",
       "  <tbody>\n",
       "    <tr>\n",
       "      <th>0</th>\n",
       "      <td>1</td>\n",
       "      <td>1</td>\n",
       "      <td>0.000000</td>\n",
       "      <td>0.083334</td>\n",
       "      <td>0</td>\n",
       "      <td>5.837492</td>\n",
       "      <td>0</td>\n",
       "      <td>0</td>\n",
       "      <td>0.000000</td>\n",
       "      <td>0.000000</td>\n",
       "      <td>...</td>\n",
       "      <td>28.229702</td>\n",
       "      <td>28.229702</td>\n",
       "      <td>-1.097566</td>\n",
       "      <td>-16.472822</td>\n",
       "      <td>1</td>\n",
       "      <td>0</td>\n",
       "      <td>0</td>\n",
       "      <td>0</td>\n",
       "      <td>0</td>\n",
       "      <td>1</td>\n",
       "    </tr>\n",
       "    <tr>\n",
       "      <th>1</th>\n",
       "      <td>2</td>\n",
       "      <td>1</td>\n",
       "      <td>0.033652</td>\n",
       "      <td>18.383041</td>\n",
       "      <td>0</td>\n",
       "      <td>5.907794</td>\n",
       "      <td>0</td>\n",
       "      <td>1</td>\n",
       "      <td>0.033652</td>\n",
       "      <td>0.618632</td>\n",
       "      <td>...</td>\n",
       "      <td>9.929995</td>\n",
       "      <td>9.929995</td>\n",
       "      <td>10.217401</td>\n",
       "      <td>-6.304752</td>\n",
       "      <td>1</td>\n",
       "      <td>0</td>\n",
       "      <td>0</td>\n",
       "      <td>0</td>\n",
       "      <td>0</td>\n",
       "      <td>1</td>\n",
       "    </tr>\n",
       "    <tr>\n",
       "      <th>2</th>\n",
       "      <td>3</td>\n",
       "      <td>1</td>\n",
       "      <td>0.067514</td>\n",
       "      <td>22.509277</td>\n",
       "      <td>0</td>\n",
       "      <td>7.876254</td>\n",
       "      <td>0</td>\n",
       "      <td>2</td>\n",
       "      <td>0.033862</td>\n",
       "      <td>1.380843</td>\n",
       "      <td>...</td>\n",
       "      <td>5.803759</td>\n",
       "      <td>5.803759</td>\n",
       "      <td>11.105179</td>\n",
       "      <td>1.167955</td>\n",
       "      <td>1</td>\n",
       "      <td>0</td>\n",
       "      <td>0</td>\n",
       "      <td>0</td>\n",
       "      <td>0</td>\n",
       "      <td>1</td>\n",
       "    </tr>\n",
       "    <tr>\n",
       "      <th>3</th>\n",
       "      <td>4</td>\n",
       "      <td>1</td>\n",
       "      <td>0.101542</td>\n",
       "      <td>22.808823</td>\n",
       "      <td>0</td>\n",
       "      <td>11.742872</td>\n",
       "      <td>0</td>\n",
       "      <td>3</td>\n",
       "      <td>0.034028</td>\n",
       "      <td>2.156978</td>\n",
       "      <td>...</td>\n",
       "      <td>5.504213</td>\n",
       "      <td>5.504213</td>\n",
       "      <td>11.056578</td>\n",
       "      <td>6.697302</td>\n",
       "      <td>1</td>\n",
       "      <td>0</td>\n",
       "      <td>0</td>\n",
       "      <td>0</td>\n",
       "      <td>0</td>\n",
       "      <td>1</td>\n",
       "    </tr>\n",
       "    <tr>\n",
       "      <th>4</th>\n",
       "      <td>5</td>\n",
       "      <td>1</td>\n",
       "      <td>0.135756</td>\n",
       "      <td>25.355850</td>\n",
       "      <td>0</td>\n",
       "      <td>12.234987</td>\n",
       "      <td>0</td>\n",
       "      <td>4</td>\n",
       "      <td>0.034213</td>\n",
       "      <td>3.024485</td>\n",
       "      <td>...</td>\n",
       "      <td>2.957186</td>\n",
       "      <td>2.957186</td>\n",
       "      <td>8.360462</td>\n",
       "      <td>2.357504</td>\n",
       "      <td>1</td>\n",
       "      <td>0</td>\n",
       "      <td>0</td>\n",
       "      <td>0</td>\n",
       "      <td>0</td>\n",
       "      <td>1</td>\n",
       "    </tr>\n",
       "  </tbody>\n",
       "</table>\n",
       "<p>5 rows × 52 columns</p>\n",
       "</div>"
      ],
      "text/plain": [
       "   id  breath_id  time_step       u_in  u_out   pressure  fold  step  \\\n",
       "0   1          1   0.000000   0.083334      0   5.837492     0     0   \n",
       "1   2          1   0.033652  18.383041      0   5.907794     0     1   \n",
       "2   3          1   0.067514  22.509277      0   7.876254     0     2   \n",
       "3   4          1   0.101542  22.808823      0  11.742872     0     3   \n",
       "4   5          1   0.135756  25.355850      0  12.234987     0     4   \n",
       "\n",
       "   time_delta      area  ...  u_in__diffmax  u_in__diffmean  \\\n",
       "0    0.000000  0.000000  ...      28.229702       28.229702   \n",
       "1    0.033652  0.618632  ...       9.929995        9.929995   \n",
       "2    0.033862  1.380843  ...       5.803759        5.803759   \n",
       "3    0.034028  2.156978  ...       5.504213        5.504213   \n",
       "4    0.034213  3.024485  ...       2.957186        2.957186   \n",
       "\n",
       "   RC_u_in_median_diff  RC_u_in_mean_diff  R_20  R_5  R_50  C_10  C_20  C_50  \n",
       "0            -1.097566         -16.472822     1    0     0     0     0     1  \n",
       "1            10.217401          -6.304752     1    0     0     0     0     1  \n",
       "2            11.105179           1.167955     1    0     0     0     0     1  \n",
       "3            11.056578           6.697302     1    0     0     0     0     1  \n",
       "4             8.360462           2.357504     1    0     0     0     0     1  \n",
       "\n",
       "[5 rows x 52 columns]"
      ]
     },
     "metadata": {},
     "output_type": "display_data"
    },
    {
     "data": {
      "text/html": [
       "<div>\n",
       "<style scoped>\n",
       "    .dataframe tbody tr th:only-of-type {\n",
       "        vertical-align: middle;\n",
       "    }\n",
       "\n",
       "    .dataframe tbody tr th {\n",
       "        vertical-align: top;\n",
       "    }\n",
       "\n",
       "    .dataframe thead th {\n",
       "        text-align: right;\n",
       "    }\n",
       "</style>\n",
       "<table border=\"1\" class=\"dataframe\">\n",
       "  <thead>\n",
       "    <tr style=\"text-align: right;\">\n",
       "      <th></th>\n",
       "      <th>id</th>\n",
       "      <th>breath_id</th>\n",
       "      <th>time_step</th>\n",
       "      <th>u_in</th>\n",
       "      <th>u_out</th>\n",
       "      <th>step</th>\n",
       "      <th>time_delta</th>\n",
       "      <th>area</th>\n",
       "      <th>u_in_cumsum</th>\n",
       "      <th>u_out_diff</th>\n",
       "      <th>...</th>\n",
       "      <th>u_in__diffmax</th>\n",
       "      <th>u_in__diffmean</th>\n",
       "      <th>RC_u_in_median_diff</th>\n",
       "      <th>RC_u_in_mean_diff</th>\n",
       "      <th>R_20</th>\n",
       "      <th>R_5</th>\n",
       "      <th>R_50</th>\n",
       "      <th>C_10</th>\n",
       "      <th>C_20</th>\n",
       "      <th>C_50</th>\n",
       "    </tr>\n",
       "  </thead>\n",
       "  <tbody>\n",
       "    <tr>\n",
       "      <th>0</th>\n",
       "      <td>1</td>\n",
       "      <td>0</td>\n",
       "      <td>0.000000</td>\n",
       "      <td>0.000000</td>\n",
       "      <td>0</td>\n",
       "      <td>0</td>\n",
       "      <td>0.000000</td>\n",
       "      <td>0.000000</td>\n",
       "      <td>0.000000</td>\n",
       "      <td>0.0</td>\n",
       "      <td>...</td>\n",
       "      <td>37.542217</td>\n",
       "      <td>37.542217</td>\n",
       "      <td>-5.150383</td>\n",
       "      <td>-16.782158</td>\n",
       "      <td>0</td>\n",
       "      <td>1</td>\n",
       "      <td>0</td>\n",
       "      <td>0</td>\n",
       "      <td>1</td>\n",
       "      <td>0</td>\n",
       "    </tr>\n",
       "    <tr>\n",
       "      <th>1</th>\n",
       "      <td>2</td>\n",
       "      <td>0</td>\n",
       "      <td>0.031904</td>\n",
       "      <td>7.515046</td>\n",
       "      <td>0</td>\n",
       "      <td>1</td>\n",
       "      <td>0.031904</td>\n",
       "      <td>0.239758</td>\n",
       "      <td>7.515046</td>\n",
       "      <td>0.0</td>\n",
       "      <td>...</td>\n",
       "      <td>30.027172</td>\n",
       "      <td>30.027172</td>\n",
       "      <td>-12.216171</td>\n",
       "      <td>-23.216238</td>\n",
       "      <td>0</td>\n",
       "      <td>1</td>\n",
       "      <td>0</td>\n",
       "      <td>0</td>\n",
       "      <td>1</td>\n",
       "      <td>0</td>\n",
       "    </tr>\n",
       "    <tr>\n",
       "      <th>2</th>\n",
       "      <td>3</td>\n",
       "      <td>0</td>\n",
       "      <td>0.063827</td>\n",
       "      <td>14.651675</td>\n",
       "      <td>0</td>\n",
       "      <td>2</td>\n",
       "      <td>0.031924</td>\n",
       "      <td>0.707491</td>\n",
       "      <td>22.166721</td>\n",
       "      <td>0.0</td>\n",
       "      <td>...</td>\n",
       "      <td>22.890541</td>\n",
       "      <td>22.890541</td>\n",
       "      <td>-6.876708</td>\n",
       "      <td>-15.921069</td>\n",
       "      <td>0</td>\n",
       "      <td>1</td>\n",
       "      <td>0</td>\n",
       "      <td>0</td>\n",
       "      <td>1</td>\n",
       "      <td>0</td>\n",
       "    </tr>\n",
       "    <tr>\n",
       "      <th>3</th>\n",
       "      <td>4</td>\n",
       "      <td>0</td>\n",
       "      <td>0.095751</td>\n",
       "      <td>21.230610</td>\n",
       "      <td>0</td>\n",
       "      <td>3</td>\n",
       "      <td>0.031924</td>\n",
       "      <td>1.385252</td>\n",
       "      <td>43.397331</td>\n",
       "      <td>0.0</td>\n",
       "      <td>...</td>\n",
       "      <td>16.311607</td>\n",
       "      <td>16.311607</td>\n",
       "      <td>-1.844667</td>\n",
       "      <td>-8.482742</td>\n",
       "      <td>0</td>\n",
       "      <td>1</td>\n",
       "      <td>0</td>\n",
       "      <td>0</td>\n",
       "      <td>1</td>\n",
       "      <td>0</td>\n",
       "    </tr>\n",
       "    <tr>\n",
       "      <th>4</th>\n",
       "      <td>5</td>\n",
       "      <td>0</td>\n",
       "      <td>0.127644</td>\n",
       "      <td>26.320955</td>\n",
       "      <td>0</td>\n",
       "      <td>4</td>\n",
       "      <td>0.031893</td>\n",
       "      <td>2.224694</td>\n",
       "      <td>69.718285</td>\n",
       "      <td>0.0</td>\n",
       "      <td>...</td>\n",
       "      <td>11.221262</td>\n",
       "      <td>11.221262</td>\n",
       "      <td>2.122213</td>\n",
       "      <td>-3.948595</td>\n",
       "      <td>0</td>\n",
       "      <td>1</td>\n",
       "      <td>0</td>\n",
       "      <td>0</td>\n",
       "      <td>1</td>\n",
       "      <td>0</td>\n",
       "    </tr>\n",
       "  </tbody>\n",
       "</table>\n",
       "<p>5 rows × 50 columns</p>\n",
       "</div>"
      ],
      "text/plain": [
       "   id  breath_id  time_step       u_in  u_out  step  time_delta      area  \\\n",
       "0   1          0   0.000000   0.000000      0     0    0.000000  0.000000   \n",
       "1   2          0   0.031904   7.515046      0     1    0.031904  0.239758   \n",
       "2   3          0   0.063827  14.651675      0     2    0.031924  0.707491   \n",
       "3   4          0   0.095751  21.230610      0     3    0.031924  1.385252   \n",
       "4   5          0   0.127644  26.320955      0     4    0.031893  2.224694   \n",
       "\n",
       "   u_in_cumsum  u_out_diff  ...  u_in__diffmax  u_in__diffmean  \\\n",
       "0     0.000000         0.0  ...      37.542217       37.542217   \n",
       "1     7.515046         0.0  ...      30.027172       30.027172   \n",
       "2    22.166721         0.0  ...      22.890541       22.890541   \n",
       "3    43.397331         0.0  ...      16.311607       16.311607   \n",
       "4    69.718285         0.0  ...      11.221262       11.221262   \n",
       "\n",
       "   RC_u_in_median_diff  RC_u_in_mean_diff  R_20  R_5  R_50  C_10  C_20  C_50  \n",
       "0            -5.150383         -16.782158     0    1     0     0     1     0  \n",
       "1           -12.216171         -23.216238     0    1     0     0     1     0  \n",
       "2            -6.876708         -15.921069     0    1     0     0     1     0  \n",
       "3            -1.844667          -8.482742     0    1     0     0     1     0  \n",
       "4             2.122213          -3.948595     0    1     0     0     1     0  \n",
       "\n",
       "[5 rows x 50 columns]"
      ]
     },
     "metadata": {},
     "output_type": "display_data"
    },
    {
     "data": {
      "text/plain": [
       "(None, None)"
      ]
     },
     "execution_count": 11,
     "metadata": {},
     "output_type": "execute_result"
    }
   ],
   "source": [
    "display(train.head()), display(test.head())"
   ]
  },
  {
   "cell_type": "markdown",
   "metadata": {},
   "source": [
    "# Learning Rate Finder"
   ]
  },
  {
   "cell_type": "code",
   "execution_count": 12,
   "metadata": {
    "ExecuteTime": {
     "end_time": "2021-10-21T21:36:44.794377Z",
     "start_time": "2021-10-21T21:36:44.779725Z"
    }
   },
   "outputs": [],
   "source": [
    "if config.use_lr_finder:\n",
    "    # data\n",
    "    rs = RobustScaler(quantile_range=(config.low_q, config.high_q), unit_variance=config.unit_var)\n",
    "    X_train = rs.fit_transform(train[feature_cols])\n",
    "    X_train = X_train.reshape(-1, 80, len(feature_cols))\n",
    "    y_train = train['pressure'].values.reshape(-1, 80)\n",
    "    w_train = (1 - train['u_out']).values.reshape(-1, 80)\n",
    "    train_dt = dataset.LR_VPP(X_train, y_train, w_train, config)\n",
    "    train_loader = DataLoader(train_dt,\n",
    "                              batch_size=config.batch_size,\n",
    "                              shuffle=True,\n",
    "                              num_workers=config.num_workers, pin_memory=True, drop_last=False)"
   ]
  },
  {
   "cell_type": "code",
   "execution_count": 13,
   "metadata": {
    "ExecuteTime": {
     "end_time": "2021-10-21T21:36:44.813046Z",
     "start_time": "2021-10-21T21:36:44.795720Z"
    }
   },
   "outputs": [],
   "source": [
    "if config.use_lr_finder:\n",
    "    # model\n",
    "    model = models.get_model(len(feature_cols),config)\n",
    "    model.to(config.device)\n",
    "    if len(config.gpu) > 1:\n",
    "        model = DataParallel(model)\n",
    "    optimizer = AdamW(model.parameters(), lr=1e-6, eps=1e-08, weight_decay=config.weight_decay, amsgrad=False)\n",
    "    criterion = loss.get_loss(config)"
   ]
  },
  {
   "cell_type": "code",
   "execution_count": 14,
   "metadata": {
    "ExecuteTime": {
     "end_time": "2021-10-21T21:36:44.829849Z",
     "start_time": "2021-10-21T21:36:44.814283Z"
    },
    "scrolled": false
   },
   "outputs": [],
   "source": [
    "if config.use_lr_finder:\n",
    "    lr_finder = lrfinder.LRFinder(model, optimizer, criterion, config.device)\n",
    "    lrs, losses = lr_finder.range_test(train_loader, end_lr=10, num_iter=100, smooth_f=0.05, diverge_th=5)    \n",
    "    lrfinder.plot_lr_finder(lrs, losses)"
   ]
  },
  {
   "cell_type": "code",
   "execution_count": 15,
   "metadata": {
    "ExecuteTime": {
     "end_time": "2021-10-21T21:36:44.848320Z",
     "start_time": "2021-10-21T21:36:44.830819Z"
    }
   },
   "outputs": [],
   "source": [
    "if config.use_lr_finder:\n",
    "    del model, optimizer, criterion, train_dt, train_loader, lr_finder\n",
    "    gc.collect()\n",
    "    torch.cuda.empty_cache() "
   ]
  },
  {
   "cell_type": "markdown",
   "metadata": {},
   "source": [
    "# Training"
   ]
  },
  {
   "cell_type": "code",
   "execution_count": null,
   "metadata": {
    "ExecuteTime": {
     "start_time": "2021-10-21T21:39:59.731Z"
    },
    "scrolled": false
   },
   "outputs": [
    {
     "name": "stderr",
     "output_type": "stream",
     "text": [
      "wandb: WARNING Calling wandb.login() after wandb.init() has no effect.\n"
     ]
    },
    {
     "data": {
      "text/html": [
       "Finishing last run (ID:3qzlt7ke) before initializing another..."
      ],
      "text/plain": [
       "<IPython.core.display.HTML object>"
      ]
     },
     "metadata": {},
     "output_type": "display_data"
    },
    {
     "data": {
      "text/html": [
       "<br/>Waiting for W&B process to finish, PID 372264... <strong style=\"color:green\">(success).</strong>"
      ],
      "text/plain": [
       "<IPython.core.display.HTML object>"
      ]
     },
     "metadata": {},
     "output_type": "display_data"
    },
    {
     "data": {
      "text/html": [
       "<style>\n",
       "    table.wandb td:nth-child(1) { padding: 0 10px; text-align: right }\n",
       "    .wandb-row { display: flex; flex-direction: row; flex-wrap: wrap; width: 100% }\n",
       "    .wandb-col { display: flex; flex-direction: column; flex-basis: 100%; flex: 1; padding: 10px; }\n",
       "    </style>\n",
       "<div class=\"wandb-row\"><div class=\"wandb-col\">\n",
       "</div><div class=\"wandb-col\">\n",
       "</div></div>\n",
       "Synced 5 W&B file(s), 0 media file(s), 0 artifact file(s) and 0 other file(s)\n",
       "<br/>Synced <strong style=\"color:#cdcd00\">Base_Cls</strong>: <a href=\"https://wandb.ai/vincentwang25/GBVPP/runs/3qzlt7ke\" target=\"_blank\">https://wandb.ai/vincentwang25/GBVPP/runs/3qzlt7ke</a><br/>\n",
       "Find logs at: <code>./wandb/run-20211021_173645-3qzlt7ke/logs</code><br/>\n"
      ],
      "text/plain": [
       "<IPython.core.display.HTML object>"
      ]
     },
     "metadata": {},
     "output_type": "display_data"
    },
    {
     "data": {
      "text/html": [
       "Successfully finished last run (ID:3qzlt7ke). Initializing new run:<br/>"
      ],
      "text/plain": [
       "<IPython.core.display.HTML object>"
      ]
     },
     "metadata": {},
     "output_type": "display_data"
    },
    {
     "name": "stderr",
     "output_type": "stream",
     "text": [
      "wandb: wandb version 0.12.5 is available!  To upgrade, please run:\n",
      "wandb:  $ pip install wandb --upgrade\n"
     ]
    },
    {
     "data": {
      "text/html": [
       "\n",
       "                    Syncing run <strong><a href=\"https://wandb.ai/vincentwang25/GBVPP/runs/38kyxeah\" target=\"_blank\">Base_Cls</a></strong> to <a href=\"https://wandb.ai/vincentwang25/GBVPP\" target=\"_blank\">Weights & Biases</a> (<a href=\"https://docs.wandb.com/integrations/jupyter.html\" target=\"_blank\">docs</a>).<br/>\n",
       "\n",
       "                "
      ],
      "text/plain": [
       "<IPython.core.display.HTML object>"
      ]
     },
     "metadata": {},
     "output_type": "display_data"
    },
    {
     "name": "stdout",
     "output_type": "stream",
     "text": [
      "Fold:  0\n",
      "Use scale to fit train and scale valid\n",
      "Prepare train valid\n",
      "(4841200, 52) (1194800, 52)\n",
      "training data samples, val data samples:  (60515, 80, 48) (14935, 80, 48)\n",
      "Transform number into class\n",
      "Transform number into class\n",
      "Model Size: 5804660\n",
      "Epoch:  0\n",
      "Transform class into number\n",
      "loss:  4.5432, val_loss 3.8590, val_score 1.6776, best_val_score 1.6776, lr 0.00100 --- use 28.108s\n",
      "Epoch:  1\n",
      "Transform class into number\n",
      "loss:  3.6699, val_loss 3.5367, val_score 1.3239, best_val_score 1.3239, lr 0.00100 --- use 25.427s\n",
      "Epoch:  2\n",
      "Transform class into number\n",
      "loss:  3.4751, val_loss 3.4231, val_score 1.7276, best_val_score 1.3239, lr 0.00100 --- use 24.368s\n",
      "Epoch:  3\n",
      "Transform class into number\n",
      "loss:  3.3644, val_loss 3.3279, val_score 0.9268, best_val_score 0.9268, lr 0.00100 --- use 24.448s\n",
      "Epoch:  4\n",
      "Transform class into number\n",
      "loss:  3.2802, val_loss 3.2340, val_score 0.8834, best_val_score 0.8834, lr 0.00100 --- use 24.591s\n",
      "Epoch:  5\n",
      "Transform class into number\n",
      "loss:  3.2081, val_loss 3.2140, val_score 0.9263, best_val_score 0.8834, lr 0.00100 --- use 24.409s\n",
      "Epoch:  6\n",
      "Transform class into number\n",
      "loss:  3.1480, val_loss 3.1383, val_score 0.8092, best_val_score 0.8092, lr 0.00100 --- use 26.614s\n",
      "Epoch:  7\n",
      "Transform class into number\n",
      "loss:  3.1031, val_loss 3.0975, val_score 0.7643, best_val_score 0.7643, lr 0.00100 --- use 25.340s\n",
      "Epoch:  8\n",
      "Transform class into number\n",
      "loss:  3.0608, val_loss 3.0784, val_score 0.7683, best_val_score 0.7643, lr 0.00100 --- use 24.444s\n",
      "Epoch:  9\n",
      "Transform class into number\n",
      "loss:  3.0274, val_loss 3.0522, val_score 0.7367, best_val_score 0.7367, lr 0.00100 --- use 24.573s\n",
      "Epoch:  10\n",
      "Transform class into number\n",
      "loss:  2.9828, val_loss 2.9774, val_score 0.6162, best_val_score 0.6162, lr 0.00100 --- use 24.510s\n",
      "Epoch:  11\n",
      "Transform class into number\n",
      "loss:  2.9470, val_loss 2.9748, val_score 0.6445, best_val_score 0.6162, lr 0.00100 --- use 26.427s\n",
      "Epoch:  12\n",
      "Transform class into number\n",
      "loss:  2.9205, val_loss 2.9150, val_score 0.5678, best_val_score 0.5678, lr 0.00100 --- use 25.951s\n",
      "Epoch:  13\n",
      "Transform class into number\n",
      "loss:  2.8947, val_loss 2.9146, val_score 0.5598, best_val_score 0.5598, lr 0.00100 --- use 26.157s\n",
      "Epoch:  14\n",
      "Transform class into number\n",
      "loss:  2.8590, val_loss 2.8976, val_score 0.5686, best_val_score 0.5598, lr 0.00100 --- use 26.297s\n",
      "Epoch:  15\n",
      "Transform class into number\n",
      "loss:  2.8280, val_loss 2.8556, val_score 0.5285, best_val_score 0.5285, lr 0.00100 --- use 28.998s\n",
      "Epoch:  16\n",
      "Transform class into number\n",
      "loss:  2.7964, val_loss 2.8415, val_score 0.5213, best_val_score 0.5213, lr 0.00100 --- use 25.907s\n",
      "Epoch:  17\n",
      "Transform class into number\n",
      "loss:  2.7714, val_loss 2.7986, val_score 0.4806, best_val_score 0.4806, lr 0.00100 --- use 25.847s\n",
      "Epoch:  18\n",
      "Transform class into number\n",
      "loss:  2.7587, val_loss 2.7930, val_score 0.4709, best_val_score 0.4709, lr 0.00100 --- use 27.773s\n",
      "Epoch:  19\n",
      "Transform class into number\n",
      "loss:  2.7297, val_loss 2.7981, val_score 0.4765, best_val_score 0.4709, lr 0.00100 --- use 28.446s\n",
      "Epoch:  20\n",
      "Transform class into number\n",
      "loss:  2.7133, val_loss 2.7959, val_score 0.4928, best_val_score 0.4709, lr 0.00100 --- use 24.984s\n",
      "Epoch:  21\n",
      "Transform class into number\n",
      "loss:  2.6952, val_loss 2.7310, val_score 0.4501, best_val_score 0.4501, lr 0.00100 --- use 25.054s\n",
      "Epoch:  22\n",
      "Transform class into number\n",
      "loss:  2.6723, val_loss 2.7301, val_score 0.4363, best_val_score 0.4363, lr 0.00100 --- use 25.351s\n",
      "Epoch:  23\n",
      "Transform class into number\n",
      "loss:  2.6593, val_loss 2.7143, val_score 0.4379, best_val_score 0.4363, lr 0.00100 --- use 25.172s\n",
      "Epoch:  24\n",
      "Transform class into number\n",
      "loss:  2.6460, val_loss 2.7158, val_score 0.4215, best_val_score 0.4215, lr 0.00100 --- use 25.700s\n",
      "Epoch:  25\n",
      "Transform class into number\n",
      "loss:  2.6280, val_loss 2.6819, val_score 0.4130, best_val_score 0.4130, lr 0.00100 --- use 25.139s\n",
      "Epoch:  26\n",
      "Transform class into number\n",
      "loss:  2.6085, val_loss 2.6546, val_score 0.3828, best_val_score 0.3828, lr 0.00100 --- use 27.606s\n",
      "Epoch:  27\n",
      "Transform class into number\n",
      "loss:  2.5928, val_loss 2.6660, val_score 0.3916, best_val_score 0.3828, lr 0.00100 --- use 25.653s\n",
      "Epoch:  28\n",
      "Transform class into number\n",
      "loss:  2.5829, val_loss 2.6916, val_score 0.4116, best_val_score 0.3828, lr 0.00100 --- use 26.029s\n",
      "Epoch:  29\n",
      "Transform class into number\n",
      "loss:  2.5698, val_loss 2.6374, val_score 0.3762, best_val_score 0.3762, lr 0.00100 --- use 27.484s\n",
      "Epoch:  30\n",
      "Transform class into number\n",
      "loss:  2.5642, val_loss 2.6186, val_score 0.3657, best_val_score 0.3657, lr 0.00100 --- use 26.904s\n",
      "Epoch:  31\n",
      "Transform class into number\n",
      "loss:  2.5626, val_loss 2.6142, val_score 0.3626, best_val_score 0.3626, lr 0.00100 --- use 27.670s\n",
      "Epoch:  32\n",
      "Transform class into number\n",
      "loss:  2.5347, val_loss 2.6075, val_score 0.3491, best_val_score 0.3491, lr 0.00100 --- use 24.969s\n",
      "Epoch:  33\n",
      "Transform class into number\n",
      "loss:  2.5237, val_loss 2.6113, val_score 0.3550, best_val_score 0.3491, lr 0.00100 --- use 24.530s\n",
      "Epoch:  34\n",
      "Transform class into number\n",
      "loss:  2.5073, val_loss 2.6312, val_score 0.3566, best_val_score 0.3491, lr 0.00100 --- use 25.608s\n",
      "Epoch:  35\n",
      "Transform class into number\n",
      "loss:  2.4970, val_loss 2.5705, val_score 0.3101, best_val_score 0.3101, lr 0.00100 --- use 24.498s\n",
      "Epoch:  36\n",
      "Transform class into number\n",
      "loss:  2.4921, val_loss 2.5786, val_score 0.3274, best_val_score 0.3101, lr 0.00100 --- use 24.375s\n",
      "Epoch:  37\n",
      "Transform class into number\n",
      "loss:  2.4728, val_loss 2.5462, val_score 0.3048, best_val_score 0.3048, lr 0.00100 --- use 24.478s\n",
      "Epoch:  38\n",
      "Transform class into number\n",
      "loss:  2.4627, val_loss 2.5540, val_score 0.2975, best_val_score 0.2975, lr 0.00100 --- use 24.660s\n",
      "Epoch:  39\n",
      "Transform class into number\n",
      "loss:  2.4538, val_loss 2.5490, val_score 0.3000, best_val_score 0.2975, lr 0.00100 --- use 24.472s\n",
      "Epoch:  40\n",
      "Transform class into number\n",
      "loss:  2.4343, val_loss 2.5513, val_score 0.3050, best_val_score 0.2975, lr 0.00100 --- use 24.421s\n",
      "Epoch:  41\n",
      "Transform class into number\n",
      "loss:  2.4317, val_loss 2.5718, val_score 0.3131, best_val_score 0.2975, lr 0.00100 --- use 24.469s\n",
      "Epoch:  42\n",
      "Transform class into number\n",
      "loss:  2.4296, val_loss 2.5327, val_score 0.2917, best_val_score 0.2917, lr 0.00100 --- use 24.678s\n",
      "Epoch:  43\n",
      "Transform class into number\n",
      "loss:  2.4100, val_loss 2.5277, val_score 0.2914, best_val_score 0.2914, lr 0.00100 --- use 27.726s\n",
      "Epoch:  44\n",
      "Transform class into number\n",
      "loss:  2.4056, val_loss 2.5358, val_score 0.2880, best_val_score 0.2880, lr 0.00100 --- use 28.358s\n",
      "Epoch:  45\n",
      "Transform class into number\n",
      "loss:  2.3991, val_loss 2.5452, val_score 0.2999, best_val_score 0.2880, lr 0.00100 --- use 27.157s\n",
      "Epoch:  46\n",
      "Transform class into number\n",
      "loss:  2.3915, val_loss 2.5272, val_score 0.2858, best_val_score 0.2858, lr 0.00100 --- use 27.973s\n",
      "Epoch:  47\n",
      "Transform class into number\n",
      "loss:  2.3911, val_loss 2.5222, val_score 0.2834, best_val_score 0.2834, lr 0.00100 --- use 28.460s\n",
      "Epoch:  48\n",
      "Transform class into number\n",
      "loss:  2.3891, val_loss 2.5104, val_score 0.2758, best_val_score 0.2758, lr 0.00100 --- use 25.505s\n",
      "Epoch:  49\n",
      "Transform class into number\n",
      "loss:  2.3681, val_loss 2.5063, val_score 0.2802, best_val_score 0.2758, lr 0.00100 --- use 26.302s\n",
      "Epoch:  50\n",
      "Transform class into number\n",
      "loss:  2.3654, val_loss 2.5333, val_score 0.2917, best_val_score 0.2758, lr 0.00100 --- use 24.530s\n",
      "Epoch:  51\n",
      "Transform class into number\n",
      "loss:  2.3529, val_loss 2.4960, val_score 0.2633, best_val_score 0.2633, lr 0.00100 --- use 24.680s\n",
      "Epoch:  52\n",
      "Transform class into number\n",
      "loss:  2.3412, val_loss 2.5381, val_score 0.2829, best_val_score 0.2633, lr 0.00100 --- use 24.716s\n",
      "Epoch:  53\n",
      "Transform class into number\n",
      "loss:  2.3364, val_loss 2.4863, val_score 0.2638, best_val_score 0.2633, lr 0.00100 --- use 26.219s\n",
      "Epoch:  54\n",
      "Transform class into number\n",
      "loss:  2.3422, val_loss 2.5052, val_score 0.2752, best_val_score 0.2633, lr 0.00100 --- use 25.198s\n",
      "Epoch:  55\n",
      "Transform class into number\n",
      "loss:  2.3309, val_loss 2.4758, val_score 0.2614, best_val_score 0.2614, lr 0.00100 --- use 26.947s\n",
      "Epoch:  56\n",
      "Transform class into number\n",
      "loss:  2.3142, val_loss 2.5033, val_score 0.2700, best_val_score 0.2614, lr 0.00100 --- use 26.391s\n",
      "Epoch:  57\n",
      "Transform class into number\n"
     ]
    },
    {
     "name": "stdout",
     "output_type": "stream",
     "text": [
      "loss:  2.3046, val_loss 2.5029, val_score 0.2730, best_val_score 0.2614, lr 0.00100 --- use 24.769s\n",
      "Epoch:  58\n",
      "Transform class into number\n",
      "loss:  2.3035, val_loss 2.4755, val_score 0.2544, best_val_score 0.2544, lr 0.00100 --- use 24.806s\n",
      "Epoch:  59\n",
      "Transform class into number\n",
      "loss:  2.3021, val_loss 2.4979, val_score 0.2612, best_val_score 0.2544, lr 0.00100 --- use 24.383s\n",
      "Epoch:  60\n",
      "Transform class into number\n",
      "loss:  2.2834, val_loss 2.4696, val_score 0.2493, best_val_score 0.2493, lr 0.00100 --- use 24.552s\n",
      "Epoch:  61\n",
      "Transform class into number\n",
      "loss:  2.2712, val_loss 2.4788, val_score 0.2550, best_val_score 0.2493, lr 0.00100 --- use 24.413s\n",
      "Epoch:  62\n",
      "Transform class into number\n",
      "loss:  2.2680, val_loss 2.4999, val_score 0.2729, best_val_score 0.2493, lr 0.00100 --- use 24.529s\n",
      "Epoch:  63\n",
      "Transform class into number\n",
      "loss:  2.2725, val_loss 2.5082, val_score 0.2611, best_val_score 0.2493, lr 0.00100 --- use 24.393s\n",
      "Epoch:  64\n",
      "Transform class into number\n",
      "loss:  2.2542, val_loss 2.4971, val_score 0.2581, best_val_score 0.2493, lr 0.00100 --- use 24.366s\n",
      "Epoch:  65\n",
      "Transform class into number\n",
      "loss:  2.2556, val_loss 2.4945, val_score 0.2590, best_val_score 0.2493, lr 0.00100 --- use 24.488s\n",
      "Epoch:  66\n",
      "Transform class into number\n",
      "loss:  2.2461, val_loss 2.4772, val_score 0.2509, best_val_score 0.2493, lr 0.00100 --- use 24.496s\n",
      "Epoch:  67\n",
      "Transform class into number\n",
      "loss:  2.2365, val_loss 2.4763, val_score 0.2439, best_val_score 0.2439, lr 0.00100 --- use 24.545s\n",
      "Epoch:  68\n",
      "Transform class into number\n",
      "loss:  2.2339, val_loss 2.4969, val_score 0.2519, best_val_score 0.2439, lr 0.00100 --- use 24.383s\n",
      "Epoch:  69\n",
      "Transform class into number\n",
      "loss:  2.2284, val_loss 2.5013, val_score 0.2570, best_val_score 0.2439, lr 0.00100 --- use 24.464s\n",
      "Epoch:  70\n",
      "Transform class into number\n",
      "loss:  2.2231, val_loss 2.5156, val_score 0.2576, best_val_score 0.2439, lr 0.00100 --- use 24.376s\n",
      "Epoch:  71\n",
      "Transform class into number\n",
      "Epoch    72: reducing learning rate of group 0 to 5.0000e-04.\n",
      "loss:  2.2253, val_loss 2.4724, val_score 0.2437, best_val_score 0.2437, lr 0.00100 --- use 24.610s\n",
      "Epoch:  72\n",
      "Transform class into number\n",
      "loss:  2.1497, val_loss 2.4470, val_score 0.2273, best_val_score 0.2273, lr 0.00050 --- use 24.543s\n",
      "Epoch:  73\n",
      "Transform class into number\n",
      "loss:  2.1306, val_loss 2.4424, val_score 0.2240, best_val_score 0.2240, lr 0.00050 --- use 24.537s\n",
      "Epoch:  74\n",
      "Transform class into number\n",
      "loss:  2.1187, val_loss 2.4452, val_score 0.2225, best_val_score 0.2225, lr 0.00050 --- use 24.553s\n",
      "Epoch:  75\n",
      "Transform class into number\n",
      "loss:  2.1094, val_loss 2.4507, val_score 0.2214, best_val_score 0.2214, lr 0.00050 --- use 24.559s\n",
      "Epoch:  76\n",
      "Transform class into number\n",
      "loss:  2.1004, val_loss 2.4633, val_score 0.2222, best_val_score 0.2214, lr 0.00050 --- use 24.655s\n",
      "Epoch:  77\n",
      "Transform class into number\n",
      "loss:  2.0911, val_loss 2.4657, val_score 0.2204, best_val_score 0.2204, lr 0.00050 --- use 24.531s\n",
      "Epoch:  78\n",
      "Transform class into number\n",
      "loss:  2.0861, val_loss 2.4767, val_score 0.2227, best_val_score 0.2204, lr 0.00050 --- use 24.465s\n",
      "Epoch:  79\n",
      "Transform class into number\n",
      "loss:  2.0797, val_loss 2.4701, val_score 0.2180, best_val_score 0.2180, lr 0.00050 --- use 24.545s\n",
      "Epoch:  80\n",
      "Transform class into number\n",
      "loss:  2.0713, val_loss 2.4739, val_score 0.2174, best_val_score 0.2174, lr 0.00050 --- use 24.499s\n",
      "Epoch:  81\n",
      "Transform class into number\n",
      "loss:  2.0672, val_loss 2.4763, val_score 0.2176, best_val_score 0.2174, lr 0.00050 --- use 24.355s\n",
      "Epoch:  82\n",
      "Transform class into number\n",
      "loss:  2.0582, val_loss 2.4964, val_score 0.2187, best_val_score 0.2174, lr 0.00050 --- use 24.356s\n",
      "Epoch:  83\n",
      "Transform class into number\n",
      "loss:  2.0576, val_loss 2.5168, val_score 0.2232, best_val_score 0.2174, lr 0.00050 --- use 24.506s\n",
      "Epoch:  84\n",
      "Transform class into number\n",
      "Epoch    85: reducing learning rate of group 0 to 2.5000e-04.\n",
      "loss:  2.0512, val_loss 2.5017, val_score 0.2172, best_val_score 0.2172, lr 0.00050 --- use 24.601s\n",
      "Epoch:  85\n",
      "Transform class into number\n",
      "loss:  2.0086, val_loss 2.4899, val_score 0.2096, best_val_score 0.2096, lr 0.00025 --- use 24.406s\n",
      "Epoch:  86\n"
     ]
    }
   ],
   "source": [
    "train_helper.training_loop(train.copy(), config)"
   ]
  },
  {
   "cell_type": "code",
   "execution_count": null,
   "metadata": {
    "ExecuteTime": {
     "end_time": "2021-10-21T21:36:52.799772Z",
     "start_time": "2021-10-21T21:36:52.799765Z"
    }
   },
   "outputs": [],
   "source": [
    "gc.collect()\n",
    "torch.cuda.empty_cache()"
   ]
  },
  {
   "cell_type": "markdown",
   "metadata": {},
   "source": [
    "# Inference"
   ]
  },
  {
   "cell_type": "code",
   "execution_count": null,
   "metadata": {
    "ExecuteTime": {
     "end_time": "2021-10-21T21:36:52.800191Z",
     "start_time": "2021-10-21T21:36:52.800184Z"
    }
   },
   "outputs": [],
   "source": [
    "test_avg = infer_helper.get_test_avg(train.query(\"fold==0\").copy(), config, 20)"
   ]
  },
  {
   "cell_type": "code",
   "execution_count": null,
   "metadata": {
    "ExecuteTime": {
     "end_time": "2021-10-21T21:36:52.800679Z",
     "start_time": "2021-10-21T21:36:52.800673Z"
    }
   },
   "outputs": [],
   "source": [
    "test_avg"
   ]
  },
  {
   "cell_type": "code",
   "execution_count": null,
   "metadata": {
    "ExecuteTime": {
     "end_time": "2021-10-21T21:36:52.801026Z",
     "start_time": "2021-10-21T21:36:52.801019Z"
    }
   },
   "outputs": [],
   "source": [
    "train.query(\"fold==0\")['pressure']"
   ]
  },
  {
   "cell_type": "code",
   "execution_count": null,
   "metadata": {
    "ExecuteTime": {
     "end_time": "2021-10-21T21:36:52.801401Z",
     "start_time": "2021-10-21T21:36:52.801395Z"
    }
   },
   "outputs": [],
   "source": [
    "test_avg[\"pressure\"].hist(bins=100)\n",
    "plt.show()"
   ]
  },
  {
   "cell_type": "code",
   "execution_count": null,
   "metadata": {
    "ExecuteTime": {
     "end_time": "2021-10-21T21:36:52.801833Z",
     "start_time": "2021-10-21T21:36:52.801827Z"
    }
   },
   "outputs": [],
   "source": [
    "train[\"pressure\"].hist(bins=100)\n",
    "plt.show()"
   ]
  },
  {
   "cell_type": "code",
   "execution_count": null,
   "metadata": {},
   "outputs": [],
   "source": []
  }
 ],
 "metadata": {
  "kernelspec": {
   "display_name": "Python 3 (ipykernel)",
   "language": "python",
   "name": "python3"
  },
  "language_info": {
   "codemirror_mode": {
    "name": "ipython",
    "version": 3
   },
   "file_extension": ".py",
   "mimetype": "text/x-python",
   "name": "python",
   "nbconvert_exporter": "python",
   "pygments_lexer": "ipython3",
   "version": "3.8.10"
  },
  "toc": {
   "base_numbering": 1,
   "nav_menu": {},
   "number_sections": true,
   "sideBar": true,
   "skip_h1_title": false,
   "title_cell": "Table of Contents",
   "title_sidebar": "Contents",
   "toc_cell": false,
   "toc_position": {},
   "toc_section_display": true,
   "toc_window_display": false
  }
 },
 "nbformat": 4,
 "nbformat_minor": 4
}

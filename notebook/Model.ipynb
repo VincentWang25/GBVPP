{
 "cells": [
  {
   "cell_type": "code",
   "execution_count": 1,
   "metadata": {
    "ExecuteTime": {
     "end_time": "2021-10-19T02:33:48.984955Z",
     "start_time": "2021-10-19T02:33:48.966753Z"
    }
   },
   "outputs": [
    {
     "data": {
      "text/html": [
       "<style>.container { width:100% !important; }</style>"
      ],
      "text/plain": [
       "<IPython.core.display.HTML object>"
      ]
     },
     "metadata": {},
     "output_type": "display_data"
    }
   ],
   "source": [
    "%load_ext autoreload\n",
    "%autoreload 2\n",
    "\n",
    "from IPython.core.display import display, HTML\n",
    "display(HTML(\"<style>.container { width:100% !important; }</style>\"))"
   ]
  },
  {
   "cell_type": "code",
   "execution_count": 2,
   "metadata": {
    "ExecuteTime": {
     "end_time": "2021-10-19T02:33:49.175411Z",
     "start_time": "2021-10-19T02:33:49.167248Z"
    }
   },
   "outputs": [],
   "source": [
    "import os\n",
    "os.environ['CUDA_VISIBLE_DEVICES'] = '1'"
   ]
  },
  {
   "cell_type": "code",
   "execution_count": 3,
   "metadata": {
    "ExecuteTime": {
     "end_time": "2021-10-19T02:33:50.456414Z",
     "start_time": "2021-10-19T02:33:49.389997Z"
    }
   },
   "outputs": [],
   "source": [
    "import torch\n",
    "from torch.nn import DataParallel\n",
    "from torch.utils.data import DataLoader\n",
    "from torch.optim import AdamW\n",
    "\n",
    "import pandas as pd\n",
    "import numpy as np\n",
    "import matplotlib.pyplot as plt\n",
    "from sklearn.preprocessing import RobustScaler\n",
    "import gc\n",
    "\n",
    "import sys\n",
    "sys.path.append(\"../src\")\n",
    "import FE\n",
    "import dataset\n",
    "import models\n",
    "import util\n",
    "from config import read_config, update_config\n",
    "import train_helper\n",
    "import infer_helper\n",
    "import loss\n",
    "import lrfinder"
   ]
  },
  {
   "cell_type": "code",
   "execution_count": 4,
   "metadata": {
    "ExecuteTime": {
     "end_time": "2021-10-19T02:33:50.471221Z",
     "start_time": "2021-10-19T02:33:50.457529Z"
    }
   },
   "outputs": [
    {
     "name": "stdout",
     "output_type": "stream",
     "text": [
      "11.1\n"
     ]
    }
   ],
   "source": [
    "print(torch.version.cuda)"
   ]
  },
  {
   "cell_type": "markdown",
   "metadata": {},
   "source": [
    "# Config"
   ]
  },
  {
   "cell_type": "code",
   "execution_count": 5,
   "metadata": {
    "ExecuteTime": {
     "end_time": "2021-10-19T02:33:50.484483Z",
     "start_time": "2021-10-19T02:33:50.471851Z"
    }
   },
   "outputs": [],
   "source": [
    "config = read_config(\"Fork\", 0)\n",
    "config.gpu = [1]"
   ]
  },
  {
   "cell_type": "code",
   "execution_count": 6,
   "metadata": {
    "ExecuteTime": {
     "end_time": "2021-10-19T02:33:51.274217Z",
     "start_time": "2021-10-19T02:33:51.207847Z"
    }
   },
   "outputs": [
    {
     "name": "stdout",
     "output_type": "stream",
     "text": [
      "Using device: cuda\n",
      "Number of device: 1\n",
      "Model Output Folder: /home/vincent/Kaggle/GBVPP/output/fork/\n"
     ]
    }
   ],
   "source": [
    "config = update_config(config)"
   ]
  },
  {
   "cell_type": "code",
   "execution_count": 7,
   "metadata": {
    "ExecuteTime": {
     "end_time": "2021-10-19T02:33:56.928876Z",
     "start_time": "2021-10-19T02:33:51.734125Z"
    }
   },
   "outputs": [
    {
     "data": {
      "text/plain": [
       "(6036000, 9)"
      ]
     },
     "metadata": {},
     "output_type": "display_data"
    },
    {
     "data": {
      "text/plain": [
       "(4024000, 7)"
      ]
     },
     "metadata": {},
     "output_type": "display_data"
    },
    {
     "data": {
      "text/html": [
       "<div>\n",
       "<style scoped>\n",
       "    .dataframe tbody tr th:only-of-type {\n",
       "        vertical-align: middle;\n",
       "    }\n",
       "\n",
       "    .dataframe tbody tr th {\n",
       "        vertical-align: top;\n",
       "    }\n",
       "\n",
       "    .dataframe thead th {\n",
       "        text-align: right;\n",
       "    }\n",
       "</style>\n",
       "<table border=\"1\" class=\"dataframe\">\n",
       "  <thead>\n",
       "    <tr style=\"text-align: right;\">\n",
       "      <th></th>\n",
       "      <th>id</th>\n",
       "      <th>breath_id</th>\n",
       "      <th>R</th>\n",
       "      <th>C</th>\n",
       "      <th>time_step</th>\n",
       "      <th>u_in</th>\n",
       "      <th>u_out</th>\n",
       "      <th>pressure</th>\n",
       "      <th>fold</th>\n",
       "    </tr>\n",
       "  </thead>\n",
       "  <tbody>\n",
       "    <tr>\n",
       "      <th>0</th>\n",
       "      <td>1</td>\n",
       "      <td>1</td>\n",
       "      <td>20</td>\n",
       "      <td>50</td>\n",
       "      <td>0.000000</td>\n",
       "      <td>0.083334</td>\n",
       "      <td>0</td>\n",
       "      <td>5.837492</td>\n",
       "      <td>0</td>\n",
       "    </tr>\n",
       "    <tr>\n",
       "      <th>1</th>\n",
       "      <td>2</td>\n",
       "      <td>1</td>\n",
       "      <td>20</td>\n",
       "      <td>50</td>\n",
       "      <td>0.033652</td>\n",
       "      <td>18.383041</td>\n",
       "      <td>0</td>\n",
       "      <td>5.907794</td>\n",
       "      <td>0</td>\n",
       "    </tr>\n",
       "    <tr>\n",
       "      <th>2</th>\n",
       "      <td>3</td>\n",
       "      <td>1</td>\n",
       "      <td>20</td>\n",
       "      <td>50</td>\n",
       "      <td>0.067514</td>\n",
       "      <td>22.509277</td>\n",
       "      <td>0</td>\n",
       "      <td>7.876254</td>\n",
       "      <td>0</td>\n",
       "    </tr>\n",
       "    <tr>\n",
       "      <th>3</th>\n",
       "      <td>4</td>\n",
       "      <td>1</td>\n",
       "      <td>20</td>\n",
       "      <td>50</td>\n",
       "      <td>0.101542</td>\n",
       "      <td>22.808823</td>\n",
       "      <td>0</td>\n",
       "      <td>11.742872</td>\n",
       "      <td>0</td>\n",
       "    </tr>\n",
       "    <tr>\n",
       "      <th>4</th>\n",
       "      <td>5</td>\n",
       "      <td>1</td>\n",
       "      <td>20</td>\n",
       "      <td>50</td>\n",
       "      <td>0.135756</td>\n",
       "      <td>25.355850</td>\n",
       "      <td>0</td>\n",
       "      <td>12.234987</td>\n",
       "      <td>0</td>\n",
       "    </tr>\n",
       "  </tbody>\n",
       "</table>\n",
       "</div>"
      ],
      "text/plain": [
       "   id  breath_id   R   C  time_step       u_in  u_out   pressure  fold\n",
       "0   1          1  20  50   0.000000   0.083334      0   5.837492     0\n",
       "1   2          1  20  50   0.033652  18.383041      0   5.907794     0\n",
       "2   3          1  20  50   0.067514  22.509277      0   7.876254     0\n",
       "3   4          1  20  50   0.101542  22.808823      0  11.742872     0\n",
       "4   5          1  20  50   0.135756  25.355850      0  12.234987     0"
      ]
     },
     "metadata": {},
     "output_type": "display_data"
    },
    {
     "data": {
      "text/html": [
       "<div>\n",
       "<style scoped>\n",
       "    .dataframe tbody tr th:only-of-type {\n",
       "        vertical-align: middle;\n",
       "    }\n",
       "\n",
       "    .dataframe tbody tr th {\n",
       "        vertical-align: top;\n",
       "    }\n",
       "\n",
       "    .dataframe thead th {\n",
       "        text-align: right;\n",
       "    }\n",
       "</style>\n",
       "<table border=\"1\" class=\"dataframe\">\n",
       "  <thead>\n",
       "    <tr style=\"text-align: right;\">\n",
       "      <th></th>\n",
       "      <th>id</th>\n",
       "      <th>breath_id</th>\n",
       "      <th>R</th>\n",
       "      <th>C</th>\n",
       "      <th>time_step</th>\n",
       "      <th>u_in</th>\n",
       "      <th>u_out</th>\n",
       "    </tr>\n",
       "  </thead>\n",
       "  <tbody>\n",
       "    <tr>\n",
       "      <th>0</th>\n",
       "      <td>1</td>\n",
       "      <td>0</td>\n",
       "      <td>5</td>\n",
       "      <td>20</td>\n",
       "      <td>0.000000</td>\n",
       "      <td>0.000000</td>\n",
       "      <td>0</td>\n",
       "    </tr>\n",
       "    <tr>\n",
       "      <th>1</th>\n",
       "      <td>2</td>\n",
       "      <td>0</td>\n",
       "      <td>5</td>\n",
       "      <td>20</td>\n",
       "      <td>0.031904</td>\n",
       "      <td>7.515046</td>\n",
       "      <td>0</td>\n",
       "    </tr>\n",
       "    <tr>\n",
       "      <th>2</th>\n",
       "      <td>3</td>\n",
       "      <td>0</td>\n",
       "      <td>5</td>\n",
       "      <td>20</td>\n",
       "      <td>0.063827</td>\n",
       "      <td>14.651675</td>\n",
       "      <td>0</td>\n",
       "    </tr>\n",
       "    <tr>\n",
       "      <th>3</th>\n",
       "      <td>4</td>\n",
       "      <td>0</td>\n",
       "      <td>5</td>\n",
       "      <td>20</td>\n",
       "      <td>0.095751</td>\n",
       "      <td>21.230610</td>\n",
       "      <td>0</td>\n",
       "    </tr>\n",
       "    <tr>\n",
       "      <th>4</th>\n",
       "      <td>5</td>\n",
       "      <td>0</td>\n",
       "      <td>5</td>\n",
       "      <td>20</td>\n",
       "      <td>0.127644</td>\n",
       "      <td>26.320955</td>\n",
       "      <td>0</td>\n",
       "    </tr>\n",
       "  </tbody>\n",
       "</table>\n",
       "</div>"
      ],
      "text/plain": [
       "   id  breath_id  R   C  time_step       u_in  u_out\n",
       "0   1          0  5  20   0.000000   0.000000      0\n",
       "1   2          0  5  20   0.031904   7.515046      0\n",
       "2   3          0  5  20   0.063827  14.651675      0\n",
       "3   4          0  5  20   0.095751  21.230610      0\n",
       "4   5          0  5  20   0.127644  26.320955      0"
      ]
     },
     "metadata": {},
     "output_type": "display_data"
    }
   ],
   "source": [
    "train, test = dataset.read_data(config)\n",
    "display(train.shape, test.shape)\n",
    "display(train.head())\n",
    "display(test.head())"
   ]
  },
  {
   "cell_type": "markdown",
   "metadata": {},
   "source": [
    "# adding features"
   ]
  },
  {
   "cell_type": "code",
   "execution_count": 9,
   "metadata": {
    "ExecuteTime": {
     "end_time": "2021-10-19T02:34:42.508008Z",
     "start_time": "2021-10-19T02:34:03.344884Z"
    }
   },
   "outputs": [],
   "source": [
    "train = FE.add_features_choice(train, config)\n",
    "test = FE.add_features_choice(test, config)"
   ]
  },
  {
   "cell_type": "code",
   "execution_count": 10,
   "metadata": {
    "ExecuteTime": {
     "end_time": "2021-10-19T02:34:42.521947Z",
     "start_time": "2021-10-19T02:34:42.509133Z"
    }
   },
   "outputs": [
    {
     "name": "stdout",
     "output_type": "stream",
     "text": [
      "['time_step', 'u_in', 'u_out', 'area', 'u_in_cumsum', 'u_in_lag2', 'u_in_lag4', 'R_20', 'R_5', 'R_50', 'C_10', 'C_20', 'C_50', 'ewm_u_in_mean', 'ewm_u_in_std', 'ewm_u_in_corr', 'rolling_10_mean', 'rolling_10_max', 'rolling_10_std', 'expand_mean', 'expand_max', 'expand_std']\n"
     ]
    }
   ],
   "source": [
    "feature_cols = [col for col in train.columns if col not in [\"id\", \"breath_id\", \"fold\", \"pressure\"]]\n",
    "print(feature_cols)"
   ]
  },
  {
   "cell_type": "code",
   "execution_count": 11,
   "metadata": {
    "ExecuteTime": {
     "end_time": "2021-10-19T02:34:42.556424Z",
     "start_time": "2021-10-19T02:34:42.522813Z"
    }
   },
   "outputs": [
    {
     "data": {
      "text/html": [
       "<div>\n",
       "<style scoped>\n",
       "    .dataframe tbody tr th:only-of-type {\n",
       "        vertical-align: middle;\n",
       "    }\n",
       "\n",
       "    .dataframe tbody tr th {\n",
       "        vertical-align: top;\n",
       "    }\n",
       "\n",
       "    .dataframe thead th {\n",
       "        text-align: right;\n",
       "    }\n",
       "</style>\n",
       "<table border=\"1\" class=\"dataframe\">\n",
       "  <thead>\n",
       "    <tr style=\"text-align: right;\">\n",
       "      <th></th>\n",
       "      <th>id</th>\n",
       "      <th>breath_id</th>\n",
       "      <th>time_step</th>\n",
       "      <th>u_in</th>\n",
       "      <th>u_out</th>\n",
       "      <th>pressure</th>\n",
       "      <th>fold</th>\n",
       "      <th>area</th>\n",
       "      <th>u_in_cumsum</th>\n",
       "      <th>u_in_lag2</th>\n",
       "      <th>...</th>\n",
       "      <th>C_50</th>\n",
       "      <th>ewm_u_in_mean</th>\n",
       "      <th>ewm_u_in_std</th>\n",
       "      <th>ewm_u_in_corr</th>\n",
       "      <th>rolling_10_mean</th>\n",
       "      <th>rolling_10_max</th>\n",
       "      <th>rolling_10_std</th>\n",
       "      <th>expand_mean</th>\n",
       "      <th>expand_max</th>\n",
       "      <th>expand_std</th>\n",
       "    </tr>\n",
       "  </thead>\n",
       "  <tbody>\n",
       "    <tr>\n",
       "      <th>0</th>\n",
       "      <td>1</td>\n",
       "      <td>1</td>\n",
       "      <td>0.000000</td>\n",
       "      <td>0.083334</td>\n",
       "      <td>0</td>\n",
       "      <td>5.837492</td>\n",
       "      <td>0</td>\n",
       "      <td>0.000000</td>\n",
       "      <td>0.083334</td>\n",
       "      <td>0.000000</td>\n",
       "      <td>...</td>\n",
       "      <td>1</td>\n",
       "      <td>0.083334</td>\n",
       "      <td>0.000000</td>\n",
       "      <td>0.0</td>\n",
       "      <td>0.083334</td>\n",
       "      <td>0.083334</td>\n",
       "      <td>0.000000</td>\n",
       "      <td>0.000000</td>\n",
       "      <td>0.000000</td>\n",
       "      <td>0.000000</td>\n",
       "    </tr>\n",
       "    <tr>\n",
       "      <th>1</th>\n",
       "      <td>2</td>\n",
       "      <td>1</td>\n",
       "      <td>0.033652</td>\n",
       "      <td>18.383041</td>\n",
       "      <td>0</td>\n",
       "      <td>5.907794</td>\n",
       "      <td>0</td>\n",
       "      <td>0.618632</td>\n",
       "      <td>18.466375</td>\n",
       "      <td>0.000000</td>\n",
       "      <td>...</td>\n",
       "      <td>1</td>\n",
       "      <td>9.550171</td>\n",
       "      <td>12.939847</td>\n",
       "      <td>1.0</td>\n",
       "      <td>9.233188</td>\n",
       "      <td>18.383041</td>\n",
       "      <td>12.939847</td>\n",
       "      <td>9.233188</td>\n",
       "      <td>18.383041</td>\n",
       "      <td>12.939847</td>\n",
       "    </tr>\n",
       "    <tr>\n",
       "      <th>2</th>\n",
       "      <td>3</td>\n",
       "      <td>1</td>\n",
       "      <td>0.067514</td>\n",
       "      <td>22.509277</td>\n",
       "      <td>0</td>\n",
       "      <td>7.876254</td>\n",
       "      <td>0</td>\n",
       "      <td>2.138332</td>\n",
       "      <td>40.975655</td>\n",
       "      <td>0.083334</td>\n",
       "      <td>...</td>\n",
       "      <td>1</td>\n",
       "      <td>14.172507</td>\n",
       "      <td>11.777738</td>\n",
       "      <td>1.0</td>\n",
       "      <td>13.658551</td>\n",
       "      <td>22.509277</td>\n",
       "      <td>11.936136</td>\n",
       "      <td>13.658551</td>\n",
       "      <td>22.509277</td>\n",
       "      <td>11.936136</td>\n",
       "    </tr>\n",
       "    <tr>\n",
       "      <th>3</th>\n",
       "      <td>4</td>\n",
       "      <td>1</td>\n",
       "      <td>0.101542</td>\n",
       "      <td>22.808823</td>\n",
       "      <td>0</td>\n",
       "      <td>11.742872</td>\n",
       "      <td>0</td>\n",
       "      <td>4.454391</td>\n",
       "      <td>63.784477</td>\n",
       "      <td>18.383041</td>\n",
       "      <td>...</td>\n",
       "      <td>1</td>\n",
       "      <td>16.560977</td>\n",
       "      <td>10.448647</td>\n",
       "      <td>1.0</td>\n",
       "      <td>15.946119</td>\n",
       "      <td>22.808823</td>\n",
       "      <td>10.766279</td>\n",
       "      <td>15.946119</td>\n",
       "      <td>22.808823</td>\n",
       "      <td>10.766279</td>\n",
       "    </tr>\n",
       "    <tr>\n",
       "      <th>4</th>\n",
       "      <td>5</td>\n",
       "      <td>1</td>\n",
       "      <td>0.135756</td>\n",
       "      <td>25.355850</td>\n",
       "      <td>0</td>\n",
       "      <td>12.234987</td>\n",
       "      <td>0</td>\n",
       "      <td>7.896588</td>\n",
       "      <td>89.140327</td>\n",
       "      <td>22.509277</td>\n",
       "      <td>...</td>\n",
       "      <td>1</td>\n",
       "      <td>18.571834</td>\n",
       "      <td>9.801731</td>\n",
       "      <td>1.0</td>\n",
       "      <td>17.828065</td>\n",
       "      <td>25.355850</td>\n",
       "      <td>10.229525</td>\n",
       "      <td>17.828065</td>\n",
       "      <td>25.355850</td>\n",
       "      <td>10.229525</td>\n",
       "    </tr>\n",
       "  </tbody>\n",
       "</table>\n",
       "<p>5 rows × 26 columns</p>\n",
       "</div>"
      ],
      "text/plain": [
       "   id  breath_id  time_step       u_in  u_out   pressure  fold      area  \\\n",
       "0   1          1   0.000000   0.083334      0   5.837492     0  0.000000   \n",
       "1   2          1   0.033652  18.383041      0   5.907794     0  0.618632   \n",
       "2   3          1   0.067514  22.509277      0   7.876254     0  2.138332   \n",
       "3   4          1   0.101542  22.808823      0  11.742872     0  4.454391   \n",
       "4   5          1   0.135756  25.355850      0  12.234987     0  7.896588   \n",
       "\n",
       "   u_in_cumsum  u_in_lag2  ...  C_50  ewm_u_in_mean  ewm_u_in_std  \\\n",
       "0     0.083334   0.000000  ...     1       0.083334      0.000000   \n",
       "1    18.466375   0.000000  ...     1       9.550171     12.939847   \n",
       "2    40.975655   0.083334  ...     1      14.172507     11.777738   \n",
       "3    63.784477  18.383041  ...     1      16.560977     10.448647   \n",
       "4    89.140327  22.509277  ...     1      18.571834      9.801731   \n",
       "\n",
       "   ewm_u_in_corr  rolling_10_mean  rolling_10_max  rolling_10_std  \\\n",
       "0            0.0         0.083334        0.083334        0.000000   \n",
       "1            1.0         9.233188       18.383041       12.939847   \n",
       "2            1.0        13.658551       22.509277       11.936136   \n",
       "3            1.0        15.946119       22.808823       10.766279   \n",
       "4            1.0        17.828065       25.355850       10.229525   \n",
       "\n",
       "   expand_mean  expand_max  expand_std  \n",
       "0     0.000000    0.000000    0.000000  \n",
       "1     9.233188   18.383041   12.939847  \n",
       "2    13.658551   22.509277   11.936136  \n",
       "3    15.946119   22.808823   10.766279  \n",
       "4    17.828065   25.355850   10.229525  \n",
       "\n",
       "[5 rows x 26 columns]"
      ]
     },
     "metadata": {},
     "output_type": "display_data"
    },
    {
     "data": {
      "text/html": [
       "<div>\n",
       "<style scoped>\n",
       "    .dataframe tbody tr th:only-of-type {\n",
       "        vertical-align: middle;\n",
       "    }\n",
       "\n",
       "    .dataframe tbody tr th {\n",
       "        vertical-align: top;\n",
       "    }\n",
       "\n",
       "    .dataframe thead th {\n",
       "        text-align: right;\n",
       "    }\n",
       "</style>\n",
       "<table border=\"1\" class=\"dataframe\">\n",
       "  <thead>\n",
       "    <tr style=\"text-align: right;\">\n",
       "      <th></th>\n",
       "      <th>id</th>\n",
       "      <th>breath_id</th>\n",
       "      <th>time_step</th>\n",
       "      <th>u_in</th>\n",
       "      <th>u_out</th>\n",
       "      <th>area</th>\n",
       "      <th>u_in_cumsum</th>\n",
       "      <th>u_in_lag2</th>\n",
       "      <th>u_in_lag4</th>\n",
       "      <th>R_20</th>\n",
       "      <th>...</th>\n",
       "      <th>C_50</th>\n",
       "      <th>ewm_u_in_mean</th>\n",
       "      <th>ewm_u_in_std</th>\n",
       "      <th>ewm_u_in_corr</th>\n",
       "      <th>rolling_10_mean</th>\n",
       "      <th>rolling_10_max</th>\n",
       "      <th>rolling_10_std</th>\n",
       "      <th>expand_mean</th>\n",
       "      <th>expand_max</th>\n",
       "      <th>expand_std</th>\n",
       "    </tr>\n",
       "  </thead>\n",
       "  <tbody>\n",
       "    <tr>\n",
       "      <th>0</th>\n",
       "      <td>1</td>\n",
       "      <td>0</td>\n",
       "      <td>0.000000</td>\n",
       "      <td>0.000000</td>\n",
       "      <td>0</td>\n",
       "      <td>0.000000</td>\n",
       "      <td>0.000000</td>\n",
       "      <td>0.000000</td>\n",
       "      <td>0.0</td>\n",
       "      <td>0</td>\n",
       "      <td>...</td>\n",
       "      <td>0</td>\n",
       "      <td>0.000000</td>\n",
       "      <td>0.000000</td>\n",
       "      <td>0.0</td>\n",
       "      <td>0.000000</td>\n",
       "      <td>0.000000</td>\n",
       "      <td>0.000000</td>\n",
       "      <td>0.000000</td>\n",
       "      <td>0.000000</td>\n",
       "      <td>0.000000</td>\n",
       "    </tr>\n",
       "    <tr>\n",
       "      <th>1</th>\n",
       "      <td>2</td>\n",
       "      <td>0</td>\n",
       "      <td>0.031904</td>\n",
       "      <td>7.515046</td>\n",
       "      <td>0</td>\n",
       "      <td>0.239758</td>\n",
       "      <td>7.515046</td>\n",
       "      <td>0.000000</td>\n",
       "      <td>0.0</td>\n",
       "      <td>0</td>\n",
       "      <td>...</td>\n",
       "      <td>0</td>\n",
       "      <td>3.887697</td>\n",
       "      <td>5.313940</td>\n",
       "      <td>1.0</td>\n",
       "      <td>3.757523</td>\n",
       "      <td>7.515046</td>\n",
       "      <td>5.313940</td>\n",
       "      <td>3.757523</td>\n",
       "      <td>7.515046</td>\n",
       "      <td>5.313940</td>\n",
       "    </tr>\n",
       "    <tr>\n",
       "      <th>2</th>\n",
       "      <td>3</td>\n",
       "      <td>0</td>\n",
       "      <td>0.063827</td>\n",
       "      <td>14.651675</td>\n",
       "      <td>0</td>\n",
       "      <td>1.174935</td>\n",
       "      <td>22.166721</td>\n",
       "      <td>0.000000</td>\n",
       "      <td>0.0</td>\n",
       "      <td>0</td>\n",
       "      <td>...</td>\n",
       "      <td>0</td>\n",
       "      <td>7.727061</td>\n",
       "      <td>7.319352</td>\n",
       "      <td>1.0</td>\n",
       "      <td>7.388907</td>\n",
       "      <td>14.651675</td>\n",
       "      <td>7.326652</td>\n",
       "      <td>7.388907</td>\n",
       "      <td>14.651675</td>\n",
       "      <td>7.326652</td>\n",
       "    </tr>\n",
       "    <tr>\n",
       "      <th>3</th>\n",
       "      <td>4</td>\n",
       "      <td>0</td>\n",
       "      <td>0.095751</td>\n",
       "      <td>21.230610</td>\n",
       "      <td>0</td>\n",
       "      <td>3.207788</td>\n",
       "      <td>43.397331</td>\n",
       "      <td>7.515046</td>\n",
       "      <td>0.0</td>\n",
       "      <td>0</td>\n",
       "      <td>...</td>\n",
       "      <td>0</td>\n",
       "      <td>11.461619</td>\n",
       "      <td>9.121700</td>\n",
       "      <td>1.0</td>\n",
       "      <td>10.849333</td>\n",
       "      <td>21.230610</td>\n",
       "      <td>9.147936</td>\n",
       "      <td>10.849333</td>\n",
       "      <td>21.230610</td>\n",
       "      <td>9.147936</td>\n",
       "    </tr>\n",
       "    <tr>\n",
       "      <th>4</th>\n",
       "      <td>5</td>\n",
       "      <td>0</td>\n",
       "      <td>0.127644</td>\n",
       "      <td>26.320955</td>\n",
       "      <td>0</td>\n",
       "      <td>6.567489</td>\n",
       "      <td>69.718285</td>\n",
       "      <td>14.651675</td>\n",
       "      <td>0.0</td>\n",
       "      <td>0</td>\n",
       "      <td>...</td>\n",
       "      <td>0</td>\n",
       "      <td>14.859053</td>\n",
       "      <td>10.439696</td>\n",
       "      <td>1.0</td>\n",
       "      <td>13.943657</td>\n",
       "      <td>26.320955</td>\n",
       "      <td>10.518449</td>\n",
       "      <td>13.943657</td>\n",
       "      <td>26.320955</td>\n",
       "      <td>10.518449</td>\n",
       "    </tr>\n",
       "  </tbody>\n",
       "</table>\n",
       "<p>5 rows × 24 columns</p>\n",
       "</div>"
      ],
      "text/plain": [
       "   id  breath_id  time_step       u_in  u_out      area  u_in_cumsum  \\\n",
       "0   1          0   0.000000   0.000000      0  0.000000     0.000000   \n",
       "1   2          0   0.031904   7.515046      0  0.239758     7.515046   \n",
       "2   3          0   0.063827  14.651675      0  1.174935    22.166721   \n",
       "3   4          0   0.095751  21.230610      0  3.207788    43.397331   \n",
       "4   5          0   0.127644  26.320955      0  6.567489    69.718285   \n",
       "\n",
       "   u_in_lag2  u_in_lag4  R_20  ...  C_50  ewm_u_in_mean  ewm_u_in_std  \\\n",
       "0   0.000000        0.0     0  ...     0       0.000000      0.000000   \n",
       "1   0.000000        0.0     0  ...     0       3.887697      5.313940   \n",
       "2   0.000000        0.0     0  ...     0       7.727061      7.319352   \n",
       "3   7.515046        0.0     0  ...     0      11.461619      9.121700   \n",
       "4  14.651675        0.0     0  ...     0      14.859053     10.439696   \n",
       "\n",
       "   ewm_u_in_corr  rolling_10_mean  rolling_10_max  rolling_10_std  \\\n",
       "0            0.0         0.000000        0.000000        0.000000   \n",
       "1            1.0         3.757523        7.515046        5.313940   \n",
       "2            1.0         7.388907       14.651675        7.326652   \n",
       "3            1.0        10.849333       21.230610        9.147936   \n",
       "4            1.0        13.943657       26.320955       10.518449   \n",
       "\n",
       "   expand_mean  expand_max  expand_std  \n",
       "0     0.000000    0.000000    0.000000  \n",
       "1     3.757523    7.515046    5.313940  \n",
       "2     7.388907   14.651675    7.326652  \n",
       "3    10.849333   21.230610    9.147936  \n",
       "4    13.943657   26.320955   10.518449  \n",
       "\n",
       "[5 rows x 24 columns]"
      ]
     },
     "metadata": {},
     "output_type": "display_data"
    },
    {
     "data": {
      "text/plain": [
       "(None, None)"
      ]
     },
     "execution_count": 11,
     "metadata": {},
     "output_type": "execute_result"
    }
   ],
   "source": [
    "display(train.head()), display(test.head())"
   ]
  },
  {
   "cell_type": "markdown",
   "metadata": {},
   "source": [
    "# Learning Rate Finder"
   ]
  },
  {
   "cell_type": "code",
   "execution_count": 12,
   "metadata": {
    "ExecuteTime": {
     "end_time": "2021-10-19T02:34:42.570393Z",
     "start_time": "2021-10-19T02:34:42.557587Z"
    }
   },
   "outputs": [],
   "source": [
    "if config.use_lr_finder:\n",
    "    # data\n",
    "    rs = RobustScaler(quantile_range=(config.low_q, config.high_q), unit_variance=config.unit_var)\n",
    "    X_train = rs.fit_transform(train[feature_cols])\n",
    "    X_train = X_train.reshape(-1, 80, len(feature_cols))\n",
    "    y_train = train['pressure'].values.reshape(-1, 80)\n",
    "    w_train = (1 - train['u_out']).values.reshape(-1, 80)\n",
    "    train_dt = dataset.LR_VPP(X_train, y_train, w_train)\n",
    "    train_loader = DataLoader(train_dt,\n",
    "                              batch_size=config.batch_size,\n",
    "                              shuffle=True,\n",
    "                              num_workers=config.num_workers, pin_memory=True, drop_last=False)"
   ]
  },
  {
   "cell_type": "code",
   "execution_count": 13,
   "metadata": {
    "ExecuteTime": {
     "end_time": "2021-10-19T02:34:42.588467Z",
     "start_time": "2021-10-19T02:34:42.571563Z"
    }
   },
   "outputs": [],
   "source": [
    "if config.use_lr_finder:\n",
    "    # model\n",
    "    model = models.Model(len(feature_cols),config)\n",
    "    model.to(config.device)\n",
    "    if len(config.gpu) > 1:\n",
    "        model = DataParallel(model)\n",
    "    optimizer = AdamW(model.parameters(), lr=1e-6, eps=1e-08, weight_decay=config.weight_decay, amsgrad=False)\n",
    "    criterion = loss.cal_mae_loss"
   ]
  },
  {
   "cell_type": "code",
   "execution_count": 14,
   "metadata": {
    "ExecuteTime": {
     "end_time": "2021-10-19T02:34:42.601445Z",
     "start_time": "2021-10-19T02:34:42.589239Z"
    },
    "scrolled": true
   },
   "outputs": [],
   "source": [
    "if config.use_lr_finder:\n",
    "    lr_finder = lrfinder.LRFinder(model, optimizer, criterion, config.device)\n",
    "    lrs, losses = lr_finder.range_test(train_loader, end_lr=10, num_iter=100, smooth_f=0.05, diverge_th=5)    \n",
    "    lrfinder.plot_lr_finder(lrs, losses)"
   ]
  },
  {
   "cell_type": "code",
   "execution_count": 15,
   "metadata": {
    "ExecuteTime": {
     "end_time": "2021-10-19T02:34:42.614713Z",
     "start_time": "2021-10-19T02:34:42.602193Z"
    }
   },
   "outputs": [],
   "source": [
    "if config.use_lr_finder:\n",
    "    del model, optimizer, criterion, train_dt, train_loader, lr_finder\n",
    "    gc.collect()\n",
    "    torch.cuda.empty_cache() "
   ]
  },
  {
   "cell_type": "markdown",
   "metadata": {},
   "source": [
    "# Training"
   ]
  },
  {
   "cell_type": "code",
   "execution_count": null,
   "metadata": {
    "ExecuteTime": {
     "start_time": "2021-10-19T02:35:32.790Z"
    }
   },
   "outputs": [
    {
     "name": "stdout",
     "output_type": "stream",
     "text": [
      "Fold:  0\n",
      "Unsctrict scale - leakage..\n",
      "training data samples, val data samples:  (60515, 80, 22) (14935, 80, 22)\n",
      "Model Size: 5696501\n",
      "Epoch:  0\n",
      "loss:  2.5649, val_loss 1.3122, val_score 1.3134, best_val_score 1.3134, lr 0.00100 --- use 19.688s\n",
      "Epoch:  1\n",
      "loss:  1.2061, val_loss 1.1480, val_score 1.1485, best_val_score 1.1485, lr 0.00100 --- use 19.587s\n",
      "Epoch:  2\n",
      "loss:  1.0629, val_loss 0.9692, val_score 0.9702, best_val_score 0.9702, lr 0.00100 --- use 19.730s\n",
      "Epoch:  3\n",
      "loss:  0.9511, val_loss 0.8289, val_score 0.8289, best_val_score 0.8289, lr 0.00100 --- use 19.860s\n",
      "Epoch:  4\n",
      "loss:  0.8102, val_loss 0.6947, val_score 0.6953, best_val_score 0.6953, lr 0.00100 --- use 19.891s\n",
      "Epoch:  5\n",
      "loss:  0.6864, val_loss 0.6578, val_score 0.6579, best_val_score 0.6579, lr 0.00100 --- use 19.843s\n",
      "Epoch:  6\n",
      "loss:  0.6521, val_loss 0.6273, val_score 0.6278, best_val_score 0.6278, lr 0.00100 --- use 19.772s\n",
      "Epoch:  7\n",
      "loss:  0.6065, val_loss 0.6030, val_score 0.6034, best_val_score 0.6034, lr 0.00100 --- use 19.833s\n",
      "Epoch:  8\n",
      "loss:  0.5896, val_loss 0.6109, val_score 0.6106, best_val_score 0.6034, lr 0.00100 --- use 19.867s\n",
      "Epoch:  9\n",
      "loss:  0.5798, val_loss 0.5202, val_score 0.5202, best_val_score 0.5202, lr 0.00100 --- use 19.738s\n",
      "Epoch:  10\n",
      "loss:  0.5443, val_loss 0.4965, val_score 0.4966, best_val_score 0.4966, lr 0.00100 --- use 19.749s\n",
      "Epoch:  11\n",
      "loss:  0.4993, val_loss 0.5049, val_score 0.5050, best_val_score 0.4966, lr 0.00100 --- use 19.516s\n",
      "Epoch:  12\n",
      "loss:  0.5058, val_loss 0.5173, val_score 0.5174, best_val_score 0.4966, lr 0.00100 --- use 19.557s\n",
      "Epoch:  13\n",
      "loss:  0.4773, val_loss 0.5130, val_score 0.5129, best_val_score 0.4966, lr 0.00100 --- use 19.629s\n",
      "Epoch:  14\n",
      "loss:  0.4678, val_loss 0.4686, val_score 0.4687, best_val_score 0.4687, lr 0.00100 --- use 19.677s\n",
      "Epoch:  15\n",
      "loss:  0.4645, val_loss 0.4646, val_score 0.4648, best_val_score 0.4648, lr 0.00100 --- use 19.943s\n",
      "Epoch:  16\n",
      "loss:  0.4691, val_loss 0.4741, val_score 0.4742, best_val_score 0.4648, lr 0.00100 --- use 19.663s\n",
      "Epoch:  17\n",
      "loss:  0.4897, val_loss 0.5305, val_score 0.5303, best_val_score 0.4648, lr 0.00100 --- use 19.623s\n",
      "Epoch:  18\n",
      "loss:  0.4539, val_loss 0.4247, val_score 0.4245, best_val_score 0.4245, lr 0.00100 --- use 19.784s\n",
      "Epoch:  19\n",
      "loss:  0.4275, val_loss 0.4422, val_score 0.4420, best_val_score 0.4245, lr 0.00100 --- use 19.576s\n",
      "Epoch:  20\n",
      "loss:  0.4168, val_loss 0.4118, val_score 0.4115, best_val_score 0.4115, lr 0.00100 --- use 19.709s\n",
      "Epoch:  21\n",
      "loss:  0.4074, val_loss 0.4206, val_score 0.4203, best_val_score 0.4115, lr 0.00100 --- use 19.634s\n",
      "Epoch:  22\n",
      "loss:  0.4181, val_loss 0.4852, val_score 0.4852, best_val_score 0.4115, lr 0.00100 --- use 19.758s\n",
      "Epoch:  23\n",
      "loss:  0.4261, val_loss 0.4549, val_score 0.4544, best_val_score 0.4115, lr 0.00100 --- use 19.579s\n",
      "Epoch:  24\n",
      "loss:  0.4061, val_loss 0.3966, val_score 0.3964, best_val_score 0.3964, lr 0.00100 --- use 19.672s\n",
      "Epoch:  25\n",
      "loss:  0.3829, val_loss 0.3801, val_score 0.3799, best_val_score 0.3799, lr 0.00100 --- use 19.698s\n",
      "Epoch:  26\n",
      "loss:  0.3909, val_loss 0.4274, val_score 0.4275, best_val_score 0.3799, lr 0.00100 --- use 19.686s\n",
      "Epoch:  27\n",
      "loss:  0.3898, val_loss 0.4583, val_score 0.4582, best_val_score 0.3799, lr 0.00100 --- use 19.757s\n",
      "Epoch:  28\n",
      "loss:  0.3980, val_loss 0.4023, val_score 0.4021, best_val_score 0.3799, lr 0.00100 --- use 19.683s\n",
      "Epoch:  29\n",
      "loss:  0.4076, val_loss 0.4159, val_score 0.4157, best_val_score 0.3799, lr 0.00100 --- use 19.649s\n",
      "Epoch:  30\n",
      "loss:  0.3792, val_loss 0.4002, val_score 0.4002, best_val_score 0.3799, lr 0.00100 --- use 19.663s\n",
      "Epoch:  31\n",
      "loss:  0.3630, val_loss 0.3747, val_score 0.3745, best_val_score 0.3745, lr 0.00100 --- use 19.868s\n",
      "Epoch:  32\n",
      "loss:  0.3455, val_loss 0.3490, val_score 0.3490, best_val_score 0.3490, lr 0.00100 --- use 19.797s\n",
      "Epoch:  33\n",
      "loss:  0.3809, val_loss 0.3808, val_score 0.3809, best_val_score 0.3490, lr 0.00100 --- use 19.790s\n",
      "Epoch:  34\n",
      "loss:  0.3552, val_loss 0.3596, val_score 0.3596, best_val_score 0.3490, lr 0.00100 --- use 19.576s\n",
      "Epoch:  35\n",
      "loss:  0.3498, val_loss 0.3743, val_score 0.3741, best_val_score 0.3490, lr 0.00100 --- use 19.764s\n",
      "Epoch:  36\n",
      "loss:  0.3693, val_loss 0.3654, val_score 0.3652, best_val_score 0.3490, lr 0.00100 --- use 19.649s\n",
      "Epoch:  37\n",
      "loss:  0.3682, val_loss 0.3918, val_score 0.3917, best_val_score 0.3490, lr 0.00100 --- use 19.616s\n",
      "Epoch:  38\n",
      "loss:  0.3606, val_loss 0.3675, val_score 0.3677, best_val_score 0.3490, lr 0.00100 --- use 19.856s\n",
      "Epoch:  39\n",
      "loss:  0.3331, val_loss 0.3743, val_score 0.3744, best_val_score 0.3490, lr 0.00100 --- use 19.728s\n",
      "Epoch:  40\n"
     ]
    }
   ],
   "source": [
    "train_helper.training_loop(train.copy(), config)"
   ]
  },
  {
   "cell_type": "code",
   "execution_count": 35,
   "metadata": {
    "ExecuteTime": {
     "end_time": "2021-10-19T02:31:40.064257Z",
     "start_time": "2021-10-19T02:31:39.927884Z"
    }
   },
   "outputs": [],
   "source": [
    "gc.collect()\n",
    "torch.cuda.empty_cache()"
   ]
  },
  {
   "cell_type": "markdown",
   "metadata": {},
   "source": [
    "# Inference"
   ]
  },
  {
   "cell_type": "code",
   "execution_count": 22,
   "metadata": {
    "ExecuteTime": {
     "end_time": "2021-10-17T03:22:58.753481Z",
     "start_time": "2021-10-17T03:22:57.571537Z"
    }
   },
   "outputs": [
    {
     "name": "stderr",
     "output_type": "stream",
     "text": [
      "100%|██████████████████████████████████████████████████████████████████████| 1/1 [00:00<00:00,  1.17it/s]\n"
     ]
    },
    {
     "name": "stdout",
     "output_type": "stream",
     "text": [
      "count    1.024000e+05\n",
      "mean     9.999978e-01\n",
      "std      7.522517e-07\n",
      "min      9.999932e-01\n",
      "25%      9.999974e-01\n",
      "50%      9.999976e-01\n",
      "75%      9.999983e-01\n",
      "max      9.999993e-01\n",
      "Name: pressure, dtype: float64\n",
      "test file saved to: ../output/debug//submission.csv\n"
     ]
    }
   ],
   "source": [
    "test_avg = infer_helper.get_test_avg(test, config)"
   ]
  },
  {
   "cell_type": "code",
   "execution_count": null,
   "metadata": {},
   "outputs": [],
   "source": []
  }
 ],
 "metadata": {
  "kernelspec": {
   "display_name": "Python 3 (ipykernel)",
   "language": "python",
   "name": "python3"
  },
  "language_info": {
   "codemirror_mode": {
    "name": "ipython",
    "version": 3
   },
   "file_extension": ".py",
   "mimetype": "text/x-python",
   "name": "python",
   "nbconvert_exporter": "python",
   "pygments_lexer": "ipython3",
   "version": "3.8.10"
  },
  "toc": {
   "base_numbering": 1,
   "nav_menu": {},
   "number_sections": true,
   "sideBar": true,
   "skip_h1_title": false,
   "title_cell": "Table of Contents",
   "title_sidebar": "Contents",
   "toc_cell": false,
   "toc_position": {},
   "toc_section_display": true,
   "toc_window_display": false
  }
 },
 "nbformat": 4,
 "nbformat_minor": 4
}

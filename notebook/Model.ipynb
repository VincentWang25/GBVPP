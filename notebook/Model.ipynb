{
 "cells": [
  {
   "cell_type": "code",
   "execution_count": 1,
   "metadata": {
    "ExecuteTime": {
     "end_time": "2021-10-17T03:17:03.168112Z",
     "start_time": "2021-10-17T03:17:03.153187Z"
    }
   },
   "outputs": [
    {
     "data": {
      "text/html": [
       "<style>.container { width:100% !important; }</style>"
      ],
      "text/plain": [
       "<IPython.core.display.HTML object>"
      ]
     },
     "metadata": {},
     "output_type": "display_data"
    }
   ],
   "source": [
    "%load_ext autoreload\n",
    "%autoreload 2\n",
    "\n",
    "from IPython.core.display import display, HTML\n",
    "display(HTML(\"<style>.container { width:100% !important; }</style>\"))"
   ]
  },
  {
   "cell_type": "code",
   "execution_count": 2,
   "metadata": {
    "ExecuteTime": {
     "end_time": "2021-10-17T03:17:04.469075Z",
     "start_time": "2021-10-17T03:17:03.414298Z"
    }
   },
   "outputs": [],
   "source": [
    "import torch\n",
    "from torch.nn import DataParallel\n",
    "from torch.utils.data import DataLoader\n",
    "from torch.optim import AdamW\n",
    "\n",
    "import pandas as pd\n",
    "import numpy as np\n",
    "import matplotlib.pyplot as plt\n",
    "from sklearn.preprocessing import RobustScaler\n",
    "import gc\n",
    "\n",
    "import sys\n",
    "sys.path.append(\"../src\")\n",
    "import FE\n",
    "import dataset\n",
    "import models\n",
    "import util\n",
    "from config import read_config, updateConfig\n",
    "import train_helper\n",
    "import infer_helper\n",
    "import loss\n",
    "import lrfinder"
   ]
  },
  {
   "cell_type": "code",
   "execution_count": 3,
   "metadata": {
    "ExecuteTime": {
     "end_time": "2021-10-17T03:17:04.483598Z",
     "start_time": "2021-10-17T03:17:04.470332Z"
    }
   },
   "outputs": [
    {
     "name": "stdout",
     "output_type": "stream",
     "text": [
      "11.1\n"
     ]
    }
   ],
   "source": [
    "print(torch.version.cuda)"
   ]
  },
  {
   "cell_type": "markdown",
   "metadata": {},
   "source": [
    "# Config"
   ]
  },
  {
   "cell_type": "code",
   "execution_count": 4,
   "metadata": {
    "ExecuteTime": {
     "end_time": "2021-10-17T03:17:04.579021Z",
     "start_time": "2021-10-17T03:17:04.562390Z"
    }
   },
   "outputs": [
    {
     "data": {
      "text/plain": [
       "{'kaggle_data_folder': '/home/vincent/Kaggle/data/ventilator-pressure-prediction',\n",
       " 'input_folder': '../input/',\n",
       " 'output_folder': '../output/',\n",
       " 'debug': False,\n",
       " 'model_version': 'BasicTest',\n",
       " 'model_module': 'Fork',\n",
       " 'PL_folder': None,\n",
       " 'seed': 48,\n",
       " 'ckpt_folder': None,\n",
       " 'use_lr_finder': False,\n",
       " 'low_q': 0.05,\n",
       " 'high_q': 0.95,\n",
       " 'unit_var': True,\n",
       " 'strict_scale': True,\n",
       " 'hidden': [512, 256, 128, 64],\n",
       " 'bidirectional': True,\n",
       " 'nh': 256,\n",
       " 'do_prob': 0.1,\n",
       " 'epochs': 20,\n",
       " 'es': 10,\n",
       " 'train_folds': [0],\n",
       " 'batch_size': 1024,\n",
       " 'lr': 0.001,\n",
       " 'weight_decay': 0.0001,\n",
       " 'warmup': 0.1,\n",
       " 'scheduler': 'cosineWithWarmUp',\n",
       " 'use_swa': False,\n",
       " 'use_wandb': False,\n",
       " 'wandb_project': 'GBVPP',\n",
       " 'wandb_key_path': '../input/key.txt',\n",
       " 'wandb_post': '',\n",
       " 'print_num_steps': 100,\n",
       " 'num_workers': 8,\n",
       " 'use_dp': True}"
      ]
     },
     "execution_count": 4,
     "metadata": {},
     "output_type": "execute_result"
    }
   ],
   "source": [
    "BaseConfig = read_config(\"base\")\n",
    "{key: val for key, val in BaseConfig.__dict__.items() if not key.startswith('__')}"
   ]
  },
  {
   "cell_type": "code",
   "execution_count": 5,
   "metadata": {
    "ExecuteTime": {
     "end_time": "2021-10-17T03:17:05.204131Z",
     "start_time": "2021-10-17T03:17:05.106183Z"
    }
   },
   "outputs": [
    {
     "name": "stdout",
     "output_type": "stream",
     "text": [
      "Using device: cuda\n",
      "Number of device: 2\n",
      "Model Output Folder: ../output/debug/\n"
     ]
    }
   ],
   "source": [
    "class config(BaseConfig):\n",
    "    model_version = \"debug\"\n",
    "    debug=False\n",
    "    epochs = 300\n",
    "    batch_size = 512\n",
    "    lr=5e-2\n",
    "    train_folds = [0]\n",
    "    use_wandb = True\n",
    "    use_lr_finder = False\n",
    "config = updateConfig(config)"
   ]
  },
  {
   "cell_type": "code",
   "execution_count": 6,
   "metadata": {
    "ExecuteTime": {
     "end_time": "2021-10-17T03:17:05.704680Z",
     "start_time": "2021-10-17T03:17:05.690338Z"
    }
   },
   "outputs": [
    {
     "name": "stdout",
     "output_type": "stream",
     "text": [
      "True\n"
     ]
    }
   ],
   "source": [
    "print(torch.cuda.is_available())"
   ]
  },
  {
   "cell_type": "code",
   "execution_count": 7,
   "metadata": {
    "ExecuteTime": {
     "end_time": "2021-10-17T03:17:07.050946Z",
     "start_time": "2021-10-17T03:17:06.517209Z"
    }
   },
   "outputs": [
    {
     "data": {
      "text/plain": [
       "(102400, 9)"
      ]
     },
     "metadata": {},
     "output_type": "display_data"
    },
    {
     "data": {
      "text/plain": [
       "(102400, 7)"
      ]
     },
     "metadata": {},
     "output_type": "display_data"
    },
    {
     "data": {
      "text/html": [
       "<div>\n",
       "<style scoped>\n",
       "    .dataframe tbody tr th:only-of-type {\n",
       "        vertical-align: middle;\n",
       "    }\n",
       "\n",
       "    .dataframe tbody tr th {\n",
       "        vertical-align: top;\n",
       "    }\n",
       "\n",
       "    .dataframe thead th {\n",
       "        text-align: right;\n",
       "    }\n",
       "</style>\n",
       "<table border=\"1\" class=\"dataframe\">\n",
       "  <thead>\n",
       "    <tr style=\"text-align: right;\">\n",
       "      <th></th>\n",
       "      <th>id</th>\n",
       "      <th>breath_id</th>\n",
       "      <th>R</th>\n",
       "      <th>C</th>\n",
       "      <th>time_step</th>\n",
       "      <th>u_in</th>\n",
       "      <th>u_out</th>\n",
       "      <th>pressure</th>\n",
       "      <th>fold</th>\n",
       "    </tr>\n",
       "  </thead>\n",
       "  <tbody>\n",
       "    <tr>\n",
       "      <th>0</th>\n",
       "      <td>1</td>\n",
       "      <td>1</td>\n",
       "      <td>20</td>\n",
       "      <td>50</td>\n",
       "      <td>0.000000</td>\n",
       "      <td>0.083334</td>\n",
       "      <td>0</td>\n",
       "      <td>5.837492</td>\n",
       "      <td>0</td>\n",
       "    </tr>\n",
       "    <tr>\n",
       "      <th>1</th>\n",
       "      <td>2</td>\n",
       "      <td>1</td>\n",
       "      <td>20</td>\n",
       "      <td>50</td>\n",
       "      <td>0.033652</td>\n",
       "      <td>18.383041</td>\n",
       "      <td>0</td>\n",
       "      <td>5.907794</td>\n",
       "      <td>4</td>\n",
       "    </tr>\n",
       "    <tr>\n",
       "      <th>2</th>\n",
       "      <td>3</td>\n",
       "      <td>1</td>\n",
       "      <td>20</td>\n",
       "      <td>50</td>\n",
       "      <td>0.067514</td>\n",
       "      <td>22.509277</td>\n",
       "      <td>0</td>\n",
       "      <td>7.876254</td>\n",
       "      <td>2</td>\n",
       "    </tr>\n",
       "    <tr>\n",
       "      <th>3</th>\n",
       "      <td>4</td>\n",
       "      <td>1</td>\n",
       "      <td>20</td>\n",
       "      <td>50</td>\n",
       "      <td>0.101542</td>\n",
       "      <td>22.808823</td>\n",
       "      <td>0</td>\n",
       "      <td>11.742872</td>\n",
       "      <td>0</td>\n",
       "    </tr>\n",
       "    <tr>\n",
       "      <th>4</th>\n",
       "      <td>5</td>\n",
       "      <td>1</td>\n",
       "      <td>20</td>\n",
       "      <td>50</td>\n",
       "      <td>0.135756</td>\n",
       "      <td>25.355850</td>\n",
       "      <td>0</td>\n",
       "      <td>12.234987</td>\n",
       "      <td>2</td>\n",
       "    </tr>\n",
       "  </tbody>\n",
       "</table>\n",
       "</div>"
      ],
      "text/plain": [
       "   id  breath_id   R   C  time_step       u_in  u_out   pressure  fold\n",
       "0   1          1  20  50   0.000000   0.083334      0   5.837492     0\n",
       "1   2          1  20  50   0.033652  18.383041      0   5.907794     4\n",
       "2   3          1  20  50   0.067514  22.509277      0   7.876254     2\n",
       "3   4          1  20  50   0.101542  22.808823      0  11.742872     0\n",
       "4   5          1  20  50   0.135756  25.355850      0  12.234987     2"
      ]
     },
     "metadata": {},
     "output_type": "display_data"
    },
    {
     "data": {
      "text/html": [
       "<div>\n",
       "<style scoped>\n",
       "    .dataframe tbody tr th:only-of-type {\n",
       "        vertical-align: middle;\n",
       "    }\n",
       "\n",
       "    .dataframe tbody tr th {\n",
       "        vertical-align: top;\n",
       "    }\n",
       "\n",
       "    .dataframe thead th {\n",
       "        text-align: right;\n",
       "    }\n",
       "</style>\n",
       "<table border=\"1\" class=\"dataframe\">\n",
       "  <thead>\n",
       "    <tr style=\"text-align: right;\">\n",
       "      <th></th>\n",
       "      <th>id</th>\n",
       "      <th>breath_id</th>\n",
       "      <th>R</th>\n",
       "      <th>C</th>\n",
       "      <th>time_step</th>\n",
       "      <th>u_in</th>\n",
       "      <th>u_out</th>\n",
       "    </tr>\n",
       "  </thead>\n",
       "  <tbody>\n",
       "    <tr>\n",
       "      <th>0</th>\n",
       "      <td>1</td>\n",
       "      <td>0</td>\n",
       "      <td>5</td>\n",
       "      <td>20</td>\n",
       "      <td>0.000000</td>\n",
       "      <td>0.000000</td>\n",
       "      <td>0</td>\n",
       "    </tr>\n",
       "    <tr>\n",
       "      <th>1</th>\n",
       "      <td>2</td>\n",
       "      <td>0</td>\n",
       "      <td>5</td>\n",
       "      <td>20</td>\n",
       "      <td>0.031904</td>\n",
       "      <td>7.515046</td>\n",
       "      <td>0</td>\n",
       "    </tr>\n",
       "    <tr>\n",
       "      <th>2</th>\n",
       "      <td>3</td>\n",
       "      <td>0</td>\n",
       "      <td>5</td>\n",
       "      <td>20</td>\n",
       "      <td>0.063827</td>\n",
       "      <td>14.651675</td>\n",
       "      <td>0</td>\n",
       "    </tr>\n",
       "    <tr>\n",
       "      <th>3</th>\n",
       "      <td>4</td>\n",
       "      <td>0</td>\n",
       "      <td>5</td>\n",
       "      <td>20</td>\n",
       "      <td>0.095751</td>\n",
       "      <td>21.230610</td>\n",
       "      <td>0</td>\n",
       "    </tr>\n",
       "    <tr>\n",
       "      <th>4</th>\n",
       "      <td>5</td>\n",
       "      <td>0</td>\n",
       "      <td>5</td>\n",
       "      <td>20</td>\n",
       "      <td>0.127644</td>\n",
       "      <td>26.320955</td>\n",
       "      <td>0</td>\n",
       "    </tr>\n",
       "  </tbody>\n",
       "</table>\n",
       "</div>"
      ],
      "text/plain": [
       "   id  breath_id  R   C  time_step       u_in  u_out\n",
       "0   1          0  5  20   0.000000   0.000000      0\n",
       "1   2          0  5  20   0.031904   7.515046      0\n",
       "2   3          0  5  20   0.063827  14.651675      0\n",
       "3   4          0  5  20   0.095751  21.230610      0\n",
       "4   5          0  5  20   0.127644  26.320955      0"
      ]
     },
     "metadata": {},
     "output_type": "display_data"
    }
   ],
   "source": [
    "train, test = dataset.read_data(config)\n",
    "display(train.shape, test.shape)\n",
    "display(train.head())\n",
    "display(test.head())"
   ]
  },
  {
   "cell_type": "markdown",
   "metadata": {},
   "source": [
    "# adding features"
   ]
  },
  {
   "cell_type": "code",
   "execution_count": 8,
   "metadata": {
    "ExecuteTime": {
     "end_time": "2021-10-17T03:17:10.164394Z",
     "start_time": "2021-10-17T03:17:08.205075Z"
    }
   },
   "outputs": [],
   "source": [
    "train = FE.add_features(train)\n",
    "test = FE.add_features(test)"
   ]
  },
  {
   "cell_type": "code",
   "execution_count": 9,
   "metadata": {
    "ExecuteTime": {
     "end_time": "2021-10-17T03:17:10.558426Z",
     "start_time": "2021-10-17T03:17:10.544319Z"
    }
   },
   "outputs": [
    {
     "name": "stdout",
     "output_type": "stream",
     "text": [
      "['time_step', 'u_in', 'u_out', 'step', 'area', 'u_in_cumsum', 'time_step_diff', 'cross_time', 'cross_u_in', 'u_in_diff', 'u_in_diff_2', 'u_in_diff_5', 'ewm_u_in_mean', 'ewm_u_in_std', 'ewm_u_in_corr', 'rolling_10_mean', 'rolling_10_max', 'rolling_10_std', 'expand_mean', 'expand_median', 'expand_std', 'expand_max', 'expand_skew', 'expand_kurt', 'RC_u_in_median_diff', 'RC_u_in_mean_diff', 'R_20', 'R_5', 'R_50', 'C_10', 'C_20', 'C_50']\n"
     ]
    }
   ],
   "source": [
    "feature_cols = [col for col in train.columns if col not in [\"id\", \"breath_id\", \"fold\", \"pressure\"]]\n",
    "print(feature_cols)"
   ]
  },
  {
   "cell_type": "code",
   "execution_count": 10,
   "metadata": {
    "ExecuteTime": {
     "end_time": "2021-10-17T03:17:10.980272Z",
     "start_time": "2021-10-17T03:17:10.947204Z"
    }
   },
   "outputs": [
    {
     "data": {
      "text/html": [
       "<div>\n",
       "<style scoped>\n",
       "    .dataframe tbody tr th:only-of-type {\n",
       "        vertical-align: middle;\n",
       "    }\n",
       "\n",
       "    .dataframe tbody tr th {\n",
       "        vertical-align: top;\n",
       "    }\n",
       "\n",
       "    .dataframe thead th {\n",
       "        text-align: right;\n",
       "    }\n",
       "</style>\n",
       "<table border=\"1\" class=\"dataframe\">\n",
       "  <thead>\n",
       "    <tr style=\"text-align: right;\">\n",
       "      <th></th>\n",
       "      <th>id</th>\n",
       "      <th>breath_id</th>\n",
       "      <th>time_step</th>\n",
       "      <th>u_in</th>\n",
       "      <th>u_out</th>\n",
       "      <th>pressure</th>\n",
       "      <th>fold</th>\n",
       "      <th>step</th>\n",
       "      <th>area</th>\n",
       "      <th>u_in_cumsum</th>\n",
       "      <th>...</th>\n",
       "      <th>expand_skew</th>\n",
       "      <th>expand_kurt</th>\n",
       "      <th>RC_u_in_median_diff</th>\n",
       "      <th>RC_u_in_mean_diff</th>\n",
       "      <th>R_20</th>\n",
       "      <th>R_5</th>\n",
       "      <th>R_50</th>\n",
       "      <th>C_10</th>\n",
       "      <th>C_20</th>\n",
       "      <th>C_50</th>\n",
       "    </tr>\n",
       "  </thead>\n",
       "  <tbody>\n",
       "    <tr>\n",
       "      <th>0</th>\n",
       "      <td>1</td>\n",
       "      <td>1</td>\n",
       "      <td>0.000000</td>\n",
       "      <td>0.083334</td>\n",
       "      <td>0</td>\n",
       "      <td>5.837492</td>\n",
       "      <td>0</td>\n",
       "      <td>0</td>\n",
       "      <td>0.000000</td>\n",
       "      <td>0.083334</td>\n",
       "      <td>...</td>\n",
       "      <td>0.000000</td>\n",
       "      <td>0.000000</td>\n",
       "      <td>-0.356609</td>\n",
       "      <td>-15.875539</td>\n",
       "      <td>1</td>\n",
       "      <td>0</td>\n",
       "      <td>0</td>\n",
       "      <td>0</td>\n",
       "      <td>0</td>\n",
       "      <td>1</td>\n",
       "    </tr>\n",
       "    <tr>\n",
       "      <th>1</th>\n",
       "      <td>2</td>\n",
       "      <td>1</td>\n",
       "      <td>0.033652</td>\n",
       "      <td>18.383041</td>\n",
       "      <td>0</td>\n",
       "      <td>5.907794</td>\n",
       "      <td>4</td>\n",
       "      <td>1</td>\n",
       "      <td>0.618632</td>\n",
       "      <td>18.466375</td>\n",
       "      <td>...</td>\n",
       "      <td>0.000000</td>\n",
       "      <td>0.000000</td>\n",
       "      <td>10.864344</td>\n",
       "      <td>-3.509825</td>\n",
       "      <td>1</td>\n",
       "      <td>0</td>\n",
       "      <td>0</td>\n",
       "      <td>0</td>\n",
       "      <td>0</td>\n",
       "      <td>1</td>\n",
       "    </tr>\n",
       "    <tr>\n",
       "      <th>2</th>\n",
       "      <td>3</td>\n",
       "      <td>1</td>\n",
       "      <td>0.067514</td>\n",
       "      <td>22.509277</td>\n",
       "      <td>0</td>\n",
       "      <td>7.876254</td>\n",
       "      <td>2</td>\n",
       "      <td>2</td>\n",
       "      <td>2.138332</td>\n",
       "      <td>40.975655</td>\n",
       "      <td>...</td>\n",
       "      <td>0.000000</td>\n",
       "      <td>0.000000</td>\n",
       "      <td>13.477262</td>\n",
       "      <td>3.459379</td>\n",
       "      <td>1</td>\n",
       "      <td>0</td>\n",
       "      <td>0</td>\n",
       "      <td>0</td>\n",
       "      <td>0</td>\n",
       "      <td>1</td>\n",
       "    </tr>\n",
       "    <tr>\n",
       "      <th>3</th>\n",
       "      <td>4</td>\n",
       "      <td>1</td>\n",
       "      <td>0.101542</td>\n",
       "      <td>22.808823</td>\n",
       "      <td>0</td>\n",
       "      <td>11.742872</td>\n",
       "      <td>0</td>\n",
       "      <td>3</td>\n",
       "      <td>4.454391</td>\n",
       "      <td>63.784477</td>\n",
       "      <td>...</td>\n",
       "      <td>3.227848</td>\n",
       "      <td>3.227848</td>\n",
       "      <td>13.416943</td>\n",
       "      <td>9.729695</td>\n",
       "      <td>1</td>\n",
       "      <td>0</td>\n",
       "      <td>0</td>\n",
       "      <td>0</td>\n",
       "      <td>0</td>\n",
       "      <td>1</td>\n",
       "    </tr>\n",
       "    <tr>\n",
       "      <th>4</th>\n",
       "      <td>5</td>\n",
       "      <td>1</td>\n",
       "      <td>0.135756</td>\n",
       "      <td>25.355850</td>\n",
       "      <td>0</td>\n",
       "      <td>12.234987</td>\n",
       "      <td>2</td>\n",
       "      <td>4</td>\n",
       "      <td>7.896588</td>\n",
       "      <td>89.140327</td>\n",
       "      <td>...</td>\n",
       "      <td>3.809552</td>\n",
       "      <td>3.809552</td>\n",
       "      <td>10.317239</td>\n",
       "      <td>5.620728</td>\n",
       "      <td>1</td>\n",
       "      <td>0</td>\n",
       "      <td>0</td>\n",
       "      <td>0</td>\n",
       "      <td>0</td>\n",
       "      <td>1</td>\n",
       "    </tr>\n",
       "  </tbody>\n",
       "</table>\n",
       "<p>5 rows × 36 columns</p>\n",
       "</div>"
      ],
      "text/plain": [
       "   id  breath_id  time_step       u_in  u_out   pressure  fold  step  \\\n",
       "0   1          1   0.000000   0.083334      0   5.837492     0     0   \n",
       "1   2          1   0.033652  18.383041      0   5.907794     4     1   \n",
       "2   3          1   0.067514  22.509277      0   7.876254     2     2   \n",
       "3   4          1   0.101542  22.808823      0  11.742872     0     3   \n",
       "4   5          1   0.135756  25.355850      0  12.234987     2     4   \n",
       "\n",
       "       area  u_in_cumsum  ...  expand_skew  expand_kurt  RC_u_in_median_diff  \\\n",
       "0  0.000000     0.083334  ...     0.000000     0.000000            -0.356609   \n",
       "1  0.618632    18.466375  ...     0.000000     0.000000            10.864344   \n",
       "2  2.138332    40.975655  ...     0.000000     0.000000            13.477262   \n",
       "3  4.454391    63.784477  ...     3.227848     3.227848            13.416943   \n",
       "4  7.896588    89.140327  ...     3.809552     3.809552            10.317239   \n",
       "\n",
       "   RC_u_in_mean_diff  R_20  R_5  R_50  C_10  C_20  C_50  \n",
       "0         -15.875539     1    0     0     0     0     1  \n",
       "1          -3.509825     1    0     0     0     0     1  \n",
       "2           3.459379     1    0     0     0     0     1  \n",
       "3           9.729695     1    0     0     0     0     1  \n",
       "4           5.620728     1    0     0     0     0     1  \n",
       "\n",
       "[5 rows x 36 columns]"
      ]
     },
     "metadata": {},
     "output_type": "display_data"
    },
    {
     "data": {
      "text/html": [
       "<div>\n",
       "<style scoped>\n",
       "    .dataframe tbody tr th:only-of-type {\n",
       "        vertical-align: middle;\n",
       "    }\n",
       "\n",
       "    .dataframe tbody tr th {\n",
       "        vertical-align: top;\n",
       "    }\n",
       "\n",
       "    .dataframe thead th {\n",
       "        text-align: right;\n",
       "    }\n",
       "</style>\n",
       "<table border=\"1\" class=\"dataframe\">\n",
       "  <thead>\n",
       "    <tr style=\"text-align: right;\">\n",
       "      <th></th>\n",
       "      <th>id</th>\n",
       "      <th>breath_id</th>\n",
       "      <th>time_step</th>\n",
       "      <th>u_in</th>\n",
       "      <th>u_out</th>\n",
       "      <th>step</th>\n",
       "      <th>area</th>\n",
       "      <th>u_in_cumsum</th>\n",
       "      <th>time_step_diff</th>\n",
       "      <th>cross_time</th>\n",
       "      <th>...</th>\n",
       "      <th>expand_skew</th>\n",
       "      <th>expand_kurt</th>\n",
       "      <th>RC_u_in_median_diff</th>\n",
       "      <th>RC_u_in_mean_diff</th>\n",
       "      <th>R_20</th>\n",
       "      <th>R_5</th>\n",
       "      <th>R_50</th>\n",
       "      <th>C_10</th>\n",
       "      <th>C_20</th>\n",
       "      <th>C_50</th>\n",
       "    </tr>\n",
       "  </thead>\n",
       "  <tbody>\n",
       "    <tr>\n",
       "      <th>0</th>\n",
       "      <td>1</td>\n",
       "      <td>0</td>\n",
       "      <td>0.000000</td>\n",
       "      <td>0.000000</td>\n",
       "      <td>0</td>\n",
       "      <td>0</td>\n",
       "      <td>0.000000</td>\n",
       "      <td>0.000000</td>\n",
       "      <td>0.033430</td>\n",
       "      <td>0.000000</td>\n",
       "      <td>...</td>\n",
       "      <td>0.000000</td>\n",
       "      <td>0.000000</td>\n",
       "      <td>-6.665972</td>\n",
       "      <td>-17.809572</td>\n",
       "      <td>0</td>\n",
       "      <td>1</td>\n",
       "      <td>0</td>\n",
       "      <td>0</td>\n",
       "      <td>1</td>\n",
       "      <td>0</td>\n",
       "    </tr>\n",
       "    <tr>\n",
       "      <th>1</th>\n",
       "      <td>2</td>\n",
       "      <td>0</td>\n",
       "      <td>0.031904</td>\n",
       "      <td>7.515046</td>\n",
       "      <td>0</td>\n",
       "      <td>1</td>\n",
       "      <td>0.239758</td>\n",
       "      <td>7.515046</td>\n",
       "      <td>0.031904</td>\n",
       "      <td>0.031904</td>\n",
       "      <td>...</td>\n",
       "      <td>0.000000</td>\n",
       "      <td>0.000000</td>\n",
       "      <td>-12.614708</td>\n",
       "      <td>-22.210510</td>\n",
       "      <td>0</td>\n",
       "      <td>1</td>\n",
       "      <td>0</td>\n",
       "      <td>0</td>\n",
       "      <td>1</td>\n",
       "      <td>0</td>\n",
       "    </tr>\n",
       "    <tr>\n",
       "      <th>2</th>\n",
       "      <td>3</td>\n",
       "      <td>0</td>\n",
       "      <td>0.063827</td>\n",
       "      <td>14.651675</td>\n",
       "      <td>0</td>\n",
       "      <td>2</td>\n",
       "      <td>1.174935</td>\n",
       "      <td>22.166721</td>\n",
       "      <td>0.031924</td>\n",
       "      <td>0.063827</td>\n",
       "      <td>...</td>\n",
       "      <td>0.000000</td>\n",
       "      <td>0.000000</td>\n",
       "      <td>-7.058000</td>\n",
       "      <td>-15.490029</td>\n",
       "      <td>0</td>\n",
       "      <td>1</td>\n",
       "      <td>0</td>\n",
       "      <td>0</td>\n",
       "      <td>1</td>\n",
       "      <td>0</td>\n",
       "    </tr>\n",
       "    <tr>\n",
       "      <th>3</th>\n",
       "      <td>4</td>\n",
       "      <td>0</td>\n",
       "      <td>0.095751</td>\n",
       "      <td>21.230610</td>\n",
       "      <td>0</td>\n",
       "      <td>3</td>\n",
       "      <td>3.207788</td>\n",
       "      <td>43.397331</td>\n",
       "      <td>0.031924</td>\n",
       "      <td>0.095751</td>\n",
       "      <td>...</td>\n",
       "      <td>-1.218656</td>\n",
       "      <td>-1.218656</td>\n",
       "      <td>-1.205360</td>\n",
       "      <td>-8.300224</td>\n",
       "      <td>0</td>\n",
       "      <td>1</td>\n",
       "      <td>0</td>\n",
       "      <td>0</td>\n",
       "      <td>1</td>\n",
       "      <td>0</td>\n",
       "    </tr>\n",
       "    <tr>\n",
       "      <th>4</th>\n",
       "      <td>5</td>\n",
       "      <td>0</td>\n",
       "      <td>0.127644</td>\n",
       "      <td>26.320955</td>\n",
       "      <td>0</td>\n",
       "      <td>4</td>\n",
       "      <td>6.567489</td>\n",
       "      <td>69.718285</td>\n",
       "      <td>0.031893</td>\n",
       "      <td>0.127644</td>\n",
       "      <td>...</td>\n",
       "      <td>-1.280772</td>\n",
       "      <td>-1.280772</td>\n",
       "      <td>3.673914</td>\n",
       "      <td>-3.933735</td>\n",
       "      <td>0</td>\n",
       "      <td>1</td>\n",
       "      <td>0</td>\n",
       "      <td>0</td>\n",
       "      <td>1</td>\n",
       "      <td>0</td>\n",
       "    </tr>\n",
       "  </tbody>\n",
       "</table>\n",
       "<p>5 rows × 34 columns</p>\n",
       "</div>"
      ],
      "text/plain": [
       "   id  breath_id  time_step       u_in  u_out  step      area  u_in_cumsum  \\\n",
       "0   1          0   0.000000   0.000000      0     0  0.000000     0.000000   \n",
       "1   2          0   0.031904   7.515046      0     1  0.239758     7.515046   \n",
       "2   3          0   0.063827  14.651675      0     2  1.174935    22.166721   \n",
       "3   4          0   0.095751  21.230610      0     3  3.207788    43.397331   \n",
       "4   5          0   0.127644  26.320955      0     4  6.567489    69.718285   \n",
       "\n",
       "   time_step_diff  cross_time  ...  expand_skew  expand_kurt  \\\n",
       "0        0.033430    0.000000  ...     0.000000     0.000000   \n",
       "1        0.031904    0.031904  ...     0.000000     0.000000   \n",
       "2        0.031924    0.063827  ...     0.000000     0.000000   \n",
       "3        0.031924    0.095751  ...    -1.218656    -1.218656   \n",
       "4        0.031893    0.127644  ...    -1.280772    -1.280772   \n",
       "\n",
       "   RC_u_in_median_diff  RC_u_in_mean_diff  R_20  R_5  R_50  C_10  C_20  C_50  \n",
       "0            -6.665972         -17.809572     0    1     0     0     1     0  \n",
       "1           -12.614708         -22.210510     0    1     0     0     1     0  \n",
       "2            -7.058000         -15.490029     0    1     0     0     1     0  \n",
       "3            -1.205360          -8.300224     0    1     0     0     1     0  \n",
       "4             3.673914          -3.933735     0    1     0     0     1     0  \n",
       "\n",
       "[5 rows x 34 columns]"
      ]
     },
     "metadata": {},
     "output_type": "display_data"
    },
    {
     "data": {
      "text/plain": [
       "(None, None)"
      ]
     },
     "execution_count": 10,
     "metadata": {},
     "output_type": "execute_result"
    }
   ],
   "source": [
    "display(train.head()), display(test.head())"
   ]
  },
  {
   "cell_type": "markdown",
   "metadata": {},
   "source": [
    "# Learning Rate Finder"
   ]
  },
  {
   "cell_type": "code",
   "execution_count": 11,
   "metadata": {
    "ExecuteTime": {
     "end_time": "2021-10-17T03:17:11.849287Z",
     "start_time": "2021-10-17T03:17:11.832223Z"
    }
   },
   "outputs": [],
   "source": [
    "if config.use_lr_finder:\n",
    "    # data\n",
    "    rs = RobustScaler(quantile_range=(config.low_q, config.high_q), unit_variance=config.unit_var)\n",
    "    X_train = rs.fit_transform(train[feature_cols])\n",
    "    X_train = X_train.reshape(-1, 80, len(feature_cols))\n",
    "    y_train = train['pressure'].values.reshape(-1, 80)\n",
    "    w_train = (1 - train['u_out']).values.reshape(-1, 80)\n",
    "    train_dt = dataset.LR_VPP(X_train, y_train, w_train, config.batch_size)\n",
    "    train_loader = DataLoader(train_dt,\n",
    "                              batch_size=config.batch_size,\n",
    "                              shuffle=True,\n",
    "                              num_workers=config.num_workers, pin_memory=True, drop_last=False)"
   ]
  },
  {
   "cell_type": "code",
   "execution_count": 12,
   "metadata": {
    "ExecuteTime": {
     "end_time": "2021-10-17T03:17:12.273114Z",
     "start_time": "2021-10-17T03:17:12.257202Z"
    }
   },
   "outputs": [],
   "source": [
    "if config.use_lr_finder:\n",
    "    # model\n",
    "    model = models.Model(len(feature_cols),config)\n",
    "    model.to(config.device)\n",
    "    if config.use_dp:\n",
    "        model = DataParallel(model)\n",
    "    optimizer = AdamW(model.parameters(), lr=1e-6, eps=1e-08, weight_decay=config.weight_decay, amsgrad=False)\n",
    "    criterion = loss.cal_mae_loss"
   ]
  },
  {
   "cell_type": "code",
   "execution_count": 13,
   "metadata": {
    "ExecuteTime": {
     "end_time": "2021-10-17T03:17:12.693246Z",
     "start_time": "2021-10-17T03:17:12.678382Z"
    },
    "scrolled": true
   },
   "outputs": [],
   "source": [
    "if config.use_lr_finder:\n",
    "    lr_finder = lrfinder.LRFinder(model, optimizer, criterion, config.device)\n",
    "    lrs, losses = lr_finder.range_test(train_loader, end_lr=10, num_iter=100, smooth_f=0.05, diverge_th=5)    \n",
    "    lrfinder.plot_lr_finder(lrs, losses)"
   ]
  },
  {
   "cell_type": "code",
   "execution_count": 15,
   "metadata": {
    "ExecuteTime": {
     "end_time": "2021-10-17T03:17:31.568209Z",
     "start_time": "2021-10-17T03:17:31.550073Z"
    }
   },
   "outputs": [],
   "source": [
    "if config.use_lr_finder:\n",
    "    del model, optimizer, criterion, train_dt, train_loader, lr_finder\n",
    "    gc.collect()\n",
    "    torch.cuda.empty_cache() "
   ]
  },
  {
   "cell_type": "markdown",
   "metadata": {},
   "source": [
    "# Training"
   ]
  },
  {
   "cell_type": "code",
   "execution_count": 21,
   "metadata": {
    "ExecuteTime": {
     "end_time": "2021-10-17T03:22:57.569517Z",
     "start_time": "2021-10-17T03:22:50.245571Z"
    }
   },
   "outputs": [
    {
     "name": "stderr",
     "output_type": "stream",
     "text": [
      "wandb: WARNING If you're specifying your api key in code, ensure this code is not shared publically.\n",
      "wandb: WARNING Consider setting the WANDB_API_KEY environment variable, or running `wandb login` from the command line.\n",
      "wandb: Appending key for api.wandb.ai to your netrc file: /home/vincent/.netrc\n"
     ]
    },
    {
     "data": {
      "text/html": [
       "\n",
       "                    Syncing run <strong><a href=\"https://wandb.ai/vincentwang25/GBVPP/runs/2kpv4n0y\" target=\"_blank\">debug</a></strong> to <a href=\"https://wandb.ai/vincentwang25/GBVPP\" target=\"_blank\">Weights & Biases</a> (<a href=\"https://docs.wandb.com/integrations/jupyter.html\" target=\"_blank\">docs</a>).<br/>\n",
       "\n",
       "                "
      ],
      "text/plain": [
       "<IPython.core.display.HTML object>"
      ]
     },
     "metadata": {},
     "output_type": "display_data"
    },
    {
     "name": "stdout",
     "output_type": "stream",
     "text": [
      "Fold:  0\n",
      "Use scale to fit train and scale valid\n",
      "Prepare train valid\n",
      "(82000, 36) (20400, 36)\n",
      "training data samples, val data samples:  (1025, 80, 32) (255, 80, 32)\n",
      "Model Size: 5690725\n",
      "Epoch:  0\n",
      "Save Model\n",
      "loss:  17.5453, val_loss 7.9719, val_score 7.9719, best_val_score 7.9719, time used: 1.026s\n",
      "Fold:  1\n",
      "skip\n",
      "Fold:  2\n",
      "skip\n",
      "Fold:  3\n",
      "skip\n",
      "Fold:  4\n",
      "skip\n",
      "folds score: [7.971910424202299]\n",
      "Avg: 7.97191\n",
      "Std: 0.00000\n"
     ]
    },
    {
     "data": {
      "text/html": [
       "<br/>Waiting for W&B process to finish, PID 18796... <strong style=\"color:green\">(success).</strong>"
      ],
      "text/plain": [
       "<IPython.core.display.HTML object>"
      ]
     },
     "metadata": {},
     "output_type": "display_data"
    },
    {
     "data": {
      "text/html": [
       "<style>\n",
       "    table.wandb td:nth-child(1) { padding: 0 10px; text-align: right }\n",
       "    .wandb-row { display: flex; flex-direction: row; flex-wrap: wrap; width: 100% }\n",
       "    .wandb-col { display: flex; flex-direction: column; flex-basis: 100%; flex: 1; padding: 10px; }\n",
       "    </style>\n",
       "<div class=\"wandb-row\"><div class=\"wandb-col\">\n",
       "<h3>Run history:</h3><br/><table class=\"wandb\"><tr><td>[fold0] avg_train_loss</td><td>▁</td></tr><tr><td>[fold0] avg_val_loss</td><td>▁</td></tr><tr><td>[fold0] epoch</td><td>▁</td></tr><tr><td>[fold0] loss</td><td>▅▁█</td></tr><tr><td>[fold0] lr</td><td>█▁█</td></tr><tr><td>[fold0] val_score</td><td>▁</td></tr></table><br/></div><div class=\"wandb-col\">\n",
       "<h3>Run summary:</h3><br/><table class=\"wandb\"><tr><td>[fold0] avg_train_loss</td><td>17.54532</td></tr><tr><td>[fold0] avg_val_loss</td><td>7.97191</td></tr><tr><td>[fold0] epoch</td><td>1</td></tr><tr><td>[fold0] loss</td><td>23.18336</td></tr><tr><td>[fold0] lr</td><td>0.025</td></tr><tr><td>[fold0] val_score</td><td>7.97191</td></tr></table>\n",
       "</div></div>\n",
       "Synced 5 W&B file(s), 0 media file(s), 0 artifact file(s) and 0 other file(s)\n",
       "<br/>Synced <strong style=\"color:#cdcd00\">debug</strong>: <a href=\"https://wandb.ai/vincentwang25/GBVPP/runs/2kpv4n0y\" target=\"_blank\">https://wandb.ai/vincentwang25/GBVPP/runs/2kpv4n0y</a><br/>\n",
       "Find logs at: <code>./wandb/run-20211016_232251-2kpv4n0y/logs</code><br/>\n"
      ],
      "text/plain": [
       "<IPython.core.display.HTML object>"
      ]
     },
     "metadata": {},
     "output_type": "display_data"
    }
   ],
   "source": [
    "train_helper.training_loop(train.copy(), config)"
   ]
  },
  {
   "cell_type": "code",
   "execution_count": 17,
   "metadata": {
    "ExecuteTime": {
     "end_time": "2021-10-17T03:17:55.002414Z",
     "start_time": "2021-10-17T03:17:54.886496Z"
    }
   },
   "outputs": [],
   "source": [
    "gc.collect()\n",
    "torch.cuda.empty_cache()"
   ]
  },
  {
   "cell_type": "markdown",
   "metadata": {},
   "source": [
    "# Inference"
   ]
  },
  {
   "cell_type": "code",
   "execution_count": 22,
   "metadata": {
    "ExecuteTime": {
     "end_time": "2021-10-17T03:22:58.753481Z",
     "start_time": "2021-10-17T03:22:57.571537Z"
    }
   },
   "outputs": [
    {
     "name": "stderr",
     "output_type": "stream",
     "text": [
      "100%|██████████████████████████████████████████████████████████████████████| 1/1 [00:00<00:00,  1.17it/s]\n"
     ]
    },
    {
     "name": "stdout",
     "output_type": "stream",
     "text": [
      "count    1.024000e+05\n",
      "mean     9.999978e-01\n",
      "std      7.522517e-07\n",
      "min      9.999932e-01\n",
      "25%      9.999974e-01\n",
      "50%      9.999976e-01\n",
      "75%      9.999983e-01\n",
      "max      9.999993e-01\n",
      "Name: pressure, dtype: float64\n",
      "test file saved to: ../output/debug//submission.csv\n"
     ]
    }
   ],
   "source": [
    "test_avg = infer_helper.get_test_avg(test, config)"
   ]
  },
  {
   "cell_type": "code",
   "execution_count": null,
   "metadata": {},
   "outputs": [],
   "source": []
  }
 ],
 "metadata": {
  "kernelspec": {
   "display_name": "Python 3 (ipykernel)",
   "language": "python",
   "name": "python3"
  },
  "language_info": {
   "codemirror_mode": {
    "name": "ipython",
    "version": 3
   },
   "file_extension": ".py",
   "mimetype": "text/x-python",
   "name": "python",
   "nbconvert_exporter": "python",
   "pygments_lexer": "ipython3",
   "version": "3.8.10"
  },
  "toc": {
   "base_numbering": 1,
   "nav_menu": {},
   "number_sections": true,
   "sideBar": true,
   "skip_h1_title": false,
   "title_cell": "Table of Contents",
   "title_sidebar": "Contents",
   "toc_cell": false,
   "toc_position": {},
   "toc_section_display": true,
   "toc_window_display": false
  }
 },
 "nbformat": 4,
 "nbformat_minor": 4
}

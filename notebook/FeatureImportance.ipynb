{
 "cells": [
  {
   "cell_type": "code",
   "execution_count": 1,
   "id": "2a38be04",
   "metadata": {
    "ExecuteTime": {
     "end_time": "2021-10-26T00:39:46.176632Z",
     "start_time": "2021-10-26T00:39:45.017219Z"
    }
   },
   "outputs": [],
   "source": [
    "import sys\n",
    "sys.path.append(\"../src/\")\n",
    "import gc\n",
    "import time\n",
    "from torch import nn\n",
    "from torch.cuda.amp import autocast, GradScaler\n",
    "from torch.utils.data import DataLoader\n",
    "from torch.optim.swa_utils import update_bn\n",
    "import wandb\n",
    "\n",
    "from util import *\n",
    "from dataset import *\n",
    "from models import get_model\n",
    "from loss import get_loss\n",
    "from metric import cal_mae_metric\n",
    "from optim import get_optimizer\n",
    "from util import *\n",
    "from FE import add_features_choice\n",
    "from dataset import read_data, prepare_train_valid, VPP\n",
    "from infer_helper import get_test_avg, get_cv_score\n",
    "from config import read_config, update_config, prepare_args\n",
    "from models import get_model\n",
    "from tqdm import tqdm\n",
    "\n",
    "import matplotlib.pyplot as plt"
   ]
  },
  {
   "cell_type": "code",
   "execution_count": 2,
   "id": "9ebd35a5",
   "metadata": {
    "ExecuteTime": {
     "end_time": "2021-10-26T00:39:46.179607Z",
     "start_time": "2021-10-26T00:39:46.177560Z"
    }
   },
   "outputs": [],
   "source": [
    "from torchsummary import summary"
   ]
  },
  {
   "cell_type": "code",
   "execution_count": 3,
   "id": "d6eebf55",
   "metadata": {
    "ExecuteTime": {
     "end_time": "2021-10-26T00:39:46.473483Z",
     "start_time": "2021-10-26T00:39:46.406742Z"
    }
   },
   "outputs": [
    {
     "name": "stdout",
     "output_type": "stream",
     "text": [
      "Using device: cuda\n",
      "Number of device: 1\n",
      "Model Output Folder: /home/vincent/Kaggle/GBVPP/output/base_better_OP01_lossMAE/\n"
     ]
    }
   ],
   "source": [
    "config = read_config(\"base_better_OP01_lossMAE\")\n",
    "config.gpu = [0]\n",
    "config.train_folds = [0]\n",
    "config = update_config(config)"
   ]
  },
  {
   "cell_type": "code",
   "execution_count": 4,
   "id": "fd3dd5f6",
   "metadata": {
    "ExecuteTime": {
     "end_time": "2021-10-26T00:41:01.944911Z",
     "start_time": "2021-10-26T00:39:46.758763Z"
    }
   },
   "outputs": [
    {
     "name": "stdout",
     "output_type": "stream",
     "text": [
      "--- Generate u_out features ---\n",
      "--- Generate time features ---\n",
      "--- Generate u_in features ---\n",
      "--- Generate cross sectional features ---\n",
      "--- Generate R C features ---\n"
     ]
    }
   ],
   "source": [
    "train, test = read_data(config)\n",
    "del test\n",
    "train = add_features_choice(train.copy(), config)\n",
    "seed_torch(seed=config.seed)"
   ]
  },
  {
   "cell_type": "code",
   "execution_count": 5,
   "id": "84440147",
   "metadata": {
    "ExecuteTime": {
     "end_time": "2021-10-26T00:41:01.956472Z",
     "start_time": "2021-10-26T00:41:01.945843Z"
    }
   },
   "outputs": [
    {
     "data": {
      "text/html": [
       "<div>\n",
       "<style scoped>\n",
       "    .dataframe tbody tr th:only-of-type {\n",
       "        vertical-align: middle;\n",
       "    }\n",
       "\n",
       "    .dataframe tbody tr th {\n",
       "        vertical-align: top;\n",
       "    }\n",
       "\n",
       "    .dataframe thead th {\n",
       "        text-align: right;\n",
       "    }\n",
       "</style>\n",
       "<table border=\"1\" class=\"dataframe\">\n",
       "  <thead>\n",
       "    <tr style=\"text-align: right;\">\n",
       "      <th></th>\n",
       "      <th>id</th>\n",
       "      <th>breath_id</th>\n",
       "      <th>time_step</th>\n",
       "      <th>u_in</th>\n",
       "      <th>u_out</th>\n",
       "      <th>pressure</th>\n",
       "      <th>fold</th>\n",
       "      <th>step</th>\n",
       "      <th>u_out_diff</th>\n",
       "      <th>u_out_diff_back1</th>\n",
       "      <th>...</th>\n",
       "      <th>C_50</th>\n",
       "      <th>R_C_20_10</th>\n",
       "      <th>R_C_20_20</th>\n",
       "      <th>R_C_20_50</th>\n",
       "      <th>R_C_50_10</th>\n",
       "      <th>R_C_50_20</th>\n",
       "      <th>R_C_50_50</th>\n",
       "      <th>R_C_5_10</th>\n",
       "      <th>R_C_5_20</th>\n",
       "      <th>R_C_5_50</th>\n",
       "    </tr>\n",
       "  </thead>\n",
       "  <tbody>\n",
       "    <tr>\n",
       "      <th>0</th>\n",
       "      <td>1</td>\n",
       "      <td>1</td>\n",
       "      <td>0.000000</td>\n",
       "      <td>0.083334</td>\n",
       "      <td>0</td>\n",
       "      <td>5.837492</td>\n",
       "      <td>4</td>\n",
       "      <td>0</td>\n",
       "      <td>0.0</td>\n",
       "      <td>0.0</td>\n",
       "      <td>...</td>\n",
       "      <td>1</td>\n",
       "      <td>0</td>\n",
       "      <td>0</td>\n",
       "      <td>1</td>\n",
       "      <td>0</td>\n",
       "      <td>0</td>\n",
       "      <td>0</td>\n",
       "      <td>0</td>\n",
       "      <td>0</td>\n",
       "      <td>0</td>\n",
       "    </tr>\n",
       "    <tr>\n",
       "      <th>1</th>\n",
       "      <td>2</td>\n",
       "      <td>1</td>\n",
       "      <td>0.033652</td>\n",
       "      <td>18.383041</td>\n",
       "      <td>0</td>\n",
       "      <td>5.907794</td>\n",
       "      <td>4</td>\n",
       "      <td>1</td>\n",
       "      <td>0.0</td>\n",
       "      <td>0.0</td>\n",
       "      <td>...</td>\n",
       "      <td>1</td>\n",
       "      <td>0</td>\n",
       "      <td>0</td>\n",
       "      <td>1</td>\n",
       "      <td>0</td>\n",
       "      <td>0</td>\n",
       "      <td>0</td>\n",
       "      <td>0</td>\n",
       "      <td>0</td>\n",
       "      <td>0</td>\n",
       "    </tr>\n",
       "    <tr>\n",
       "      <th>2</th>\n",
       "      <td>3</td>\n",
       "      <td>1</td>\n",
       "      <td>0.067514</td>\n",
       "      <td>22.509277</td>\n",
       "      <td>0</td>\n",
       "      <td>7.876254</td>\n",
       "      <td>4</td>\n",
       "      <td>2</td>\n",
       "      <td>0.0</td>\n",
       "      <td>0.0</td>\n",
       "      <td>...</td>\n",
       "      <td>1</td>\n",
       "      <td>0</td>\n",
       "      <td>0</td>\n",
       "      <td>1</td>\n",
       "      <td>0</td>\n",
       "      <td>0</td>\n",
       "      <td>0</td>\n",
       "      <td>0</td>\n",
       "      <td>0</td>\n",
       "      <td>0</td>\n",
       "    </tr>\n",
       "    <tr>\n",
       "      <th>3</th>\n",
       "      <td>4</td>\n",
       "      <td>1</td>\n",
       "      <td>0.101542</td>\n",
       "      <td>22.808823</td>\n",
       "      <td>0</td>\n",
       "      <td>11.742872</td>\n",
       "      <td>4</td>\n",
       "      <td>3</td>\n",
       "      <td>0.0</td>\n",
       "      <td>0.0</td>\n",
       "      <td>...</td>\n",
       "      <td>1</td>\n",
       "      <td>0</td>\n",
       "      <td>0</td>\n",
       "      <td>1</td>\n",
       "      <td>0</td>\n",
       "      <td>0</td>\n",
       "      <td>0</td>\n",
       "      <td>0</td>\n",
       "      <td>0</td>\n",
       "      <td>0</td>\n",
       "    </tr>\n",
       "    <tr>\n",
       "      <th>4</th>\n",
       "      <td>5</td>\n",
       "      <td>1</td>\n",
       "      <td>0.135756</td>\n",
       "      <td>25.355850</td>\n",
       "      <td>0</td>\n",
       "      <td>12.234987</td>\n",
       "      <td>4</td>\n",
       "      <td>4</td>\n",
       "      <td>0.0</td>\n",
       "      <td>0.0</td>\n",
       "      <td>...</td>\n",
       "      <td>1</td>\n",
       "      <td>0</td>\n",
       "      <td>0</td>\n",
       "      <td>1</td>\n",
       "      <td>0</td>\n",
       "      <td>0</td>\n",
       "      <td>0</td>\n",
       "      <td>0</td>\n",
       "      <td>0</td>\n",
       "      <td>0</td>\n",
       "    </tr>\n",
       "  </tbody>\n",
       "</table>\n",
       "<p>5 rows × 72 columns</p>\n",
       "</div>"
      ],
      "text/plain": [
       "   id  breath_id  time_step       u_in  u_out   pressure  fold  step  \\\n",
       "0   1          1   0.000000   0.083334      0   5.837492     4     0   \n",
       "1   2          1   0.033652  18.383041      0   5.907794     4     1   \n",
       "2   3          1   0.067514  22.509277      0   7.876254     4     2   \n",
       "3   4          1   0.101542  22.808823      0  11.742872     4     3   \n",
       "4   5          1   0.135756  25.355850      0  12.234987     4     4   \n",
       "\n",
       "   u_out_diff  u_out_diff_back1  ...  C_50  R_C_20_10  R_C_20_20  R_C_20_50  \\\n",
       "0         0.0               0.0  ...     1          0          0          1   \n",
       "1         0.0               0.0  ...     1          0          0          1   \n",
       "2         0.0               0.0  ...     1          0          0          1   \n",
       "3         0.0               0.0  ...     1          0          0          1   \n",
       "4         0.0               0.0  ...     1          0          0          1   \n",
       "\n",
       "   R_C_50_10  R_C_50_20  R_C_50_50  R_C_5_10  R_C_5_20  R_C_5_50  \n",
       "0          0          0          0         0         0         0  \n",
       "1          0          0          0         0         0         0  \n",
       "2          0          0          0         0         0         0  \n",
       "3          0          0          0         0         0         0  \n",
       "4          0          0          0         0         0         0  \n",
       "\n",
       "[5 rows x 72 columns]"
      ]
     },
     "execution_count": 5,
     "metadata": {},
     "output_type": "execute_result"
    }
   ],
   "source": [
    "train.head()"
   ]
  },
  {
   "cell_type": "code",
   "execution_count": 7,
   "id": "9ae3d3c3",
   "metadata": {
    "ExecuteTime": {
     "end_time": "2021-10-26T00:42:04.300697Z",
     "start_time": "2021-10-26T00:41:51.176552Z"
    }
   },
   "outputs": [
    {
     "name": "stdout",
     "output_type": "stream",
     "text": [
      "Prepare train valid\n",
      "(6036000, 72)\n",
      "Use scale to fit train and scale valid\n"
     ]
    },
    {
     "data": {
      "text/plain": [
       "0"
      ]
     },
     "execution_count": 7,
     "metadata": {},
     "output_type": "execute_result"
    }
   ],
   "source": [
    "X_train, y_train, w_train, X_valid, y_valid, w_valid = prepare_train_valid(train.copy(), config, 1)\n",
    "del X_train, y_train, w_train\n",
    "gc.collect()"
   ]
  },
  {
   "cell_type": "code",
   "execution_count": 8,
   "id": "3d0720f8",
   "metadata": {
    "ExecuteTime": {
     "end_time": "2021-10-26T00:42:04.376617Z",
     "start_time": "2021-10-26T00:42:04.301648Z"
    }
   },
   "outputs": [],
   "source": [
    "valid_dt = VPP(X_valid, y_valid, w_valid, config)\n",
    "valid_loader = DataLoader(valid_dt,\n",
    "                          batch_size=config.batch_size,\n",
    "                          shuffle=False,\n",
    "                          num_workers=config.num_workers, pin_memory=True, drop_last=False)"
   ]
  },
  {
   "cell_type": "code",
   "execution_count": 9,
   "id": "7ca2c294",
   "metadata": {
    "ExecuteTime": {
     "end_time": "2021-10-26T00:42:04.379891Z",
     "start_time": "2021-10-26T00:42:04.377449Z"
    }
   },
   "outputs": [],
   "source": [
    "def get_valid_pred(valid_loader, model, device):\n",
    "    model.eval()\n",
    "    preds = []\n",
    "    for step, batch in enumerate(valid_loader, 1):\n",
    "        with torch.no_grad():\n",
    "            X = batch[0].to(device)\n",
    "            outputs = model(X).squeeze()\n",
    "            preds.append(outputs.to('cpu').detach().numpy())\n",
    "    predictions = np.concatenate(preds, axis=0)\n",
    "    return predictions"
   ]
  },
  {
   "cell_type": "code",
   "execution_count": 10,
   "id": "0b03bad5",
   "metadata": {
    "ExecuteTime": {
     "end_time": "2021-10-26T00:42:08.285825Z",
     "start_time": "2021-10-26T00:42:04.399769Z"
    }
   },
   "outputs": [
    {
     "name": "stdout",
     "output_type": "stream",
     "text": [
      "Model Size: 5840641\n"
     ]
    },
    {
     "data": {
      "text/plain": [
       "Model(\n",
       "  (lstms): ModuleList(\n",
       "    (0): LSTM(68, 512, batch_first=True, bidirectional=True)\n",
       "    (1): LSTM(1024, 256, batch_first=True, bidirectional=True)\n",
       "    (2): LSTM(512, 128, batch_first=True, bidirectional=True)\n",
       "    (3): LSTM(256, 64, batch_first=True, bidirectional=True)\n",
       "  )\n",
       "  (bns): ModuleList(\n",
       "    (0): BatchNorm1d(80, eps=1e-05, momentum=0.1, affine=True, track_running_stats=True)\n",
       "    (1): BatchNorm1d(80, eps=1e-05, momentum=0.1, affine=True, track_running_stats=True)\n",
       "    (2): BatchNorm1d(80, eps=1e-05, momentum=0.1, affine=True, track_running_stats=True)\n",
       "    (3): BatchNorm1d(80, eps=1e-05, momentum=0.1, affine=True, track_running_stats=True)\n",
       "  )\n",
       "  (fc1): Linear(in_features=128, out_features=64, bias=True)\n",
       "  (act): SELU()\n",
       "  (fc2): Linear(in_features=64, out_features=1, bias=True)\n",
       "  (scaler): ScaleLayer()\n",
       ")"
      ]
     },
     "execution_count": 10,
     "metadata": {},
     "output_type": "execute_result"
    }
   ],
   "source": [
    "model = get_model(X_valid.shape[-1], config)\n",
    "checkpoint = torch.load(f'{config.model_output_folder}/Fold_1_best_model.pth')\n",
    "model.load_state_dict((checkpoint['model_state_dict']))\n",
    "print(\"Model Size: {}\".format(get_n_params(model)))\n",
    "model.to(config.device)"
   ]
  },
  {
   "cell_type": "code",
   "execution_count": 11,
   "id": "f29d0042",
   "metadata": {
    "ExecuteTime": {
     "end_time": "2021-10-26T00:42:08.288772Z",
     "start_time": "2021-10-26T00:42:08.286851Z"
    }
   },
   "outputs": [],
   "source": [
    "COLS = [col for col in train.columns if col not in [\"id\", \"breath_id\", \"fold\", \"pressure\"]]"
   ]
  },
  {
   "cell_type": "code",
   "execution_count": 12,
   "id": "628a9bfb",
   "metadata": {
    "ExecuteTime": {
     "end_time": "2021-10-26T00:42:20.575225Z",
     "start_time": "2021-10-26T00:42:16.834425Z"
    }
   },
   "outputs": [
    {
     "name": "stdout",
     "output_type": "stream",
     "text": [
      " Computing LSTM feature importance...\n",
      "0.2034806875005454\n"
     ]
    }
   ],
   "source": [
    "results = []\n",
    "print(' Computing LSTM feature importance...')\n",
    "# COMPUTE BASELINE (NO SHUFFLE)\n",
    "oof_preds = get_valid_pred(valid_loader, model, config.device)\n",
    "baseline_mae = (np.abs( oof_preds-y_valid ) * w_valid).sum()/w_valid.sum()\n",
    "results.append({'feature':'BASELINE','mae':baseline_mae})           \n",
    "print(baseline_mae)"
   ]
  },
  {
   "cell_type": "code",
   "execution_count": 13,
   "id": "385f654d",
   "metadata": {
    "ExecuteTime": {
     "end_time": "2021-10-26T00:46:43.714737Z",
     "start_time": "2021-10-26T00:42:30.702451Z"
    }
   },
   "outputs": [
    {
     "name": "stderr",
     "output_type": "stream",
     "text": [
      "100%|████████████████████████████████████████████████████████████████████| 68/68 [04:13<00:00,  3.72s/it]\n"
     ]
    }
   ],
   "source": [
    "for k in tqdm(range(len(COLS))):\n",
    "    # SHUFFLE FEATURE K\n",
    "    save_col = X_valid[:,:,k].copy()\n",
    "    np.random.shuffle(X_valid[:,:,k])\n",
    "    valid_dt = VPP(X_valid, y_valid, w_valid, config)\n",
    "    valid_loader = DataLoader(valid_dt,\n",
    "                              batch_size=config.batch_size,\n",
    "                              shuffle=False,\n",
    "                              num_workers=config.num_workers, pin_memory=True, drop_last=False)    \n",
    "    # COMPUTE OOF MAE WITH FEATURE K SHUFFLED\n",
    "    oof_preds = get_valid_pred(valid_loader, model, config.device)\n",
    "    mae = (np.abs( oof_preds-y_valid ) * w_valid).sum()/w_valid.sum()\n",
    "    results.append({'feature':COLS[k],'mae':mae})\n",
    "    X_valid[:,:,k] = save_col"
   ]
  },
  {
   "cell_type": "code",
   "execution_count": 14,
   "id": "5f6bfcd2",
   "metadata": {
    "ExecuteTime": {
     "end_time": "2021-10-26T00:47:02.625172Z",
     "start_time": "2021-10-26T00:47:02.117028Z"
    }
   },
   "outputs": [
    {
     "name": "stdout",
     "output_type": "stream",
     "text": [
      "\n"
     ]
    },
    {
     "data": {
      "image/png": "[encoded data removed]",
      "text/plain": [
       "<Figure size 720x1440 with 1 Axes>"
      ]
     },
     "metadata": {
      "needs_background": "light"
     },
     "output_type": "display_data"
    }
   ],
   "source": [
    "# DISPLAY LSTM FEATURE IMPORTANCE\n",
    "print()\n",
    "df = pd.DataFrame(results)\n",
    "df = df.sort_values('mae')\n",
    "plt.figure(figsize=(10,20))\n",
    "plt.barh(np.arange(len(COLS)+1),df.mae)\n",
    "plt.yticks(np.arange(len(COLS)+1),df.feature.values)\n",
    "plt.title('LSTM Feature Importance',size=16)\n",
    "plt.ylim((-1,len(COLS)+1))\n",
    "plt.plot([baseline_mae,baseline_mae],[-1,len(COLS)+1], '--', color='orange',\n",
    "         label=f'Baseline OOF\\nMAE={baseline_mae:.3f}')\n",
    "plt.xlabel(f'Fold 0 OOF MAE with feature permuted',size=14)\n",
    "plt.ylabel('Feature',size=14)\n",
    "plt.legend()\n",
    "plt.show()\n",
    "\n",
    "# SAVE LSTM FEATURE IMPORTANCE\n",
    "\n",
    "df = df.sort_values('mae',ascending=False)\n",
    "df.to_csv(f'../output/lstm_feature_importance_fold_1.csv',index=False)"
   ]
  },
  {
   "cell_type": "code",
   "execution_count": 15,
   "id": "84caf227",
   "metadata": {
    "ExecuteTime": {
     "end_time": "2021-10-26T00:49:40.424367Z",
     "start_time": "2021-10-26T00:49:35.869864Z"
    }
   },
   "outputs": [],
   "source": [
    "train, test = read_data(config)"
   ]
  }
 ],
 "metadata": {
  "kernelspec": {
   "display_name": "Python 3 (ipykernel)",
   "language": "python",
   "name": "python3"
  },
  "language_info": {
   "codemirror_mode": {
    "name": "ipython",
    "version": 3
   },
   "file_extension": ".py",
   "mimetype": "text/x-python",
   "name": "python",
   "nbconvert_exporter": "python",
   "pygments_lexer": "ipython3",
   "version": "3.8.10"
  },
  "toc": {
   "base_numbering": 1,
   "nav_menu": {},
   "number_sections": true,
   "sideBar": true,
   "skip_h1_title": false,
   "title_cell": "Table of Contents",
   "title_sidebar": "Contents",
   "toc_cell": false,
   "toc_position": {},
   "toc_section_display": true,
   "toc_window_display": false
  }
 },
 "nbformat": 4,
 "nbformat_minor": 5
}

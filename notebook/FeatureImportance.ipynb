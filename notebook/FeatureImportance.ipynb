{
 "cells": [
  {
   "cell_type": "code",
   "execution_count": 11,
   "id": "2a38be04",
   "metadata": {
    "ExecuteTime": {
     "end_time": "2021-10-25T02:39:32.788092Z",
     "start_time": "2021-10-25T02:39:32.784503Z"
    }
   },
   "outputs": [],
   "source": [
    "import sys\n",
    "sys.path.append(\"../src/\")\n",
    "import gc\n",
    "\n",
    "from util import *\n",
    "from FE import add_features_choice\n",
    "from dataset import read_data, prepare_train_valid\n",
    "from infer_helper import get_test_avg, get_cv_score\n",
    "from config import read_config, update_config, prepare_args\n",
    "from models import get_model"
   ]
  },
  {
   "cell_type": "code",
   "execution_count": 3,
   "id": "d6eebf55",
   "metadata": {
    "ExecuteTime": {
     "end_time": "2021-10-25T02:35:45.865518Z",
     "start_time": "2021-10-25T02:35:45.797663Z"
    }
   },
   "outputs": [
    {
     "name": "stdout",
     "output_type": "stream",
     "text": [
      "Using device: cuda\n",
      "Number of device: 1\n",
      "Model Output Folder: /home/vincent/Kaggle/GBVPP/output/base_fc128/\n"
     ]
    }
   ],
   "source": [
    "config = read_config(\"base_fc128\")\n",
    "config.gpu = [0]\n",
    "config.train_folds = [0]\n",
    "config = update_config(config)"
   ]
  },
  {
   "cell_type": "code",
   "execution_count": 4,
   "id": "fd3dd5f6",
   "metadata": {
    "ExecuteTime": {
     "end_time": "2021-10-25T02:37:05.344718Z",
     "start_time": "2021-10-25T02:35:47.671341Z"
    }
   },
   "outputs": [
    {
     "name": "stdout",
     "output_type": "stream",
     "text": [
      "--- Generate u_out features ---\n",
      "--- Generate time features ---\n",
      "--- Generate u_in features ---\n",
      "--- Generate cross sectional features ---\n",
      "--- Generate R C features ---\n"
     ]
    }
   ],
   "source": [
    "train, test = read_data(config)\n",
    "del test\n",
    "train = add_features_choice(train.copy(), config)\n",
    "seed_torch(seed=config.seed)"
   ]
  },
  {
   "cell_type": "code",
   "execution_count": 9,
   "id": "9ae3d3c3",
   "metadata": {
    "ExecuteTime": {
     "end_time": "2021-10-25T02:38:38.331925Z",
     "start_time": "2021-10-25T02:38:23.622119Z"
    }
   },
   "outputs": [
    {
     "name": "stdout",
     "output_type": "stream",
     "text": [
      "Prepare train valid\n",
      "(6036000, 63)\n",
      "Use scale to fit train and scale valid\n"
     ]
    }
   ],
   "source": [
    "_,_,_, X_valid, y_valid, w_valid = prepare_train_valid(train, config, 0)"
   ]
  },
  {
   "cell_type": "code",
   "execution_count": 13,
   "id": "0b03bad5",
   "metadata": {
    "ExecuteTime": {
     "end_time": "2021-10-25T02:39:53.130263Z",
     "start_time": "2021-10-25T02:39:48.761001Z"
    }
   },
   "outputs": [
    {
     "name": "stdout",
     "output_type": "stream",
     "text": [
      "Model Size: 5811457\n"
     ]
    },
    {
     "data": {
      "text/plain": [
       "Model(\n",
       "  (lstms): ModuleList(\n",
       "    (0): LSTM(59, 512, batch_first=True, bidirectional=True)\n",
       "    (1): LSTM(1024, 256, batch_first=True, bidirectional=True)\n",
       "    (2): LSTM(512, 128, batch_first=True, bidirectional=True)\n",
       "    (3): LSTM(256, 64, batch_first=True, bidirectional=True)\n",
       "  )\n",
       "  (fc1): Linear(in_features=128, out_features=128, bias=True)\n",
       "  (act): SELU()\n",
       "  (fc2): Linear(in_features=128, out_features=1, bias=True)\n",
       "  (scaler): ScaleLayer()\n",
       ")"
      ]
     },
     "execution_count": 13,
     "metadata": {},
     "output_type": "execute_result"
    }
   ],
   "source": [
    "model = get_model(X_valid.shape[-1], config)\n",
    "print(\"Model Size: {}\".format(get_n_params(model)))\n",
    "model.to(config.device)"
   ]
  },
  {
   "cell_type": "code",
   "execution_count": 15,
   "id": "f29d0042",
   "metadata": {
    "ExecuteTime": {
     "end_time": "2021-10-25T02:41:02.525957Z",
     "start_time": "2021-10-25T02:41:02.523393Z"
    }
   },
   "outputs": [],
   "source": [
    "COLS = [col for col in train.columns if col not in [\"id\", \"breath_id\", \"fold\", \"pressure\"]]"
   ]
  },
  {
   "cell_type": "code",
   "execution_count": 16,
   "id": "628a9bfb",
   "metadata": {
    "ExecuteTime": {
     "end_time": "2021-10-25T02:41:37.752754Z",
     "start_time": "2021-10-25T02:41:37.736813Z"
    }
   },
   "outputs": [
    {
     "name": "stdout",
     "output_type": "stream",
     "text": [
      " Computing LSTM feature importance...\n"
     ]
    },
    {
     "ename": "AttributeError",
     "evalue": "'Model' object has no attribute 'predict'",
     "output_type": "error",
     "traceback": [
      "\u001b[0;31m---------------------------------------------------------------------------\u001b[0m",
      "\u001b[0;31mAttributeError\u001b[0m                            Traceback (most recent call last)",
      "\u001b[0;32m/tmp/ipykernel_1113587/938979895.py\u001b[0m in \u001b[0;36m<module>\u001b[0;34m\u001b[0m\n\u001b[1;32m      2\u001b[0m \u001b[0mprint\u001b[0m\u001b[0;34m(\u001b[0m\u001b[0;34m' Computing LSTM feature importance...'\u001b[0m\u001b[0;34m)\u001b[0m\u001b[0;34m\u001b[0m\u001b[0;34m\u001b[0m\u001b[0m\n\u001b[1;32m      3\u001b[0m \u001b[0;31m# COMPUTE BASELINE (NO SHUFFLE)\u001b[0m\u001b[0;34m\u001b[0m\u001b[0;34m\u001b[0m\u001b[0;34m\u001b[0m\u001b[0m\n\u001b[0;32m----> 4\u001b[0;31m \u001b[0moof_preds\u001b[0m \u001b[0;34m=\u001b[0m \u001b[0mmodel\u001b[0m\u001b[0;34m.\u001b[0m\u001b[0mpredict\u001b[0m\u001b[0;34m(\u001b[0m\u001b[0mX_valid\u001b[0m\u001b[0;34m,\u001b[0m \u001b[0mverbose\u001b[0m\u001b[0;34m=\u001b[0m\u001b[0;36m0\u001b[0m\u001b[0;34m)\u001b[0m\u001b[0;34m.\u001b[0m\u001b[0msqueeze\u001b[0m\u001b[0;34m(\u001b[0m\u001b[0;34m)\u001b[0m\u001b[0;34m\u001b[0m\u001b[0;34m\u001b[0m\u001b[0m\n\u001b[0m\u001b[1;32m      5\u001b[0m \u001b[0mbaseline_mae\u001b[0m \u001b[0;34m=\u001b[0m \u001b[0;34m(\u001b[0m\u001b[0mnp\u001b[0m\u001b[0;34m.\u001b[0m\u001b[0mabs\u001b[0m\u001b[0;34m(\u001b[0m \u001b[0moof_preds\u001b[0m\u001b[0;34m-\u001b[0m\u001b[0my_valid\u001b[0m \u001b[0;34m)\u001b[0m \u001b[0;34m*\u001b[0m \u001b[0mw_valid\u001b[0m\u001b[0;34m)\u001b[0m\u001b[0;34m.\u001b[0m\u001b[0msum\u001b[0m\u001b[0;34m(\u001b[0m\u001b[0;34m)\u001b[0m\u001b[0;34m/\u001b[0m\u001b[0mw_valid\u001b[0m\u001b[0;34m.\u001b[0m\u001b[0msum\u001b[0m\u001b[0;34m(\u001b[0m\u001b[0;34m)\u001b[0m\u001b[0;34m\u001b[0m\u001b[0;34m\u001b[0m\u001b[0m\n\u001b[1;32m      6\u001b[0m \u001b[0mresults\u001b[0m\u001b[0;34m.\u001b[0m\u001b[0mappend\u001b[0m\u001b[0;34m(\u001b[0m\u001b[0;34m{\u001b[0m\u001b[0;34m'feature'\u001b[0m\u001b[0;34m:\u001b[0m\u001b[0;34m'BASELINE'\u001b[0m\u001b[0;34m,\u001b[0m\u001b[0;34m'mae'\u001b[0m\u001b[0;34m:\u001b[0m\u001b[0mbaseline_mae\u001b[0m\u001b[0;34m}\u001b[0m\u001b[0;34m)\u001b[0m\u001b[0;34m\u001b[0m\u001b[0;34m\u001b[0m\u001b[0m\n",
      "\u001b[0;32m~/.local/lib/python3.8/site-packages/torch/nn/modules/module.py\u001b[0m in \u001b[0;36m__getattr__\u001b[0;34m(self, name)\u001b[0m\n\u001b[1;32m   1128\u001b[0m             \u001b[0;32mif\u001b[0m \u001b[0mname\u001b[0m \u001b[0;32min\u001b[0m \u001b[0mmodules\u001b[0m\u001b[0;34m:\u001b[0m\u001b[0;34m\u001b[0m\u001b[0;34m\u001b[0m\u001b[0m\n\u001b[1;32m   1129\u001b[0m                 \u001b[0;32mreturn\u001b[0m \u001b[0mmodules\u001b[0m\u001b[0;34m[\u001b[0m\u001b[0mname\u001b[0m\u001b[0;34m]\u001b[0m\u001b[0;34m\u001b[0m\u001b[0;34m\u001b[0m\u001b[0m\n\u001b[0;32m-> 1130\u001b[0;31m         raise AttributeError(\"'{}' object has no attribute '{}'\".format(\n\u001b[0m\u001b[1;32m   1131\u001b[0m             type(self).__name__, name))\n\u001b[1;32m   1132\u001b[0m \u001b[0;34m\u001b[0m\u001b[0m\n",
      "\u001b[0;31mAttributeError\u001b[0m: 'Model' object has no attribute 'predict'"
     ]
    }
   ],
   "source": [
    "results = []\n",
    "print(' Computing LSTM feature importance...')\n",
    "# COMPUTE BASELINE (NO SHUFFLE)\n",
    "oof_preds = model(X_valid, verbose=0).squeeze() \n",
    "baseline_mae = (np.abs( oof_preds-y_valid ) * w_valid).sum()/w_valid.sum()\n",
    "results.append({'feature':'BASELINE','mae':baseline_mae})           \n",
    "for k in tqdm(range(len(COLS))):\n",
    "    # SHUFFLE FEATURE K\n",
    "    save_col = X_valid[:,:,k].copy()\n",
    "    np.random.shuffle(X_valid[:,:,k])\n",
    "\n",
    "    # COMPUTE OOF MAE WITH FEATURE K SHUFFLED\n",
    "    oof_preds = model.predict(X_valid, verbose=0).squeeze() \n",
    "    mae = np.mean(np.abs( oof_preds-y_valid ))\n",
    "    results.append({'feature':COLS[k],'mae':mae})\n",
    "    X_valid[:,:,k] = save_col\n",
    "\n",
    "# DISPLAY LSTM FEATURE IMPORTANCE\n",
    "print()\n",
    "df = pd.DataFrame(results)\n",
    "df = df.sort_values('mae')\n",
    "plt.figure(figsize=(10,20))\n",
    "plt.barh(np.arange(len(COLS)+1),df.mae)\n",
    "plt.yticks(np.arange(len(COLS)+1),df.feature.values)\n",
    "plt.title('LSTM Feature Importance',size=16)\n",
    "plt.ylim((-1,len(COLS)+1))\n",
    "plt.plot([baseline_mae,baseline_mae],[-1,len(COLS)+1], '--', color='orange',\n",
    "         label=f'Baseline OOF\\nMAE={baseline_mae:.3f}')\n",
    "plt.xlabel(f'Fold 0 OOF MAE with feature permuted',size=14)\n",
    "plt.ylabel('Feature',size=14)\n",
    "plt.legend()\n",
    "plt.show()\n",
    "\n",
    "# SAVE LSTM FEATURE IMPORTANCE\n",
    "df = df.sort_values('mae',ascending=False)\n",
    "df.to_csv(f'../output/lstm_feature_importance_fold_0.csv',index=False)"
   ]
  },
  {
   "cell_type": "code",
   "execution_count": null,
   "id": "34e34f11",
   "metadata": {},
   "outputs": [],
   "source": []
  }
 ],
 "metadata": {
  "kernelspec": {
   "display_name": "Python 3 (ipykernel)",
   "language": "python",
   "name": "python3"
  },
  "language_info": {
   "codemirror_mode": {
    "name": "ipython",
    "version": 3
   },
   "file_extension": ".py",
   "mimetype": "text/x-python",
   "name": "python",
   "nbconvert_exporter": "python",
   "pygments_lexer": "ipython3",
   "version": "3.8.10"
  },
  "toc": {
   "base_numbering": 1,
   "nav_menu": {},
   "number_sections": true,
   "sideBar": true,
   "skip_h1_title": false,
   "title_cell": "Table of Contents",
   "title_sidebar": "Contents",
   "toc_cell": false,
   "toc_position": {},
   "toc_section_display": true,
   "toc_window_display": false
  }
 },
 "nbformat": 4,
 "nbformat_minor": 5
}

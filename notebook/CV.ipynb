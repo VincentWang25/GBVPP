{
 "cells": [
  {
   "cell_type": "code",
   "execution_count": 22,
   "metadata": {
    "ExecuteTime": {
     "end_time": "2021-10-11T02:21:36.044886Z",
     "start_time": "2021-10-11T02:21:36.041361Z"
    }
   },
   "outputs": [
    {
     "data": {
      "text/html": [
       "<style>.container { width:100% !important; }</style>"
      ],
      "text/plain": [
       "<IPython.core.display.HTML object>"
      ]
     },
     "metadata": {},
     "output_type": "display_data"
    }
   ],
   "source": [
    "from IPython.core.display import display, HTML\n",
    "display(HTML(\"<style>.container { width:100% !important; }</style>\"))\n",
    "\n",
    "import pandas as pd\n",
    "import numpy as np\n",
    "import matplotlib.pyplot as plt\n",
    "from sklearn.model_selection import StratifiedGroupKFold,StratifiedKFold"
   ]
  },
  {
   "cell_type": "code",
   "execution_count": 2,
   "metadata": {
    "ExecuteTime": {
     "end_time": "2021-10-11T01:59:33.207844Z",
     "start_time": "2021-10-11T01:59:33.205046Z"
    }
   },
   "outputs": [],
   "source": [
    "kaggle_data_folder = \"/media/vincentwang/Backup/kaggle_data/ventilator-pressure-prediction\"\n",
    "output_folder = \"../output/\""
   ]
  },
  {
   "cell_type": "code",
   "execution_count": 3,
   "metadata": {
    "ExecuteTime": {
     "end_time": "2021-10-11T02:00:20.037713Z",
     "start_time": "2021-10-11T01:59:39.798206Z"
    }
   },
   "outputs": [],
   "source": [
    "train = pd.read_csv(kaggle_data_folder + \"/train.csv\")"
   ]
  },
  {
   "cell_type": "code",
   "execution_count": 8,
   "metadata": {
    "ExecuteTime": {
     "end_time": "2021-10-11T02:01:26.082379Z",
     "start_time": "2021-10-11T02:01:19.519383Z"
    }
   },
   "outputs": [],
   "source": [
    "seed = 48\n",
    "y = train['R'].astype(str)  + \"__\" + train['C'].astype(str)"
   ]
  },
  {
   "cell_type": "code",
   "execution_count": 11,
   "metadata": {
    "ExecuteTime": {
     "end_time": "2021-10-11T02:06:40.698248Z",
     "start_time": "2021-10-11T02:06:40.692341Z"
    }
   },
   "outputs": [
    {
     "data": {
      "text/plain": [
       "0          20__50\n",
       "1          20__50\n",
       "2          20__50\n",
       "3          20__50\n",
       "4          20__50\n",
       "            ...  \n",
       "6035995    50__10\n",
       "6035996    50__10\n",
       "6035997    50__10\n",
       "6035998    50__10\n",
       "6035999    50__10\n",
       "Length: 6036000, dtype: object"
      ]
     },
     "execution_count": 11,
     "metadata": {},
     "output_type": "execute_result"
    }
   ],
   "source": [
    "y"
   ]
  },
  {
   "cell_type": "code",
   "execution_count": 32,
   "metadata": {
    "ExecuteTime": {
     "end_time": "2021-10-11T02:27:30.936323Z",
     "start_time": "2021-10-11T02:27:22.042422Z"
    }
   },
   "outputs": [],
   "source": [
    "RC_train = train.groupby(\"id\")[[\"R\",\"C\"]].last()\n",
    "RC_train.reset_index(inplace=True)\n",
    "RC_train[\"R_C\"] = RC_train[\"R\"].astype(str) + \"_\" + RC_train[\"C\"].astype(str)"
   ]
  },
  {
   "cell_type": "code",
   "execution_count": 33,
   "metadata": {
    "ExecuteTime": {
     "end_time": "2021-10-11T02:27:31.007406Z",
     "start_time": "2021-10-11T02:27:30.937428Z"
    }
   },
   "outputs": [],
   "source": [
    "cv = StratifiedKFold(n_splits=5, shuffle=True, random_state=seed)\n",
    "splits = cv.split(RC_train, RC_train['R_C'])"
   ]
  },
  {
   "cell_type": "code",
   "execution_count": 34,
   "metadata": {
    "ExecuteTime": {
     "end_time": "2021-10-11T02:27:40.736938Z",
     "start_time": "2021-10-11T02:27:31.008576Z"
    }
   },
   "outputs": [
    {
     "name": "stdout",
     "output_type": "stream",
     "text": [
      "0\n",
      "1\n",
      "2\n",
      "3\n",
      "4\n"
     ]
    }
   ],
   "source": [
    "RC_train['fold'] = -1\n",
    "for i,(train_idx, valid_idx) in enumerate(splits):\n",
    "    print(i)\n",
    "    RC_train.loc[valid_idx,\"fold\"] = i"
   ]
  },
  {
   "cell_type": "code",
   "execution_count": 35,
   "metadata": {
    "ExecuteTime": {
     "end_time": "2021-10-11T02:27:55.048644Z",
     "start_time": "2021-10-11T02:27:54.214934Z"
    }
   },
   "outputs": [
    {
     "data": {
      "text/plain": [
       "True"
      ]
     },
     "execution_count": 35,
     "metadata": {},
     "output_type": "execute_result"
    }
   ],
   "source": [
    "# double check\n",
    "# check id\n",
    "RC_train.groupby(\"fold\")[\"id\"].unique().apply(len).sum() == len(train.id.unique())"
   ]
  },
  {
   "cell_type": "code",
   "execution_count": 38,
   "metadata": {
    "ExecuteTime": {
     "end_time": "2021-10-11T02:30:04.990340Z",
     "start_time": "2021-10-11T02:30:03.932384Z"
    }
   },
   "outputs": [
    {
     "data": {
      "text/plain": [
       "fold\n",
       "0    [97120, 99328, 130976, 218832, 132160, 131024,...\n",
       "1    [97120, 99328, 130976, 218832, 132160, 131024,...\n",
       "2    [97120, 99328, 130976, 218832, 132160, 131024,...\n",
       "3    [97120, 99328, 130976, 218832, 132160, 131024,...\n",
       "4    [97120, 99328, 130976, 218832, 132160, 131024,...\n",
       "dtype: object"
      ]
     },
     "execution_count": 38,
     "metadata": {},
     "output_type": "execute_result"
    }
   ],
   "source": [
    "# check R_C group\n",
    "RC_train.groupby([\"fold\",\"R_C\"]).size().groupby(\"fold\").unique()"
   ]
  },
  {
   "cell_type": "code",
   "execution_count": 40,
   "metadata": {
    "ExecuteTime": {
     "end_time": "2021-10-11T02:31:13.245265Z",
     "start_time": "2021-10-11T02:31:12.251161Z"
    }
   },
   "outputs": [],
   "source": [
    "id_fold_dict = dict(zip(RC_train[\"id\"], RC_train[\"fold\"]))"
   ]
  },
  {
   "cell_type": "code",
   "execution_count": 41,
   "metadata": {
    "ExecuteTime": {
     "end_time": "2021-10-11T02:31:40.219103Z",
     "start_time": "2021-10-11T02:31:38.234837Z"
    }
   },
   "outputs": [],
   "source": [
    "train['fold'] = train['id'].apply(lambda x: id_fold_dict[x])"
   ]
  },
  {
   "cell_type": "code",
   "execution_count": 44,
   "metadata": {
    "ExecuteTime": {
     "end_time": "2021-10-11T02:33:55.675303Z",
     "start_time": "2021-10-11T02:33:55.024871Z"
    }
   },
   "outputs": [
    {
     "name": "stdout",
     "output_type": "stream",
     "text": [
      "save id_fold_dict\n"
     ]
    }
   ],
   "source": [
    "import pickle\n",
    "with open('../output/id_fold_dict.pickle', 'wb') as handle:\n",
    "    pickle.dump(id_fold_dict, handle)\n",
    "print(\"save id_fold_dict\")"
   ]
  },
  {
   "cell_type": "code",
   "execution_count": null,
   "metadata": {},
   "outputs": [],
   "source": []
  }
 ],
 "metadata": {
  "kernelspec": {
   "display_name": "Python 3 (ipykernel)",
   "language": "python",
   "name": "python3"
  },
  "language_info": {
   "codemirror_mode": {
    "name": "ipython",
    "version": 3
   },
   "file_extension": ".py",
   "mimetype": "text/x-python",
   "name": "python",
   "nbconvert_exporter": "python",
   "pygments_lexer": "ipython3",
   "version": "3.8.10"
  },
  "toc": {
   "base_numbering": 1,
   "nav_menu": {},
   "number_sections": true,
   "sideBar": true,
   "skip_h1_title": false,
   "title_cell": "Table of Contents",
   "title_sidebar": "Contents",
   "toc_cell": false,
   "toc_position": {},
   "toc_section_display": true,
   "toc_window_display": false
  }
 },
 "nbformat": 4,
 "nbformat_minor": 4
}

{
 "cells": [
  {
   "cell_type": "code",
   "execution_count": 1,
   "metadata": {
    "ExecuteTime": {
     "end_time": "2021-10-24T01:44:56.348028Z",
     "start_time": "2021-10-24T01:44:55.859545Z"
    }
   },
   "outputs": [
    {
     "data": {
      "text/html": [
       "<style>.container { width:100% !important; }</style>"
      ],
      "text/plain": [
       "<IPython.core.display.HTML object>"
      ]
     },
     "metadata": {},
     "output_type": "display_data"
    }
   ],
   "source": [
    "from IPython.core.display import display, HTML\n",
    "display(HTML(\"<style>.container { width:100% !important; }</style>\"))\n",
    "\n",
    "import pandas as pd\n",
    "import numpy as np\n",
    "import matplotlib.pyplot as plt\n",
    "from sklearn.model_selection import StratifiedGroupKFold,StratifiedKFold"
   ]
  },
  {
   "cell_type": "code",
   "execution_count": 2,
   "metadata": {
    "ExecuteTime": {
     "end_time": "2021-10-24T01:44:56.483752Z",
     "start_time": "2021-10-24T01:44:56.481457Z"
    }
   },
   "outputs": [],
   "source": [
    "kaggle_data_folder = \"/home/vincent/Kaggle/data/ventilator-pressure-prediction\"\n",
    "output_folder = \"../output/\""
   ]
  },
  {
   "cell_type": "code",
   "execution_count": 3,
   "metadata": {
    "ExecuteTime": {
     "end_time": "2021-10-24T01:44:59.194785Z",
     "start_time": "2021-10-24T01:44:56.903173Z"
    }
   },
   "outputs": [],
   "source": [
    "train = pd.read_csv(kaggle_data_folder + \"/train.csv\")"
   ]
  },
  {
   "cell_type": "code",
   "execution_count": 4,
   "metadata": {
    "ExecuteTime": {
     "end_time": "2021-10-24T01:44:59.197504Z",
     "start_time": "2021-10-24T01:44:59.195704Z"
    }
   },
   "outputs": [],
   "source": [
    "seed = 48"
   ]
  },
  {
   "cell_type": "code",
   "execution_count": 6,
   "metadata": {
    "ExecuteTime": {
     "end_time": "2021-10-24T01:45:07.179617Z",
     "start_time": "2021-10-24T01:45:07.012938Z"
    }
   },
   "outputs": [],
   "source": [
    "RC_train = train.groupby(\"breath_id\")[[\"R\",\"C\"]].last()\n",
    "RC_train.reset_index(inplace=True)\n",
    "RC_train[\"R_C\"] = RC_train[\"R\"].astype(str) + \"_\" + RC_train[\"C\"].astype(str)"
   ]
  },
  {
   "cell_type": "code",
   "execution_count": 7,
   "metadata": {
    "ExecuteTime": {
     "end_time": "2021-10-24T01:45:07.946573Z",
     "start_time": "2021-10-24T01:45:07.937341Z"
    }
   },
   "outputs": [
    {
     "data": {
      "text/html": [
       "<div>\n",
       "<style scoped>\n",
       "    .dataframe tbody tr th:only-of-type {\n",
       "        vertical-align: middle;\n",
       "    }\n",
       "\n",
       "    .dataframe tbody tr th {\n",
       "        vertical-align: top;\n",
       "    }\n",
       "\n",
       "    .dataframe thead th {\n",
       "        text-align: right;\n",
       "    }\n",
       "</style>\n",
       "<table border=\"1\" class=\"dataframe\">\n",
       "  <thead>\n",
       "    <tr style=\"text-align: right;\">\n",
       "      <th></th>\n",
       "      <th>breath_id</th>\n",
       "      <th>R</th>\n",
       "      <th>C</th>\n",
       "      <th>R_C</th>\n",
       "    </tr>\n",
       "  </thead>\n",
       "  <tbody>\n",
       "    <tr>\n",
       "      <th>0</th>\n",
       "      <td>1</td>\n",
       "      <td>20</td>\n",
       "      <td>50</td>\n",
       "      <td>20_50</td>\n",
       "    </tr>\n",
       "    <tr>\n",
       "      <th>1</th>\n",
       "      <td>2</td>\n",
       "      <td>20</td>\n",
       "      <td>20</td>\n",
       "      <td>20_20</td>\n",
       "    </tr>\n",
       "    <tr>\n",
       "      <th>2</th>\n",
       "      <td>3</td>\n",
       "      <td>50</td>\n",
       "      <td>20</td>\n",
       "      <td>50_20</td>\n",
       "    </tr>\n",
       "    <tr>\n",
       "      <th>3</th>\n",
       "      <td>4</td>\n",
       "      <td>50</td>\n",
       "      <td>50</td>\n",
       "      <td>50_50</td>\n",
       "    </tr>\n",
       "    <tr>\n",
       "      <th>4</th>\n",
       "      <td>5</td>\n",
       "      <td>5</td>\n",
       "      <td>50</td>\n",
       "      <td>5_50</td>\n",
       "    </tr>\n",
       "    <tr>\n",
       "      <th>...</th>\n",
       "      <td>...</td>\n",
       "      <td>...</td>\n",
       "      <td>...</td>\n",
       "      <td>...</td>\n",
       "    </tr>\n",
       "    <tr>\n",
       "      <th>75445</th>\n",
       "      <td>125740</td>\n",
       "      <td>50</td>\n",
       "      <td>50</td>\n",
       "      <td>50_50</td>\n",
       "    </tr>\n",
       "    <tr>\n",
       "      <th>75446</th>\n",
       "      <td>125742</td>\n",
       "      <td>20</td>\n",
       "      <td>10</td>\n",
       "      <td>20_10</td>\n",
       "    </tr>\n",
       "    <tr>\n",
       "      <th>75447</th>\n",
       "      <td>125743</td>\n",
       "      <td>20</td>\n",
       "      <td>10</td>\n",
       "      <td>20_10</td>\n",
       "    </tr>\n",
       "    <tr>\n",
       "      <th>75448</th>\n",
       "      <td>125745</td>\n",
       "      <td>50</td>\n",
       "      <td>50</td>\n",
       "      <td>50_50</td>\n",
       "    </tr>\n",
       "    <tr>\n",
       "      <th>75449</th>\n",
       "      <td>125749</td>\n",
       "      <td>50</td>\n",
       "      <td>10</td>\n",
       "      <td>50_10</td>\n",
       "    </tr>\n",
       "  </tbody>\n",
       "</table>\n",
       "<p>75450 rows × 4 columns</p>\n",
       "</div>"
      ],
      "text/plain": [
       "       breath_id   R   C    R_C\n",
       "0              1  20  50  20_50\n",
       "1              2  20  20  20_20\n",
       "2              3  50  20  50_20\n",
       "3              4  50  50  50_50\n",
       "4              5   5  50   5_50\n",
       "...          ...  ..  ..    ...\n",
       "75445     125740  50  50  50_50\n",
       "75446     125742  20  10  20_10\n",
       "75447     125743  20  10  20_10\n",
       "75448     125745  50  50  50_50\n",
       "75449     125749  50  10  50_10\n",
       "\n",
       "[75450 rows x 4 columns]"
      ]
     },
     "execution_count": 7,
     "metadata": {},
     "output_type": "execute_result"
    }
   ],
   "source": [
    "RC_train"
   ]
  },
  {
   "cell_type": "code",
   "execution_count": 8,
   "metadata": {
    "ExecuteTime": {
     "end_time": "2021-10-24T01:45:12.756268Z",
     "start_time": "2021-10-24T01:45:12.751730Z"
    }
   },
   "outputs": [],
   "source": [
    "cv = StratifiedKFold(n_splits=5, shuffle=True, random_state=seed)\n",
    "splits = cv.split(RC_train, RC_train['R_C'])"
   ]
  },
  {
   "cell_type": "code",
   "execution_count": 9,
   "metadata": {
    "ExecuteTime": {
     "end_time": "2021-10-24T01:45:13.344425Z",
     "start_time": "2021-10-24T01:45:13.275553Z"
    }
   },
   "outputs": [
    {
     "name": "stdout",
     "output_type": "stream",
     "text": [
      "0\n",
      "1\n",
      "2\n",
      "3\n",
      "4\n"
     ]
    }
   ],
   "source": [
    "RC_train['fold'] = -1\n",
    "for i,(train_idx, valid_idx) in enumerate(splits):\n",
    "    print(i)\n",
    "    RC_train.loc[valid_idx,\"fold\"] = i"
   ]
  },
  {
   "cell_type": "code",
   "execution_count": 11,
   "metadata": {
    "ExecuteTime": {
     "end_time": "2021-10-24T01:45:24.351525Z",
     "start_time": "2021-10-24T01:45:24.314745Z"
    }
   },
   "outputs": [
    {
     "data": {
      "text/plain": [
       "True"
      ]
     },
     "execution_count": 11,
     "metadata": {},
     "output_type": "execute_result"
    }
   ],
   "source": [
    "# double check\n",
    "# check id\n",
    "RC_train.groupby(\"fold\")[\"breath_id\"].unique().apply(len).sum() == len(train.breath_id.unique())"
   ]
  },
  {
   "cell_type": "code",
   "execution_count": 12,
   "metadata": {
    "ExecuteTime": {
     "end_time": "2021-10-24T01:45:27.410717Z",
     "start_time": "2021-10-24T01:45:27.396477Z"
    }
   },
   "outputs": [
    {
     "data": {
      "text/plain": [
       "fold  R_C  \n",
       "0     20_10    1214\n",
       "      20_20    1241\n",
       "      20_50    1638\n",
       "      50_10    2735\n",
       "      50_20    1652\n",
       "      50_50    1638\n",
       "      5_10     1662\n",
       "      5_20     1656\n",
       "      5_50     1654\n",
       "1     20_10    1214\n",
       "      20_20    1242\n",
       "      20_50    1637\n",
       "      50_10    2736\n",
       "      50_20    1652\n",
       "      50_50    1638\n",
       "      5_10     1662\n",
       "      5_20     1655\n",
       "      5_50     1654\n",
       "2     20_10    1214\n",
       "      20_20    1242\n",
       "      20_50    1637\n",
       "      50_10    2736\n",
       "      50_20    1652\n",
       "      50_50    1638\n",
       "      5_10     1662\n",
       "      5_20     1655\n",
       "      5_50     1654\n",
       "3     20_10    1214\n",
       "      20_20    1242\n",
       "      20_50    1637\n",
       "      50_10    2735\n",
       "      50_20    1652\n",
       "      50_50    1637\n",
       "      5_10     1663\n",
       "      5_20     1655\n",
       "      5_50     1655\n",
       "4     20_10    1214\n",
       "      20_20    1241\n",
       "      20_50    1637\n",
       "      50_10    2735\n",
       "      50_20    1652\n",
       "      50_50    1638\n",
       "      5_10     1663\n",
       "      5_20     1656\n",
       "      5_50     1654\n",
       "dtype: int64"
      ]
     },
     "execution_count": 12,
     "metadata": {},
     "output_type": "execute_result"
    }
   ],
   "source": [
    "# check R_C group\n",
    "RC_train.groupby([\"fold\",\"R_C\"]).size()"
   ]
  },
  {
   "cell_type": "code",
   "execution_count": 13,
   "metadata": {
    "ExecuteTime": {
     "end_time": "2021-10-24T01:45:31.940578Z",
     "start_time": "2021-10-24T01:45:31.928270Z"
    }
   },
   "outputs": [],
   "source": [
    "id_fold_dict = dict(zip(RC_train[\"breath_id\"], RC_train[\"fold\"]))"
   ]
  },
  {
   "cell_type": "code",
   "execution_count": 14,
   "metadata": {
    "ExecuteTime": {
     "end_time": "2021-10-24T01:45:37.235546Z",
     "start_time": "2021-10-24T01:45:35.776875Z"
    }
   },
   "outputs": [],
   "source": [
    "train['fold'] = train['breath_id'].apply(lambda x: id_fold_dict[x])"
   ]
  },
  {
   "cell_type": "code",
   "execution_count": 15,
   "metadata": {
    "ExecuteTime": {
     "end_time": "2021-10-24T01:45:37.239040Z",
     "start_time": "2021-10-24T01:45:37.236541Z"
    }
   },
   "outputs": [
    {
     "data": {
      "text/plain": [
       "(6036000, 9)"
      ]
     },
     "execution_count": 15,
     "metadata": {},
     "output_type": "execute_result"
    }
   ],
   "source": [
    "train.shape"
   ]
  },
  {
   "cell_type": "code",
   "execution_count": 16,
   "metadata": {
    "ExecuteTime": {
     "end_time": "2021-10-24T01:45:39.575500Z",
     "start_time": "2021-10-24T01:45:39.319425Z"
    }
   },
   "outputs": [
    {
     "data": {
      "text/plain": [
       "fold  R   C \n",
       "0     5   10    132960\n",
       "          20    132480\n",
       "          50    132320\n",
       "      20  10     97120\n",
       "          20     99280\n",
       "          50    131040\n",
       "      50  10    218800\n",
       "          20    132160\n",
       "          50    131040\n",
       "1     5   10    132960\n",
       "          20    132400\n",
       "          50    132320\n",
       "      20  10     97120\n",
       "          20     99360\n",
       "          50    130960\n",
       "      50  10    218880\n",
       "          20    132160\n",
       "          50    131040\n",
       "2     5   10    132960\n",
       "          20    132400\n",
       "          50    132320\n",
       "      20  10     97120\n",
       "          20     99360\n",
       "          50    130960\n",
       "      50  10    218880\n",
       "          20    132160\n",
       "          50    131040\n",
       "3     5   10    133040\n",
       "          20    132400\n",
       "          50    132400\n",
       "      20  10     97120\n",
       "          20     99360\n",
       "          50    130960\n",
       "      50  10    218800\n",
       "          20    132160\n",
       "          50    130960\n",
       "4     5   10    133040\n",
       "          20    132480\n",
       "          50    132320\n",
       "      20  10     97120\n",
       "          20     99280\n",
       "          50    130960\n",
       "      50  10    218800\n",
       "          20    132160\n",
       "          50    131040\n",
       "dtype: int64"
      ]
     },
     "execution_count": 16,
     "metadata": {},
     "output_type": "execute_result"
    }
   ],
   "source": [
    "train.groupby([\"fold\",\"R\",\"C\"]).size()"
   ]
  },
  {
   "cell_type": "code",
   "execution_count": 17,
   "metadata": {
    "ExecuteTime": {
     "end_time": "2021-10-24T01:46:04.422662Z",
     "start_time": "2021-10-24T01:46:04.415905Z"
    }
   },
   "outputs": [
    {
     "name": "stdout",
     "output_type": "stream",
     "text": [
      "save id_fold_dict\n"
     ]
    }
   ],
   "source": [
    "import pickle\n",
    "with open('../output/id_fold_dict.pickle', 'wb') as handle:\n",
    "    pickle.dump(id_fold_dict, handle)\n",
    "print(\"save id_fold_dict\")"
   ]
  },
  {
   "cell_type": "code",
   "execution_count": 20,
   "metadata": {
    "ExecuteTime": {
     "end_time": "2021-10-24T13:28:23.264857Z",
     "start_time": "2021-10-24T13:28:22.924852Z"
    }
   },
   "outputs": [
    {
     "data": {
      "text/plain": [
       "id           3.018000e+06\n",
       "breath_id    6.276550e+04\n",
       "R            2.000000e+01\n",
       "C            2.000000e+01\n",
       "time_step    1.308123e+00\n",
       "u_in         4.386146e+00\n",
       "u_out        1.000000e+00\n",
       "pressure     7.032628e+00\n",
       "fold         2.000000e+00\n",
       "dtype: float64"
      ]
     },
     "execution_count": 20,
     "metadata": {},
     "output_type": "execute_result"
    }
   ],
   "source": [
    "train.median(axis=0)"
   ]
  },
  {
   "cell_type": "code",
   "execution_count": null,
   "metadata": {},
   "outputs": [],
   "source": []
  }
 ],
 "metadata": {
  "kernelspec": {
   "display_name": "Python 3 (ipykernel)",
   "language": "python",
   "name": "python3"
  },
  "language_info": {
   "codemirror_mode": {
    "name": "ipython",
    "version": 3
   },
   "file_extension": ".py",
   "mimetype": "text/x-python",
   "name": "python",
   "nbconvert_exporter": "python",
   "pygments_lexer": "ipython3",
   "version": "3.8.10"
  },
  "toc": {
   "base_numbering": 1,
   "nav_menu": {},
   "number_sections": true,
   "sideBar": true,
   "skip_h1_title": false,
   "title_cell": "Table of Contents",
   "title_sidebar": "Contents",
   "toc_cell": false,
   "toc_position": {},
   "toc_section_display": true,
   "toc_window_display": false
  }
 },
 "nbformat": 4,
 "nbformat_minor": 4
}

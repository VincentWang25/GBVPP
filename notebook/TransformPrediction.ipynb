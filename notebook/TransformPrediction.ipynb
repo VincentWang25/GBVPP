{
 "cells": [
  {
   "cell_type": "code",
   "execution_count": 9,
   "id": "a23d7810",
   "metadata": {
    "ExecuteTime": {
     "end_time": "2021-10-22T01:48:11.905164Z",
     "start_time": "2021-10-22T01:48:11.899670Z"
    }
   },
   "outputs": [],
   "source": [
    "import pandas as pd\n",
    "import numpy as np\n",
    "from tqdm import tqdm"
   ]
  },
  {
   "cell_type": "code",
   "execution_count": 10,
   "id": "e06b7e0b",
   "metadata": {
    "ExecuteTime": {
     "end_time": "2021-10-22T01:48:12.099894Z",
     "start_time": "2021-10-22T01:48:12.097266Z"
    }
   },
   "outputs": [],
   "source": [
    "pressure_unique = np.load(\"../input/pressure_unique.npy\")"
   ]
  },
  {
   "cell_type": "code",
   "execution_count": 19,
   "id": "9e603c0e",
   "metadata": {
    "ExecuteTime": {
     "end_time": "2021-10-22T01:57:19.789806Z",
     "start_time": "2021-10-22T01:55:37.956595Z"
    }
   },
   "outputs": [
    {
     "name": "stderr",
     "output_type": "stream",
     "text": [
      "\r",
      "  0%|                                                                                                                                                                                        | 0/5 [00:00<?, ?it/s]"
     ]
    },
    {
     "name": "stdout",
     "output_type": "stream",
     "text": [
      "0 949\n"
     ]
    },
    {
     "name": "stderr",
     "output_type": "stream",
     "text": [
      "\r",
      " 20%|███████████████████████████████████▏                                                                                                                                            | 1/5 [00:16<01:04, 16.15s/it]"
     ]
    },
    {
     "name": "stdout",
     "output_type": "stream",
     "text": [
      "1 949\n"
     ]
    },
    {
     "name": "stderr",
     "output_type": "stream",
     "text": [
      "\r",
      " 40%|██████████████████████████████████████████████████████████████████████▍                                                                                                         | 2/5 [00:33<00:49, 16.57s/it]"
     ]
    },
    {
     "name": "stdout",
     "output_type": "stream",
     "text": [
      "2 950\n"
     ]
    },
    {
     "name": "stderr",
     "output_type": "stream",
     "text": [
      "\r",
      " 60%|█████████████████████████████████████████████████████████████████████████████████████████████████████████▌                                                                      | 3/5 [00:50<00:33, 16.86s/it]"
     ]
    },
    {
     "name": "stdout",
     "output_type": "stream",
     "text": [
      "3 947\n"
     ]
    },
    {
     "name": "stderr",
     "output_type": "stream",
     "text": [
      "\r",
      " 80%|████████████████████████████████████████████████████████████████████████████████████████████████████████████████████████████████████████████▊                                   | 4/5 [01:07<00:17, 17.07s/it]"
     ]
    },
    {
     "name": "stdout",
     "output_type": "stream",
     "text": [
      "4 948\n"
     ]
    },
    {
     "name": "stderr",
     "output_type": "stream",
     "text": [
      "100%|████████████████████████████████████████████████████████████████████████████████████████████████████████████████████████████████████████████████████████████████████████████████| 5/5 [01:24<00:00, 16.94s/it]\n"
     ]
    },
    {
     "name": "stdout",
     "output_type": "stream",
     "text": [
      "submission 947\n"
     ]
    }
   ],
   "source": [
    "sub_file = \"../output/LSTM4_base_epoch300_ROP/submission.csv\"\n",
    "test_df = pd.read_csv(sub_file)\n",
    "test_df[\"pressure\"] = 0\n",
    "\n",
    "for fold in tqdm(range(5)):\n",
    "    file = \"../output/LSTM4_base_epoch300_ROP/test_fold{}.csv\".format(fold)\n",
    "    test_fold_pred_df = pd.read_csv(file)\n",
    "    test_fold_pred_df[f\"preds_fold{fold}\"] = test_fold_pred_df[f\"preds_fold{fold}\"].map(lambda x: pressure_unique[np.abs(pressure_unique-x).argmin()])    \n",
    "    test_df[\"pressure\"] = test_df[\"pressure\"] + test_fold_pred_df[f\"preds_fold{fold}\"]/5\n",
    "    print(fold, len(test_fold_pred_df[f\"preds_fold{fold}\"].unique()))\n",
    "    test_fold_pred_df.to_csv(file, index=False)\n",
    "    \n",
    "test_df[f\"pressure\"] = test_df[f\"pressure\"].map(lambda x: pressure_unique[np.abs(pressure_unique-x).argmin()])    \n",
    "print(\"submission\", len(test_df[\"pressure\"].unique()))\n",
    "test_df.to_csv(sub_file, index=False)"
   ]
  },
  {
   "cell_type": "code",
   "execution_count": null,
   "id": "6fe68752",
   "metadata": {},
   "outputs": [],
   "source": []
  }
 ],
 "metadata": {
  "kernelspec": {
   "display_name": "Python 3 (ipykernel)",
   "language": "python",
   "name": "python3"
  },
  "language_info": {
   "codemirror_mode": {
    "name": "ipython",
    "version": 3
   },
   "file_extension": ".py",
   "mimetype": "text/x-python",
   "name": "python",
   "nbconvert_exporter": "python",
   "pygments_lexer": "ipython3",
   "version": "3.8.10"
  },
  "toc": {
   "base_numbering": 1,
   "nav_menu": {},
   "number_sections": true,
   "sideBar": true,
   "skip_h1_title": false,
   "title_cell": "Table of Contents",
   "title_sidebar": "Contents",
   "toc_cell": false,
   "toc_position": {},
   "toc_section_display": true,
   "toc_window_display": false
  }
 },
 "nbformat": 4,
 "nbformat_minor": 5
}

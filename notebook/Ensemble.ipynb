{
 "cells": [
  {
   "cell_type": "code",
   "execution_count": 1,
   "id": "14d9e5b0",
   "metadata": {
    "ExecuteTime": {
     "end_time": "2021-10-30T11:30:27.990717Z",
     "start_time": "2021-10-30T11:30:27.005405Z"
    }
   },
   "outputs": [],
   "source": [
    "import torch\n",
    "from torch.nn import DataParallel\n",
    "from torch.utils.data import DataLoader\n",
    "from torch.optim import AdamW\n",
    "\n",
    "import pandas as pd\n",
    "import numpy as np\n",
    "import matplotlib.pyplot as plt\n",
    "from sklearn.preprocessing import RobustScaler\n",
    "import gc\n",
    "from tqdm import tqdm\n",
    "import sys\n",
    "sys.path.append(\"../src\")\n",
    "from config import read_config, update_config\n",
    "from metric import cal_mae_metric\n",
    "from dataset import read_data\n",
    "from util import smart_avg"
   ]
  },
  {
   "cell_type": "code",
   "execution_count": 2,
   "id": "4a2aa8cb",
   "metadata": {
    "ExecuteTime": {
     "end_time": "2021-10-30T11:30:28.825623Z",
     "start_time": "2021-10-30T11:30:28.768727Z"
    }
   },
   "outputs": [
    {
     "name": "stdout",
     "output_type": "stream",
     "text": [
      "Using device: cuda\n",
      "Number of device: 1\n",
      "Model Output Folder: /home/vincent/Kaggle/GBVPP/output/Base/\n"
     ]
    }
   ],
   "source": [
    "config = read_config(\"Base\")\n",
    "config.gpu = [0]\n",
    "config = update_config(config)"
   ]
  },
  {
   "cell_type": "code",
   "execution_count": 3,
   "id": "706e6d65",
   "metadata": {
    "ExecuteTime": {
     "end_time": "2021-10-30T11:30:29.463822Z",
     "start_time": "2021-10-30T11:30:29.461415Z"
    }
   },
   "outputs": [],
   "source": [
    "subs = {\n",
    "    \"LSTM5_REG_PL\": \"../output/LSTM5_REG_PL/test_pred_all_18832.csv\",\n",
    "    \"LSTM5_CLS_DO02_OP01_PL\": \"../output/LSTM5_CLS_DO02_OP01_PL/test_pred_all_18722.csv\"\n",
    "}"
   ]
  },
  {
   "cell_type": "code",
   "execution_count": 4,
   "id": "dcb15872",
   "metadata": {
    "ExecuteTime": {
     "end_time": "2021-10-30T11:30:49.854356Z",
     "start_time": "2021-10-30T11:30:45.232247Z"
    }
   },
   "outputs": [],
   "source": [
    "train, test = read_data(config)"
   ]
  },
  {
   "cell_type": "code",
   "execution_count": 5,
   "id": "20f3b427",
   "metadata": {
    "ExecuteTime": {
     "end_time": "2021-10-30T11:30:52.022040Z",
     "start_time": "2021-10-30T11:30:52.019215Z"
    }
   },
   "outputs": [],
   "source": [
    "pressure_unique = np.load(\"/home/vincent/Kaggle/GBVPP/input/pressure_unique.npy\")"
   ]
  },
  {
   "cell_type": "code",
   "execution_count": 6,
   "id": "ea7f0818",
   "metadata": {
    "ExecuteTime": {
     "end_time": "2021-10-30T11:31:38.415017Z",
     "start_time": "2021-10-30T11:30:59.790958Z"
    }
   },
   "outputs": [
    {
     "name": "stderr",
     "output_type": "stream",
     "text": [
      "100%|█████████████████████████████████████████████████████████████████████████████| 2/2 [00:07<00:00,  3.89s/it]\n"
     ]
    },
    {
     "name": "stdout",
     "output_type": "stream",
     "text": [
      "Inliers:  2193854 -> compute mean\n",
      "Outliers: 3842146 -> compute median\n",
      "Total:    6036000\n",
      "Ensemble CV Median: Mean 0.1773, std 0.0016\n",
      "Inliers:  1189049 -> compute mean\n",
      "Outliers: 2834951 -> compute median\n",
      "Total:    4024000\n"
     ]
    },
    {
     "data": {
      "text/html": [
       "<div>\n",
       "<style scoped>\n",
       "    .dataframe tbody tr th:only-of-type {\n",
       "        vertical-align: middle;\n",
       "    }\n",
       "\n",
       "    .dataframe tbody tr th {\n",
       "        vertical-align: top;\n",
       "    }\n",
       "\n",
       "    .dataframe thead th {\n",
       "        text-align: right;\n",
       "    }\n",
       "</style>\n",
       "<table border=\"1\" class=\"dataframe\">\n",
       "  <thead>\n",
       "    <tr style=\"text-align: right;\">\n",
       "      <th></th>\n",
       "      <th>id</th>\n",
       "      <th>pressure</th>\n",
       "      <th>LSTM5_REG_PL_0</th>\n",
       "      <th>LSTM5_REG_PL_1</th>\n",
       "      <th>LSTM5_REG_PL_2</th>\n",
       "      <th>LSTM5_REG_PL_3</th>\n",
       "      <th>LSTM5_REG_PL_4</th>\n",
       "      <th>LSTM5_CLS_DO02_OP01_PL_0</th>\n",
       "      <th>LSTM5_CLS_DO02_OP01_PL_1</th>\n",
       "      <th>LSTM5_CLS_DO02_OP01_PL_2</th>\n",
       "      <th>LSTM5_CLS_DO02_OP01_PL_3</th>\n",
       "      <th>LSTM5_CLS_DO02_OP01_PL_4</th>\n",
       "    </tr>\n",
       "  </thead>\n",
       "  <tbody>\n",
       "    <tr>\n",
       "      <th>0</th>\n",
       "      <td>1</td>\n",
       "      <td>6.259305</td>\n",
       "      <td>6.189002</td>\n",
       "      <td>6.189002</td>\n",
       "      <td>6.189002</td>\n",
       "      <td>6.329606</td>\n",
       "      <td>6.259304</td>\n",
       "      <td>6.259305</td>\n",
       "      <td>6.259305</td>\n",
       "      <td>6.259305</td>\n",
       "      <td>6.259305</td>\n",
       "      <td>6.259305</td>\n",
       "    </tr>\n",
       "    <tr>\n",
       "      <th>1</th>\n",
       "      <td>2</td>\n",
       "      <td>5.978096</td>\n",
       "      <td>5.907794</td>\n",
       "      <td>5.978096</td>\n",
       "      <td>6.048398</td>\n",
       "      <td>5.978096</td>\n",
       "      <td>6.048398</td>\n",
       "      <td>5.978096</td>\n",
       "      <td>5.978096</td>\n",
       "      <td>5.907794</td>\n",
       "      <td>5.978096</td>\n",
       "      <td>5.978096</td>\n",
       "    </tr>\n",
       "    <tr>\n",
       "      <th>2</th>\n",
       "      <td>3</td>\n",
       "      <td>7.102930</td>\n",
       "      <td>7.102930</td>\n",
       "      <td>7.173232</td>\n",
       "      <td>7.173232</td>\n",
       "      <td>7.102930</td>\n",
       "      <td>7.102930</td>\n",
       "      <td>7.102930</td>\n",
       "      <td>7.102930</td>\n",
       "      <td>7.173232</td>\n",
       "      <td>7.173232</td>\n",
       "      <td>7.032628</td>\n",
       "    </tr>\n",
       "    <tr>\n",
       "      <th>3</th>\n",
       "      <td>4</td>\n",
       "      <td>7.665347</td>\n",
       "      <td>7.595045</td>\n",
       "      <td>7.665347</td>\n",
       "      <td>7.595045</td>\n",
       "      <td>7.665347</td>\n",
       "      <td>7.665347</td>\n",
       "      <td>7.665347</td>\n",
       "      <td>7.665347</td>\n",
       "      <td>7.665347</td>\n",
       "      <td>7.665347</td>\n",
       "      <td>7.595045</td>\n",
       "    </tr>\n",
       "    <tr>\n",
       "      <th>4</th>\n",
       "      <td>5</td>\n",
       "      <td>9.141693</td>\n",
       "      <td>9.141692</td>\n",
       "      <td>9.141692</td>\n",
       "      <td>9.141692</td>\n",
       "      <td>9.141692</td>\n",
       "      <td>9.071390</td>\n",
       "      <td>9.141693</td>\n",
       "      <td>9.141693</td>\n",
       "      <td>9.071390</td>\n",
       "      <td>9.141693</td>\n",
       "      <td>9.141693</td>\n",
       "    </tr>\n",
       "    <tr>\n",
       "      <th>...</th>\n",
       "      <td>...</td>\n",
       "      <td>...</td>\n",
       "      <td>...</td>\n",
       "      <td>...</td>\n",
       "      <td>...</td>\n",
       "      <td>...</td>\n",
       "      <td>...</td>\n",
       "      <td>...</td>\n",
       "      <td>...</td>\n",
       "      <td>...</td>\n",
       "      <td>...</td>\n",
       "      <td>...</td>\n",
       "    </tr>\n",
       "    <tr>\n",
       "      <th>4023995</th>\n",
       "      <td>4023996</td>\n",
       "      <td>5.275075</td>\n",
       "      <td>0.002414</td>\n",
       "      <td>0.002414</td>\n",
       "      <td>0.002414</td>\n",
       "      <td>0.002414</td>\n",
       "      <td>0.002414</td>\n",
       "      <td>21.233662</td>\n",
       "      <td>10.547735</td>\n",
       "      <td>14.695562</td>\n",
       "      <td>18.140367</td>\n",
       "      <td>15.257979</td>\n",
       "    </tr>\n",
       "    <tr>\n",
       "      <th>4023996</th>\n",
       "      <td>4023997</td>\n",
       "      <td>5.275075</td>\n",
       "      <td>0.002414</td>\n",
       "      <td>0.002414</td>\n",
       "      <td>0.002414</td>\n",
       "      <td>0.002414</td>\n",
       "      <td>0.002414</td>\n",
       "      <td>21.163359</td>\n",
       "      <td>10.547735</td>\n",
       "      <td>14.695562</td>\n",
       "      <td>18.070065</td>\n",
       "      <td>15.398583</td>\n",
       "    </tr>\n",
       "    <tr>\n",
       "      <th>4023997</th>\n",
       "      <td>4023998</td>\n",
       "      <td>5.345377</td>\n",
       "      <td>0.002414</td>\n",
       "      <td>0.002414</td>\n",
       "      <td>0.002414</td>\n",
       "      <td>0.002414</td>\n",
       "      <td>0.002414</td>\n",
       "      <td>21.163359</td>\n",
       "      <td>10.758642</td>\n",
       "      <td>14.695562</td>\n",
       "      <td>18.140367</td>\n",
       "      <td>15.398583</td>\n",
       "    </tr>\n",
       "    <tr>\n",
       "      <th>4023998</th>\n",
       "      <td>4023999</td>\n",
       "      <td>5.275075</td>\n",
       "      <td>0.002414</td>\n",
       "      <td>0.002414</td>\n",
       "      <td>0.002414</td>\n",
       "      <td>0.002414</td>\n",
       "      <td>0.002414</td>\n",
       "      <td>21.163359</td>\n",
       "      <td>10.547735</td>\n",
       "      <td>14.484656</td>\n",
       "      <td>18.702784</td>\n",
       "      <td>15.328281</td>\n",
       "    </tr>\n",
       "    <tr>\n",
       "      <th>4023999</th>\n",
       "      <td>4024000</td>\n",
       "      <td>5.626585</td>\n",
       "      <td>0.002414</td>\n",
       "      <td>0.002414</td>\n",
       "      <td>0.002414</td>\n",
       "      <td>0.002414</td>\n",
       "      <td>0.002414</td>\n",
       "      <td>21.233662</td>\n",
       "      <td>11.321059</td>\n",
       "      <td>14.695562</td>\n",
       "      <td>18.070065</td>\n",
       "      <td>15.117375</td>\n",
       "    </tr>\n",
       "  </tbody>\n",
       "</table>\n",
       "<p>4024000 rows × 12 columns</p>\n",
       "</div>"
      ],
      "text/plain": [
       "              id  pressure  LSTM5_REG_PL_0  LSTM5_REG_PL_1  LSTM5_REG_PL_2  \\\n",
       "0              1  6.259305        6.189002        6.189002        6.189002   \n",
       "1              2  5.978096        5.907794        5.978096        6.048398   \n",
       "2              3  7.102930        7.102930        7.173232        7.173232   \n",
       "3              4  7.665347        7.595045        7.665347        7.595045   \n",
       "4              5  9.141693        9.141692        9.141692        9.141692   \n",
       "...          ...       ...             ...             ...             ...   \n",
       "4023995  4023996  5.275075        0.002414        0.002414        0.002414   \n",
       "4023996  4023997  5.275075        0.002414        0.002414        0.002414   \n",
       "4023997  4023998  5.345377        0.002414        0.002414        0.002414   \n",
       "4023998  4023999  5.275075        0.002414        0.002414        0.002414   \n",
       "4023999  4024000  5.626585        0.002414        0.002414        0.002414   \n",
       "\n",
       "         LSTM5_REG_PL_3  LSTM5_REG_PL_4  LSTM5_CLS_DO02_OP01_PL_0  \\\n",
       "0              6.329606        6.259304                  6.259305   \n",
       "1              5.978096        6.048398                  5.978096   \n",
       "2              7.102930        7.102930                  7.102930   \n",
       "3              7.665347        7.665347                  7.665347   \n",
       "4              9.141692        9.071390                  9.141693   \n",
       "...                 ...             ...                       ...   \n",
       "4023995        0.002414        0.002414                 21.233662   \n",
       "4023996        0.002414        0.002414                 21.163359   \n",
       "4023997        0.002414        0.002414                 21.163359   \n",
       "4023998        0.002414        0.002414                 21.163359   \n",
       "4023999        0.002414        0.002414                 21.233662   \n",
       "\n",
       "         LSTM5_CLS_DO02_OP01_PL_1  LSTM5_CLS_DO02_OP01_PL_2  \\\n",
       "0                        6.259305                  6.259305   \n",
       "1                        5.978096                  5.907794   \n",
       "2                        7.102930                  7.173232   \n",
       "3                        7.665347                  7.665347   \n",
       "4                        9.141693                  9.071390   \n",
       "...                           ...                       ...   \n",
       "4023995                 10.547735                 14.695562   \n",
       "4023996                 10.547735                 14.695562   \n",
       "4023997                 10.758642                 14.695562   \n",
       "4023998                 10.547735                 14.484656   \n",
       "4023999                 11.321059                 14.695562   \n",
       "\n",
       "         LSTM5_CLS_DO02_OP01_PL_3  LSTM5_CLS_DO02_OP01_PL_4  \n",
       "0                        6.259305                  6.259305  \n",
       "1                        5.978096                  5.978096  \n",
       "2                        7.173232                  7.032628  \n",
       "3                        7.665347                  7.595045  \n",
       "4                        9.141693                  9.141693  \n",
       "...                           ...                       ...  \n",
       "4023995                 18.140367                 15.257979  \n",
       "4023996                 18.070065                 15.398583  \n",
       "4023997                 18.140367                 15.398583  \n",
       "4023998                 18.702784                 15.328281  \n",
       "4023999                 18.070065                 15.117375  \n",
       "\n",
       "[4024000 rows x 12 columns]"
      ]
     },
     "execution_count": 6,
     "metadata": {},
     "output_type": "execute_result"
    }
   ],
   "source": [
    "sub_all = None\n",
    "for key, sub_file in tqdm(subs.items()):\n",
    "    train[key] = 0\n",
    "    tmp = pd.read_csv(sub_file)\n",
    "    if sub_all is None:\n",
    "        sub_all = tmp[[\"id\",\"pressure\"]].copy()\n",
    "        sub_all[\"pressure\"] = 0\n",
    "        \n",
    "    for fold in range(5):\n",
    "        train.loc[train.query(f\"fold=={fold}\").index,key] = torch.load(f'../output/{key}/Fold_{fold}_best_model.pth')['valid_preds'].flatten()\n",
    "        sub_all[key+f\"_{fold}\"] = tmp[f\"preds_fold{fold}\"]\n",
    "\n",
    "    if sub_all is None:\n",
    "        sub_all =  tmp.copy()\n",
    "    \n",
    "train[\"pressure_smart\"] = smart_avg(train[list(subs.keys())], axis=1)\n",
    "train[\"pressure_smart\"] = train[\"pressure_smart\"].map(lambda x: pressure_unique[np.abs(pressure_unique-x).argmin()])\n",
    "CVs = train.groupby(\"fold\").apply(lambda df: cal_mae_metric(df[\"pressure\"],df[\"pressure_smart\"],1-df[\"u_out\"]))\n",
    "print(\"Ensemble CV Median: Mean {:.4f}, std {:.4f}\".format(np.mean(CVs), np.std(CVs)))\n",
    "\n",
    "preds_cols = [key+f\"_{i}\"  for key in subs.keys() for i in range(5)]\n",
    "sub_all[\"pressure\"] = smart_avg(sub_all[preds_cols], axis=1)\n",
    "sub_all[\"pressure\"] = sub_all[\"pressure\"].map(lambda x: pressure_unique[np.abs(pressure_unique-x).argmin()])\n",
    "sub_all"
   ]
  },
  {
   "cell_type": "code",
   "execution_count": 7,
   "id": "f020eb28",
   "metadata": {
    "ExecuteTime": {
     "end_time": "2021-10-30T11:31:51.899780Z",
     "start_time": "2021-10-30T11:31:51.896230Z"
    }
   },
   "outputs": [
    {
     "data": {
      "text/plain": [
       "((4024000, 12), (6036000, 12))"
      ]
     },
     "execution_count": 7,
     "metadata": {},
     "output_type": "execute_result"
    }
   ],
   "source": [
    "sub_all.shape, train.shape"
   ]
  },
  {
   "cell_type": "code",
   "execution_count": 8,
   "id": "2c88991f",
   "metadata": {
    "ExecuteTime": {
     "end_time": "2021-10-30T11:32:12.399618Z",
     "start_time": "2021-10-30T11:32:07.066604Z"
    }
   },
   "outputs": [],
   "source": [
    "sub_all[[\"id\",\"pressure\"]].to_csv(\"../output/ensemble_1030_smart_1773.csv\",index=False)"
   ]
  },
  {
   "cell_type": "code",
   "execution_count": 14,
   "id": "1953bb58",
   "metadata": {
    "ExecuteTime": {
     "end_time": "2021-10-28T12:04:56.354398Z",
     "start_time": "2021-10-28T12:04:56.009964Z"
    }
   },
   "outputs": [],
   "source": [
    "sub_1366 = pd.read_csv(\"../output/submission_1366.csv\")"
   ]
  },
  {
   "cell_type": "code",
   "execution_count": 16,
   "id": "2f8120c0",
   "metadata": {
    "ExecuteTime": {
     "end_time": "2021-10-28T12:05:47.351883Z",
     "start_time": "2021-10-28T12:05:36.060516Z"
    }
   },
   "outputs": [],
   "source": [
    "sub_all[\"pressure\"] = ((sub_all[\"pressure\"] + sub_1366[\"pressure\"])/2).map(lambda x: pressure_unique[np.abs(pressure_unique-x).argmin()])"
   ]
  },
  {
   "cell_type": "code",
   "execution_count": 17,
   "id": "3de756e6",
   "metadata": {
    "ExecuteTime": {
     "end_time": "2021-10-28T12:05:54.734928Z",
     "start_time": "2021-10-28T12:05:49.679024Z"
    }
   },
   "outputs": [],
   "source": [
    "sub_all[[\"id\",\"pressure\"]].to_csv(\"../output/ensemble_1028_smart_w1366.csv\",index=False)"
   ]
  },
  {
   "cell_type": "code",
   "execution_count": null,
   "id": "2222a81b",
   "metadata": {},
   "outputs": [],
   "source": [
    "# CONVERT TRAIN TO SERIES\n",
    "series = train.groupby('breath_id').collect().reset_index()\n",
    "for k in range(80): series[f'x_{k}'] = series.u_in.list.get(k)\n",
    "for k in range(80): series[f'y_{k}'] = series.pressure.list.get(k)\n",
    "for k in range(80): series[f'z_{k}'] = 1-series.u_out.list.get(k)\n",
    "series.R = series.R.list.get(0)\n",
    "series.C = series.C.list.get(0)\n",
    "series = series.drop(['id','time_step','u_in','u_out','pressure'],axis=1)\n",
    "series = series.merge(exhale,on='breath_id',how='left')\n",
    "series = series.merge(length,on='breath_id',how='left')\n",
    "series = series.rename({'time_step':'time_length','u_out':'expire'},axis=1)\n",
    "series = series.sort_values('breath_id').reset_index(drop=True)\n",
    "\n",
    "print('Train as series shape:', series.shape )\n",
    "print('Min inhale length=', series['expire'].min(),',Max inhale length=', series['expire'].max(),\n",
    "      'Max breath length=',series['time_length'].max() )\n",
    "series.head()"
   ]
  },
  {
   "cell_type": "code",
   "execution_count": null,
   "id": "719d4a99",
   "metadata": {},
   "outputs": [],
   "source": [
    "from cuml.neighbors import NearestNeighbors \n",
    "\n",
    "# FIRST 3 COLUMNS OF TRAIN SERIES DATAFRAME NEED TO BE IGNORED\n",
    "IGNORE = 3\n",
    "# MORE NEIGHBORS THAN WE NEED FOR ALL DISPLAYS\n",
    "NEIGHBORS = 500\n",
    "# HOW MANY TIME_STEPS TO USE FOR KNN COMPARISON\n",
    "TIME_STEPS = 80\n",
    "# HOW MANY INITIAL TIME_STEPS TO SKIP FOR KNN COMPARISON\n",
    "SKIP = 0 \n",
    "\n",
    "model = NearestNeighbors(n_neighbors=NEIGHBORS, metric='l1')\n",
    "model.fit(series.iloc[:,IGNORE+SKIP:IGNORE+TIME_STEPS+SKIP])\n",
    "\n",
    "SHOW = [24,68,75]\n",
    "CTS = [300]*len(SHOW)\n",
    "\n",
    "for USE,CT in zip(SHOW,CTS):\n",
    "    distances, indices = model.kneighbors(series.iloc[USE:USE+1,IGNORE+SKIP:IGNORE+TIME_STEPS+SKIP])\n",
    "        \n",
    "    plt.figure(figsize=(20,4))\n",
    "    plt.plot(np.arange(80),series.iloc[USE,IGNORE:IGNORE+80].to_array(),label='u_in')\n",
    "    plt.plot(np.arange(80),series.iloc[USE,IGNORE+80:IGNORE+160].to_array(),label='pressure')\n",
    "    y_max = plt.ylim()[1]\n",
    "    if TIME_STEPS!=80: plt.plot([SKIP+TIME_STEPS-1,SKIP+TIME_STEPS-1],[0,y_max],'--',color='gray')\n",
    "    if SKIP!=0: plt.plot([SKIP-1,SKIP-1],[0,y_max],'--',color='gray')\n",
    "    exhale = series.loc[USE,'expire']\n",
    "    plt.plot([exhale,exhale],[0,y_max],'--',color='black',label='exhale')\n",
    "    rr = series.loc[USE,'R']; cc = series.loc[USE,'C']; \n",
    "    bb = series.loc[USE,'breath_id']; tt = series.loc[USE,'time_length']\n",
    "    plt.title(f'Breath_Id={bb}, R={rr}, C={cc}, Length={tt:.3}',size=16)\n",
    "    plt.legend()\n",
    "    \n",
    "    temp2 = series.iloc[indices.iloc[0].values].reset_index(drop=True)\n",
    "    cdict = {5: 'yellow', 20: 'orange', 50: 'red'}\n",
    "    plt.figure(figsize=(20,10))\n",
    "    legend = {5:0, 20:0, 50:0}\n",
    "    for r in range(CT):\n",
    "        if r==0: plt.plot(np.arange(80), temp2.iloc[r,IGNORE:IGNORE+80].to_array(), color='blue', label='u_in')\n",
    "        else: plt.plot(np.arange(80), temp2.iloc[r,IGNORE:IGNORE+80].to_array(), color='blue')\n",
    "        if legend[temp2.loc[r,'R']]==0:\n",
    "            legend[temp2.loc[r,'R']]=1; cc = temp2.loc[r,'R']\n",
    "            plt.plot(np.arange(80), temp2.iloc[r,IGNORE+80:IGNORE+160].to_array(), \n",
    "                     c=cdict[temp2.loc[r,'R']], label=f'R={cc}')\n",
    "        else: plt.plot(np.arange(80), temp2.iloc[r,IGNORE+80:IGNORE+160].to_array(), c=cdict[temp2.loc[r,'R']])\n",
    "    y_max = plt.ylim()[1]\n",
    "    if TIME_STEPS!=80: plt.plot([SKIP+TIME_STEPS-1,SKIP+TIME_STEPS-1],[0,y_max],'--',color='gray')\n",
    "    if SKIP!=0: plt.plot([SKIP-1,SKIP-1],[0,y_max],'--',color='gray')\n",
    "    plt.title(f'{CT} time series similar to breath_Id={bb}. For each new time series we plot and color code its pressure with respect to R variable',size=16)\n",
    "    plt.legend()\n",
    "    plt.show()\n",
    "    \n",
    "    temp2 = series.iloc[indices.iloc[0].values].reset_index(drop=True)\n",
    "    cdict = {10: 'red', 20: 'orange', 50: 'yellow'}\n",
    "    plt.figure(figsize=(20,10))\n",
    "    legend = {10:0, 20:0, 50:0}\n",
    "    for r in range(CT):\n",
    "        if r==0: plt.plot(np.arange(80), temp2.iloc[r,IGNORE:IGNORE+80].to_array(), color='blue',label='u_in')\n",
    "        else: plt.plot(np.arange(80), temp2.iloc[r,IGNORE:IGNORE+80].to_array(), color='blue')\n",
    "        if legend[temp2.loc[r,'C']]==0:\n",
    "            legend[temp2.loc[r,'C']]=1; cc = temp2.loc[r,'C']\n",
    "            plt.plot(np.arange(80), temp2.iloc[r,IGNORE+80:IGNORE+160].to_array(), \n",
    "                     c=cdict[temp2.loc[r,'C']], label=f'C={cc}')\n",
    "        else: plt.plot(np.arange(80), temp2.iloc[r,IGNORE+80:IGNORE+160].to_array(), c=cdict[temp2.loc[r,'C']])\n",
    "    y_max = plt.ylim()[1]\n",
    "    if TIME_STEPS!=80: plt.plot([SKIP+TIME_STEPS-1,SKIP+TIME_STEPS-1],[0,y_max],'--',color='gray')\n",
    "    if SKIP!=0: plt.plot([SKIP-1,SKIP-1],[0,y_max],'--',color='gray')\n",
    "    plt.title(f'{CT} time series similar to breath_Id={bb}. For each new time series we plot and color code its pressure with respect to C variable',size=16)\n",
    "    plt.legend()\n",
    "    plt.show()"
   ]
  },
  {
   "cell_type": "code",
   "execution_count": null,
   "id": "c9480e02",
   "metadata": {},
   "outputs": [],
   "source": []
  }
 ],
 "metadata": {
  "kernelspec": {
   "display_name": "Python 3 (ipykernel)",
   "language": "python",
   "name": "python3"
  },
  "language_info": {
   "codemirror_mode": {
    "name": "ipython",
    "version": 3
   },
   "file_extension": ".py",
   "mimetype": "text/x-python",
   "name": "python",
   "nbconvert_exporter": "python",
   "pygments_lexer": "ipython3",
   "version": "3.8.10"
  },
  "toc": {
   "base_numbering": 1,
   "nav_menu": {},
   "number_sections": true,
   "sideBar": true,
   "skip_h1_title": false,
   "title_cell": "Table of Contents",
   "title_sidebar": "Contents",
   "toc_cell": false,
   "toc_position": {},
   "toc_section_display": true,
   "toc_window_display": false
  }
 },
 "nbformat": 4,
 "nbformat_minor": 5
}

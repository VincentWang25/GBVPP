{
 "cells": [
  {
   "cell_type": "code",
   "execution_count": 1,
   "id": "14d9e5b0",
   "metadata": {
    "ExecuteTime": {
     "end_time": "2021-10-31T18:22:34.580376Z",
     "start_time": "2021-10-31T18:22:33.639318Z"
    }
   },
   "outputs": [],
   "source": [
    "import torch\n",
    "from torch.nn import DataParallel\n",
    "from torch.utils.data import DataLoader\n",
    "from torch.optim import AdamW\n",
    "\n",
    "import pandas as pd\n",
    "import numpy as np\n",
    "import matplotlib.pyplot as plt\n",
    "from sklearn.preprocessing import RobustScaler\n",
    "import os\n",
    "import gc\n",
    "from tqdm import tqdm\n",
    "import sys\n",
    "sys.path.append(\"../src\")\n",
    "from config import read_config, update_config\n",
    "from metric import cal_mae_metric\n",
    "from dataset import read_data\n",
    "from util import smart_avg"
   ]
  },
  {
   "cell_type": "code",
   "execution_count": 2,
   "id": "4a2aa8cb",
   "metadata": {
    "ExecuteTime": {
     "end_time": "2021-10-31T18:22:34.610754Z",
     "start_time": "2021-10-31T18:22:34.581300Z"
    }
   },
   "outputs": [
    {
     "name": "stdout",
     "output_type": "stream",
     "text": [
      "Using device: cuda\n",
      "Number of device: 1\n",
      "Model Output Folder: /home/vincent/Kaggle/GBVPP/output/Base/\n"
     ]
    }
   ],
   "source": [
    "config = read_config(\"Base\")\n",
    "config.gpu = [0]\n",
    "config = update_config(config)"
   ]
  },
  {
   "cell_type": "code",
   "execution_count": 3,
   "id": "706e6d65",
   "metadata": {
    "ExecuteTime": {
     "end_time": "2021-10-31T18:22:34.620035Z",
     "start_time": "2021-10-31T18:22:34.611506Z"
    }
   },
   "outputs": [],
   "source": [
    "subs = {\n",
    "    \"LSTM5_REG_PL\": \"../output/LSTM5_REG_PL/test_pred_all_18832.csv\",\n",
    "    \"Public_PulpFriction\": \"../output/Public_PulpFriction/test_pred_all_18507.csv\",\n",
    "    \"LSTM5_CLS_DO02_CH01_OP01_physics_SiLU\":\"../output/LSTM5_CLS_DO02_CH01_OP01_physics_SiLU/test_pred_all_18035.csv\"\n",
    "}\n",
    "ensemble_folder = \"ensemble_1031\"\n",
    "if not os.path.exists(config.output_folder + \"/\" + ensemble_folder):\n",
    "    ensemble_folder = config.output_folder + \"/\" + ensemble_folder\n",
    "    os.makedirs(ensemble_folder)"
   ]
  },
  {
   "cell_type": "code",
   "execution_count": 4,
   "id": "dcb15872",
   "metadata": {
    "ExecuteTime": {
     "end_time": "2021-10-31T18:22:39.076518Z",
     "start_time": "2021-10-31T18:22:34.620945Z"
    }
   },
   "outputs": [],
   "source": [
    "train, test = read_data(config)"
   ]
  },
  {
   "cell_type": "code",
   "execution_count": 5,
   "id": "20f3b427",
   "metadata": {
    "ExecuteTime": {
     "end_time": "2021-10-31T18:22:39.080211Z",
     "start_time": "2021-10-31T18:22:39.077767Z"
    }
   },
   "outputs": [],
   "source": [
    "pressure_unique = np.load(\"/home/vincent/Kaggle/GBVPP/input/pressure_unique.npy\")"
   ]
  },
  {
   "cell_type": "code",
   "execution_count": 6,
   "id": "ea7f0818",
   "metadata": {
    "ExecuteTime": {
     "end_time": "2021-10-31T18:25:33.544663Z",
     "start_time": "2021-10-31T18:22:39.081059Z"
    }
   },
   "outputs": [
    {
     "name": "stderr",
     "output_type": "stream",
     "text": [
      "100%|█████████████████████████████████████████████████████████████████████████████| 3/3 [00:09<00:00,  3.33s/it]\n"
     ]
    },
    {
     "name": "stdout",
     "output_type": "stream",
     "text": [
      "Inliers:  2062271 -> compute mean\n",
      "Outliers: 3973729 -> compute median\n",
      "Total:    6036000\n"
     ]
    },
    {
     "name": "stderr",
     "output_type": "stream",
     "text": [
      "\r",
      "  0%|                                                                                     | 0/5 [00:00<?, ?it/s]"
     ]
    },
    {
     "name": "stdout",
     "output_type": "stream",
     "text": [
      "Inliers:  1364347 -> compute mean\n",
      "Outliers: 2659653 -> compute median\n",
      "Total:    4024000\n"
     ]
    },
    {
     "name": "stderr",
     "output_type": "stream",
     "text": [
      "\r",
      " 20%|███████████████▍                                                             | 1/5 [00:17<01:09, 17.43s/it]"
     ]
    },
    {
     "name": "stdout",
     "output_type": "stream",
     "text": [
      "Inliers:  1369376 -> compute mean\n",
      "Outliers: 2654624 -> compute median\n",
      "Total:    4024000\n"
     ]
    },
    {
     "name": "stderr",
     "output_type": "stream",
     "text": [
      "\r",
      " 40%|██████████████████████████████▊                                              | 2/5 [00:34<00:52, 17.36s/it]"
     ]
    },
    {
     "name": "stdout",
     "output_type": "stream",
     "text": [
      "Inliers:  1372814 -> compute mean\n",
      "Outliers: 2651186 -> compute median\n",
      "Total:    4024000\n"
     ]
    },
    {
     "name": "stderr",
     "output_type": "stream",
     "text": [
      "\r",
      " 60%|██████████████████████████████████████████████▏                              | 3/5 [00:51<00:34, 17.29s/it]"
     ]
    },
    {
     "name": "stdout",
     "output_type": "stream",
     "text": [
      "Inliers:  1375972 -> compute mean\n",
      "Outliers: 2648028 -> compute median\n",
      "Total:    4024000\n"
     ]
    },
    {
     "name": "stderr",
     "output_type": "stream",
     "text": [
      "\r",
      " 80%|█████████████████████████████████████████████████████████████▌               | 4/5 [01:09<00:17, 17.22s/it]"
     ]
    },
    {
     "name": "stdout",
     "output_type": "stream",
     "text": [
      "Inliers:  1371654 -> compute mean\n",
      "Outliers: 2652346 -> compute median\n",
      "Total:    4024000\n"
     ]
    },
    {
     "name": "stderr",
     "output_type": "stream",
     "text": [
      "100%|█████████████████████████████████████████████████████████████████████████████| 5/5 [01:26<00:00, 17.24s/it]\n"
     ]
    },
    {
     "name": "stdout",
     "output_type": "stream",
     "text": [
      "Ensemble CV Median: Mean 0.1625, std 0.0018\n",
      "Inliers:  1052168 -> compute mean\n",
      "Outliers: 2971832 -> compute median\n",
      "Total:    4024000\n",
      "(4024000, 17) (6036000, 13)\n"
     ]
    },
    {
     "data": {
      "text/html": [
       "<div>\n",
       "<style scoped>\n",
       "    .dataframe tbody tr th:only-of-type {\n",
       "        vertical-align: middle;\n",
       "    }\n",
       "\n",
       "    .dataframe tbody tr th {\n",
       "        vertical-align: top;\n",
       "    }\n",
       "\n",
       "    .dataframe thead th {\n",
       "        text-align: right;\n",
       "    }\n",
       "</style>\n",
       "<table border=\"1\" class=\"dataframe\">\n",
       "  <thead>\n",
       "    <tr style=\"text-align: right;\">\n",
       "      <th></th>\n",
       "      <th>id</th>\n",
       "      <th>pressure</th>\n",
       "      <th>LSTM5_REG_PL_0</th>\n",
       "      <th>LSTM5_REG_PL_1</th>\n",
       "      <th>LSTM5_REG_PL_2</th>\n",
       "      <th>LSTM5_REG_PL_3</th>\n",
       "      <th>LSTM5_REG_PL_4</th>\n",
       "      <th>Public_PulpFriction_0</th>\n",
       "      <th>Public_PulpFriction_1</th>\n",
       "      <th>Public_PulpFriction_2</th>\n",
       "      <th>Public_PulpFriction_3</th>\n",
       "      <th>Public_PulpFriction_4</th>\n",
       "      <th>LSTM5_CLS_DO02_CH01_OP01_physics_SiLU_0</th>\n",
       "      <th>LSTM5_CLS_DO02_CH01_OP01_physics_SiLU_1</th>\n",
       "      <th>LSTM5_CLS_DO02_CH01_OP01_physics_SiLU_2</th>\n",
       "      <th>LSTM5_CLS_DO02_CH01_OP01_physics_SiLU_3</th>\n",
       "      <th>LSTM5_CLS_DO02_CH01_OP01_physics_SiLU_4</th>\n",
       "    </tr>\n",
       "  </thead>\n",
       "  <tbody>\n",
       "    <tr>\n",
       "      <th>0</th>\n",
       "      <td>1</td>\n",
       "      <td>6.259305</td>\n",
       "      <td>6.189002</td>\n",
       "      <td>6.189002</td>\n",
       "      <td>6.189002</td>\n",
       "      <td>6.329606</td>\n",
       "      <td>6.259304</td>\n",
       "      <td>6.322844</td>\n",
       "      <td>6.317010</td>\n",
       "      <td>6.284339</td>\n",
       "      <td>6.313703</td>\n",
       "      <td>6.378181</td>\n",
       "      <td>6.259305</td>\n",
       "      <td>6.259305</td>\n",
       "      <td>6.259305</td>\n",
       "      <td>6.259305</td>\n",
       "      <td>6.259305</td>\n",
       "    </tr>\n",
       "    <tr>\n",
       "      <th>1</th>\n",
       "      <td>2</td>\n",
       "      <td>5.978096</td>\n",
       "      <td>5.907794</td>\n",
       "      <td>5.978096</td>\n",
       "      <td>6.048398</td>\n",
       "      <td>5.978096</td>\n",
       "      <td>6.048398</td>\n",
       "      <td>5.960816</td>\n",
       "      <td>5.904262</td>\n",
       "      <td>5.921993</td>\n",
       "      <td>5.857764</td>\n",
       "      <td>6.009814</td>\n",
       "      <td>5.978096</td>\n",
       "      <td>5.978096</td>\n",
       "      <td>5.978096</td>\n",
       "      <td>5.978096</td>\n",
       "      <td>5.907794</td>\n",
       "    </tr>\n",
       "    <tr>\n",
       "      <th>2</th>\n",
       "      <td>3</td>\n",
       "      <td>7.102930</td>\n",
       "      <td>7.102930</td>\n",
       "      <td>7.173232</td>\n",
       "      <td>7.173232</td>\n",
       "      <td>7.102930</td>\n",
       "      <td>7.102930</td>\n",
       "      <td>7.150896</td>\n",
       "      <td>7.129235</td>\n",
       "      <td>7.110208</td>\n",
       "      <td>7.096230</td>\n",
       "      <td>7.139535</td>\n",
       "      <td>7.032628</td>\n",
       "      <td>7.102930</td>\n",
       "      <td>7.102930</td>\n",
       "      <td>7.032628</td>\n",
       "      <td>7.102930</td>\n",
       "    </tr>\n",
       "    <tr>\n",
       "      <th>3</th>\n",
       "      <td>4</td>\n",
       "      <td>7.665347</td>\n",
       "      <td>7.595045</td>\n",
       "      <td>7.665347</td>\n",
       "      <td>7.595045</td>\n",
       "      <td>7.665347</td>\n",
       "      <td>7.665347</td>\n",
       "      <td>7.696169</td>\n",
       "      <td>7.636521</td>\n",
       "      <td>7.671168</td>\n",
       "      <td>7.581084</td>\n",
       "      <td>7.704820</td>\n",
       "      <td>7.595045</td>\n",
       "      <td>7.595045</td>\n",
       "      <td>7.665347</td>\n",
       "      <td>7.665347</td>\n",
       "      <td>7.665347</td>\n",
       "    </tr>\n",
       "    <tr>\n",
       "      <th>4</th>\n",
       "      <td>5</td>\n",
       "      <td>9.141693</td>\n",
       "      <td>9.141692</td>\n",
       "      <td>9.141692</td>\n",
       "      <td>9.141692</td>\n",
       "      <td>9.141692</td>\n",
       "      <td>9.071390</td>\n",
       "      <td>9.168344</td>\n",
       "      <td>9.169226</td>\n",
       "      <td>9.156463</td>\n",
       "      <td>9.098163</td>\n",
       "      <td>9.211409</td>\n",
       "      <td>9.141693</td>\n",
       "      <td>9.071390</td>\n",
       "      <td>9.071390</td>\n",
       "      <td>9.141693</td>\n",
       "      <td>9.071390</td>\n",
       "    </tr>\n",
       "    <tr>\n",
       "      <th>...</th>\n",
       "      <td>...</td>\n",
       "      <td>...</td>\n",
       "      <td>...</td>\n",
       "      <td>...</td>\n",
       "      <td>...</td>\n",
       "      <td>...</td>\n",
       "      <td>...</td>\n",
       "      <td>...</td>\n",
       "      <td>...</td>\n",
       "      <td>...</td>\n",
       "      <td>...</td>\n",
       "      <td>...</td>\n",
       "      <td>...</td>\n",
       "      <td>...</td>\n",
       "      <td>...</td>\n",
       "      <td>...</td>\n",
       "      <td>...</td>\n",
       "    </tr>\n",
       "    <tr>\n",
       "      <th>4023995</th>\n",
       "      <td>4023996</td>\n",
       "      <td>6.189002</td>\n",
       "      <td>0.002414</td>\n",
       "      <td>0.002414</td>\n",
       "      <td>0.002414</td>\n",
       "      <td>0.002414</td>\n",
       "      <td>0.002414</td>\n",
       "      <td>6.101240</td>\n",
       "      <td>6.134991</td>\n",
       "      <td>6.196092</td>\n",
       "      <td>6.196517</td>\n",
       "      <td>6.186067</td>\n",
       "      <td>10.547735</td>\n",
       "      <td>14.976771</td>\n",
       "      <td>18.280971</td>\n",
       "      <td>17.226439</td>\n",
       "      <td>13.641030</td>\n",
       "    </tr>\n",
       "    <tr>\n",
       "      <th>4023996</th>\n",
       "      <td>4023997</td>\n",
       "      <td>6.259305</td>\n",
       "      <td>0.002414</td>\n",
       "      <td>0.002414</td>\n",
       "      <td>0.002414</td>\n",
       "      <td>0.002414</td>\n",
       "      <td>0.002414</td>\n",
       "      <td>6.221967</td>\n",
       "      <td>6.426729</td>\n",
       "      <td>6.297765</td>\n",
       "      <td>6.257534</td>\n",
       "      <td>6.277758</td>\n",
       "      <td>10.547735</td>\n",
       "      <td>15.328281</td>\n",
       "      <td>17.859159</td>\n",
       "      <td>16.874929</td>\n",
       "      <td>13.641030</td>\n",
       "    </tr>\n",
       "    <tr>\n",
       "      <th>4023997</th>\n",
       "      <td>4023998</td>\n",
       "      <td>6.470211</td>\n",
       "      <td>0.002414</td>\n",
       "      <td>0.002414</td>\n",
       "      <td>0.002414</td>\n",
       "      <td>0.002414</td>\n",
       "      <td>0.002414</td>\n",
       "      <td>6.323777</td>\n",
       "      <td>6.279234</td>\n",
       "      <td>6.436971</td>\n",
       "      <td>6.474350</td>\n",
       "      <td>6.447019</td>\n",
       "      <td>10.688340</td>\n",
       "      <td>16.242209</td>\n",
       "      <td>17.718554</td>\n",
       "      <td>21.796079</td>\n",
       "      <td>13.641030</td>\n",
       "    </tr>\n",
       "    <tr>\n",
       "      <th>4023998</th>\n",
       "      <td>4023999</td>\n",
       "      <td>6.189002</td>\n",
       "      <td>0.002414</td>\n",
       "      <td>0.002414</td>\n",
       "      <td>0.002414</td>\n",
       "      <td>0.002414</td>\n",
       "      <td>0.002414</td>\n",
       "      <td>6.026303</td>\n",
       "      <td>6.170699</td>\n",
       "      <td>6.155049</td>\n",
       "      <td>6.171207</td>\n",
       "      <td>6.170768</td>\n",
       "      <td>11.110153</td>\n",
       "      <td>17.718554</td>\n",
       "      <td>17.718554</td>\n",
       "      <td>21.796079</td>\n",
       "      <td>13.992541</td>\n",
       "    </tr>\n",
       "    <tr>\n",
       "      <th>4023999</th>\n",
       "      <td>4024000</td>\n",
       "      <td>6.329607</td>\n",
       "      <td>0.002414</td>\n",
       "      <td>0.002414</td>\n",
       "      <td>0.002414</td>\n",
       "      <td>0.002414</td>\n",
       "      <td>0.002414</td>\n",
       "      <td>6.246217</td>\n",
       "      <td>6.459854</td>\n",
       "      <td>6.383534</td>\n",
       "      <td>6.333758</td>\n",
       "      <td>6.318080</td>\n",
       "      <td>16.734324</td>\n",
       "      <td>19.265201</td>\n",
       "      <td>17.718554</td>\n",
       "      <td>21.655474</td>\n",
       "      <td>14.273749</td>\n",
       "    </tr>\n",
       "  </tbody>\n",
       "</table>\n",
       "<p>4024000 rows × 17 columns</p>\n",
       "</div>"
      ],
      "text/plain": [
       "              id  pressure  LSTM5_REG_PL_0  LSTM5_REG_PL_1  LSTM5_REG_PL_2  \\\n",
       "0              1  6.259305        6.189002        6.189002        6.189002   \n",
       "1              2  5.978096        5.907794        5.978096        6.048398   \n",
       "2              3  7.102930        7.102930        7.173232        7.173232   \n",
       "3              4  7.665347        7.595045        7.665347        7.595045   \n",
       "4              5  9.141693        9.141692        9.141692        9.141692   \n",
       "...          ...       ...             ...             ...             ...   \n",
       "4023995  4023996  6.189002        0.002414        0.002414        0.002414   \n",
       "4023996  4023997  6.259305        0.002414        0.002414        0.002414   \n",
       "4023997  4023998  6.470211        0.002414        0.002414        0.002414   \n",
       "4023998  4023999  6.189002        0.002414        0.002414        0.002414   \n",
       "4023999  4024000  6.329607        0.002414        0.002414        0.002414   \n",
       "\n",
       "         LSTM5_REG_PL_3  LSTM5_REG_PL_4  Public_PulpFriction_0  \\\n",
       "0              6.329606        6.259304               6.322844   \n",
       "1              5.978096        6.048398               5.960816   \n",
       "2              7.102930        7.102930               7.150896   \n",
       "3              7.665347        7.665347               7.696169   \n",
       "4              9.141692        9.071390               9.168344   \n",
       "...                 ...             ...                    ...   \n",
       "4023995        0.002414        0.002414               6.101240   \n",
       "4023996        0.002414        0.002414               6.221967   \n",
       "4023997        0.002414        0.002414               6.323777   \n",
       "4023998        0.002414        0.002414               6.026303   \n",
       "4023999        0.002414        0.002414               6.246217   \n",
       "\n",
       "         Public_PulpFriction_1  Public_PulpFriction_2  Public_PulpFriction_3  \\\n",
       "0                     6.317010               6.284339               6.313703   \n",
       "1                     5.904262               5.921993               5.857764   \n",
       "2                     7.129235               7.110208               7.096230   \n",
       "3                     7.636521               7.671168               7.581084   \n",
       "4                     9.169226               9.156463               9.098163   \n",
       "...                        ...                    ...                    ...   \n",
       "4023995               6.134991               6.196092               6.196517   \n",
       "4023996               6.426729               6.297765               6.257534   \n",
       "4023997               6.279234               6.436971               6.474350   \n",
       "4023998               6.170699               6.155049               6.171207   \n",
       "4023999               6.459854               6.383534               6.333758   \n",
       "\n",
       "         Public_PulpFriction_4  LSTM5_CLS_DO02_CH01_OP01_physics_SiLU_0  \\\n",
       "0                     6.378181                                 6.259305   \n",
       "1                     6.009814                                 5.978096   \n",
       "2                     7.139535                                 7.032628   \n",
       "3                     7.704820                                 7.595045   \n",
       "4                     9.211409                                 9.141693   \n",
       "...                        ...                                      ...   \n",
       "4023995               6.186067                                10.547735   \n",
       "4023996               6.277758                                10.547735   \n",
       "4023997               6.447019                                10.688340   \n",
       "4023998               6.170768                                11.110153   \n",
       "4023999               6.318080                                16.734324   \n",
       "\n",
       "         LSTM5_CLS_DO02_CH01_OP01_physics_SiLU_1  \\\n",
       "0                                       6.259305   \n",
       "1                                       5.978096   \n",
       "2                                       7.102930   \n",
       "3                                       7.595045   \n",
       "4                                       9.071390   \n",
       "...                                          ...   \n",
       "4023995                                14.976771   \n",
       "4023996                                15.328281   \n",
       "4023997                                16.242209   \n",
       "4023998                                17.718554   \n",
       "4023999                                19.265201   \n",
       "\n",
       "         LSTM5_CLS_DO02_CH01_OP01_physics_SiLU_2  \\\n",
       "0                                       6.259305   \n",
       "1                                       5.978096   \n",
       "2                                       7.102930   \n",
       "3                                       7.665347   \n",
       "4                                       9.071390   \n",
       "...                                          ...   \n",
       "4023995                                18.280971   \n",
       "4023996                                17.859159   \n",
       "4023997                                17.718554   \n",
       "4023998                                17.718554   \n",
       "4023999                                17.718554   \n",
       "\n",
       "         LSTM5_CLS_DO02_CH01_OP01_physics_SiLU_3  \\\n",
       "0                                       6.259305   \n",
       "1                                       5.978096   \n",
       "2                                       7.032628   \n",
       "3                                       7.665347   \n",
       "4                                       9.141693   \n",
       "...                                          ...   \n",
       "4023995                                17.226439   \n",
       "4023996                                16.874929   \n",
       "4023997                                21.796079   \n",
       "4023998                                21.796079   \n",
       "4023999                                21.655474   \n",
       "\n",
       "         LSTM5_CLS_DO02_CH01_OP01_physics_SiLU_4  \n",
       "0                                       6.259305  \n",
       "1                                       5.907794  \n",
       "2                                       7.102930  \n",
       "3                                       7.665347  \n",
       "4                                       9.071390  \n",
       "...                                          ...  \n",
       "4023995                                13.641030  \n",
       "4023996                                13.641030  \n",
       "4023997                                13.641030  \n",
       "4023998                                13.992541  \n",
       "4023999                                14.273749  \n",
       "\n",
       "[4024000 rows x 17 columns]"
      ]
     },
     "execution_count": 6,
     "metadata": {},
     "output_type": "execute_result"
    }
   ],
   "source": [
    "sub_all = None\n",
    "for key, sub_file in tqdm(subs.items()):\n",
    "    train[key] = 0\n",
    "    tmp = pd.read_csv(sub_file)\n",
    "    if sub_all is None:\n",
    "        sub_all = tmp[[\"id\",\"pressure\"]].copy()\n",
    "        sub_all[\"pressure\"] = 0\n",
    "        \n",
    "    for fold in range(5):\n",
    "        if \"Public_PulpFriction\" == key:\n",
    "            train.loc[train.query(f\"fold=={fold}\").index, key] = np.load(f'../output/{key}/oof{fold}.npy').flatten()\n",
    "        else:\n",
    "            train.loc[train.query(f\"fold=={fold}\").index, key] = torch.load(f'../output/{key}/Fold_{fold}_best_model.pth')['valid_preds'].flatten()\n",
    "        sub_all[key+f\"_{fold}\"] = tmp[f\"preds_fold{fold}\"]\n",
    "        \n",
    "train[\"pressure_smart\"] = smart_avg(train[list(subs.keys())], axis=1)\n",
    "train[\"pressure_smart\"] = train[\"pressure_smart\"].map(lambda x: pressure_unique[np.abs(pressure_unique-x).argmin()])\n",
    "CVs = train.groupby(\"fold\").apply(lambda df: cal_mae_metric(df[\"pressure\"],df[\"pressure_smart\"],1-df[\"u_out\"]))\n",
    "CV = np.mean(CVs)\n",
    "print(\"Ensemble CV Median: Mean {:.4f}, std {:.4f}\".format(np.mean(CVs), np.std(CVs)))\n",
    "\n",
    "for fold in tqdm(range(5)):\n",
    "    sub_keys = [key+f\"_{fold}\" for key in subs.keys()]\n",
    "    test_fold_pred = smart_avg(sub_all[sub_keys], axis=1)\n",
    "    sub_fold = sub_all[[\"id\"]].copy()\n",
    "    sub_fold[f'preds_fold{fold}'] = test_fold_pred\n",
    "    sub_fold[f'preds_fold{fold}'] = sub_fold[f'preds_fold{fold}'].map(lambda x: pressure_unique[np.abs(pressure_unique-x).argmin()]) \n",
    "    sub_fold.to_csv(ensemble_folder + f\"/test_fold{fold}.csv\",index=False)\n",
    "\n",
    "preds_cols = [key+f\"_{i}\"  for key in subs.keys() for i in range(5)]\n",
    "sub_all[\"pressure\"] = smart_avg(sub_all[preds_cols], axis=1)\n",
    "sub_all[\"pressure\"] = sub_all[\"pressure\"].map(lambda x: pressure_unique[np.abs(pressure_unique-x).argmin()])       \n",
    "sub_all.to_csv(ensemble_folder + f\"/sub_all_{CV*1e5:.0f}.csv\")\n",
    "sub_all[[\"id\",\"pressure\"]].to_csv(ensemble_folder + f\"/submission_{CV*1e5:.0f}.csv\",index=False)\n",
    "print(sub_all.shape, train.shape)\n",
    "sub_all"
   ]
  },
  {
   "cell_type": "code",
   "execution_count": null,
   "id": "b72cff05",
   "metadata": {},
   "outputs": [],
   "source": []
  },
  {
   "cell_type": "code",
   "execution_count": null,
   "id": "554c587c",
   "metadata": {},
   "outputs": [],
   "source": []
  },
  {
   "cell_type": "code",
   "execution_count": null,
   "id": "74479541",
   "metadata": {},
   "outputs": [],
   "source": []
  },
  {
   "cell_type": "code",
   "execution_count": null,
   "id": "a080d6c4",
   "metadata": {},
   "outputs": [],
   "source": []
  },
  {
   "cell_type": "code",
   "execution_count": 15,
   "id": "1953bb58",
   "metadata": {
    "ExecuteTime": {
     "end_time": "2021-10-30T13:06:17.584138Z",
     "start_time": "2021-10-30T13:06:17.078113Z"
    }
   },
   "outputs": [],
   "source": [
    "sub_pub = pd.read_csv(\"../output/submission_1362.csv\")"
   ]
  },
  {
   "cell_type": "code",
   "execution_count": 16,
   "id": "2f8120c0",
   "metadata": {
    "ExecuteTime": {
     "end_time": "2021-10-30T13:06:29.546336Z",
     "start_time": "2021-10-30T13:06:17.585094Z"
    }
   },
   "outputs": [],
   "source": [
    "sub_all[\"pressure\"] = ((sub_all[\"pressure\"] + sub_pub[\"pressure\"])/2).map(lambda x: pressure_unique[np.abs(pressure_unique-x).argmin()])"
   ]
  },
  {
   "cell_type": "code",
   "execution_count": 17,
   "id": "3de756e6",
   "metadata": {
    "ExecuteTime": {
     "end_time": "2021-10-30T13:06:34.684075Z",
     "start_time": "2021-10-30T13:06:29.547374Z"
    }
   },
   "outputs": [],
   "source": [
    "sub_all[[\"id\",\"pressure\"]].to_csv(ensemble_folder + f\"/submission_{CV*1e5:.0f}_with_pub.csv\",index=False)"
   ]
  },
  {
   "cell_type": "code",
   "execution_count": null,
   "id": "1e15785b",
   "metadata": {},
   "outputs": [],
   "source": []
  }
 ],
 "metadata": {
  "kernelspec": {
   "display_name": "Python 3 (ipykernel)",
   "language": "python",
   "name": "python3"
  },
  "language_info": {
   "codemirror_mode": {
    "name": "ipython",
    "version": 3
   },
   "file_extension": ".py",
   "mimetype": "text/x-python",
   "name": "python",
   "nbconvert_exporter": "python",
   "pygments_lexer": "ipython3",
   "version": "3.8.10"
  },
  "toc": {
   "base_numbering": 1,
   "nav_menu": {},
   "number_sections": true,
   "sideBar": true,
   "skip_h1_title": false,
   "title_cell": "Table of Contents",
   "title_sidebar": "Contents",
   "toc_cell": false,
   "toc_position": {},
   "toc_section_display": true,
   "toc_window_display": false
  }
 },
 "nbformat": 4,
 "nbformat_minor": 5
}

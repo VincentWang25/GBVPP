{
 "cells": [
  {
   "cell_type": "code",
   "execution_count": 1,
   "id": "14d9e5b0",
   "metadata": {
    "ExecuteTime": {
     "end_time": "2021-11-01T17:43:13.897049Z",
     "start_time": "2021-11-01T17:43:12.831669Z"
    }
   },
   "outputs": [],
   "source": [
    "import torch\n",
    "from torch.nn import DataParallel\n",
    "from torch.utils.data import DataLoader\n",
    "from torch.optim import AdamW\n",
    "from scipy.optimize import minimize, fsolve\n",
    "import pandas as pd\n",
    "import numpy as np\n",
    "import matplotlib.pyplot as plt\n",
    "from sklearn.preprocessing import RobustScaler\n",
    "import os\n",
    "import gc\n",
    "from tqdm import tqdm\n",
    "import sys\n",
    "sys.path.append(\"../src\")\n",
    "from config import read_config, update_config\n",
    "from metric import cal_mae_metric\n",
    "from dataset import read_data\n",
    "from util import smart_avg"
   ]
  },
  {
   "cell_type": "code",
   "execution_count": 2,
   "id": "4a2aa8cb",
   "metadata": {
    "ExecuteTime": {
     "end_time": "2021-11-01T17:43:13.966119Z",
     "start_time": "2021-11-01T17:43:13.897945Z"
    }
   },
   "outputs": [
    {
     "name": "stdout",
     "output_type": "stream",
     "text": [
      "Using device: cuda\n",
      "Number of device: 1\n",
      "Model Output Folder: /home/vincent/Kaggle/GBVPP/output/Base/\n"
     ]
    }
   ],
   "source": [
    "config = read_config(\"Base\")\n",
    "config.gpu = [0]\n",
    "config = update_config(config)"
   ]
  },
  {
   "cell_type": "code",
   "execution_count": 14,
   "id": "706e6d65",
   "metadata": {
    "ExecuteTime": {
     "end_time": "2021-11-01T18:29:31.690557Z",
     "start_time": "2021-11-01T18:29:31.687425Z"
    }
   },
   "outputs": [],
   "source": [
    "subs = {\n",
    "    \"LSTM5_REG_physics_PL_better_2\": \"../output/LSTM5_REG_physics_PL_better_2/test_pred_all_17501.csv\",\n",
    "    \"Public_PulpFriction_New\": \"../output/Public_PulpFriction_New/test_pred_all_16657.csv\",\n",
    "    #\"LSTM5_CLS_DO03_CH02_IPOnly_SiLU_ADAM_PL3\":\"../output/LSTM5_CLS_DO03_CH02_IPOnly_SiLU_ADAM_PL3/test_pred_all_17404.csv\"\n",
    "}\n",
    "ensemble_folder = config.output_folder + \"/\" + \"ensemble_1101_2Model\"\n",
    "if not os.path.exists(ensemble_folder):\n",
    "    \n",
    "    os.makedirs(ensemble_folder)"
   ]
  },
  {
   "cell_type": "code",
   "execution_count": 15,
   "id": "dcb15872",
   "metadata": {
    "ExecuteTime": {
     "end_time": "2021-11-01T18:29:37.299220Z",
     "start_time": "2021-11-01T18:29:32.583820Z"
    }
   },
   "outputs": [],
   "source": [
    "train, test = read_data(config)"
   ]
  },
  {
   "cell_type": "code",
   "execution_count": 16,
   "id": "20f3b427",
   "metadata": {
    "ExecuteTime": {
     "end_time": "2021-11-01T18:29:37.302362Z",
     "start_time": "2021-11-01T18:29:37.300325Z"
    }
   },
   "outputs": [],
   "source": [
    "pressure_unique = np.load(\"/home/vincent/Kaggle/GBVPP/input/pressure_unique.npy\")"
   ]
  },
  {
   "cell_type": "code",
   "execution_count": 17,
   "id": "f2b212ca",
   "metadata": {
    "ExecuteTime": {
     "end_time": "2021-11-01T18:29:37.311614Z",
     "start_time": "2021-11-01T18:29:37.303130Z"
    }
   },
   "outputs": [],
   "source": [
    "P_MIN = np.min(pressure_unique)\n",
    "P_MAX = np.max(pressure_unique)\n",
    "P_STEP = pressure_unique[1] - pressure_unique[0]\n",
    "def transform_p(x):\n",
    "    t = ((x - P_MIN) // P_STEP * P_STEP + P_MIN)\n",
    "    return min(max(t, P_MIN), P_MAX)\n",
    "\n",
    "def transform_pv(s):\n",
    "    t = ((s - P_MIN) // P_STEP * P_STEP + P_MIN)\n",
    "    return np.clip(t, P_MIN, P_MAX)"
   ]
  },
  {
   "cell_type": "code",
   "execution_count": 18,
   "id": "6502f3b8",
   "metadata": {
    "ExecuteTime": {
     "end_time": "2021-11-01T18:29:48.445055Z",
     "start_time": "2021-11-01T18:29:37.313001Z"
    }
   },
   "outputs": [
    {
     "name": "stderr",
     "output_type": "stream",
     "text": [
      "\r",
      "  0%|                                                                                     | 0/2 [00:00<?, ?it/s]"
     ]
    },
    {
     "name": "stdout",
     "output_type": "stream",
     "text": [
      "Inliers:  3909208 -> compute mean\n",
      "Outliers:  114792 -> compute median\n",
      "Total:    4024000\n"
     ]
    },
    {
     "name": "stderr",
     "output_type": "stream",
     "text": [
      "\r",
      " 50%|██████████████████████████████████████▌                                      | 1/2 [00:05<00:05,  5.61s/it]"
     ]
    },
    {
     "name": "stdout",
     "output_type": "stream",
     "text": [
      "Inliers:  3565273 -> compute mean\n",
      "Outliers:  458727 -> compute median\n",
      "Total:    4024000\n"
     ]
    },
    {
     "name": "stderr",
     "output_type": "stream",
     "text": [
      "100%|█████████████████████████████████████████████████████████████████████████████| 2/2 [00:11<00:00,  5.56s/it]\n"
     ]
    }
   ],
   "source": [
    "sub_all = None\n",
    "for key, sub_file in tqdm(subs.items()):\n",
    "    train[key] = 0\n",
    "    tmp = pd.read_csv(sub_file)\n",
    "    if sub_all is None:\n",
    "        sub_all = tmp[[\"id\",\"pressure\"]].copy()\n",
    "        sub_all[\"pressure\"] = 0\n",
    "        \n",
    "    for fold in range(5):\n",
    "        if \"Public_PulpFriction_New\" == key:\n",
    "            train.loc[train.query(f\"fold=={fold}\").index, key] = np.load(f'../output/{key}/oof{fold}.npy').flatten()\n",
    "        else:\n",
    "            train.loc[train.query(f\"fold=={fold}\").index, key] = torch.load(f'../output/{key}/Fold_{fold}_best_model.pth')['valid_preds'].flatten()\n",
    "        sub_all[key+f\"_{fold}\"] = tmp[f\"preds_fold{fold}\"]\n",
    "    sub_all[key] = smart_avg(sub_all[[key+f\"_{f}\" for f in range(5)]],axis=1)\n",
    "    sub_all[key] = sub_all[key].apply(transform_p)"
   ]
  },
  {
   "cell_type": "code",
   "execution_count": 22,
   "id": "ff25e589",
   "metadata": {
    "ExecuteTime": {
     "end_time": "2021-11-01T22:05:33.699729Z",
     "start_time": "2021-11-01T22:05:33.690007Z"
    }
   },
   "outputs": [
    {
     "data": {
      "text/html": [
       "<div>\n",
       "<style scoped>\n",
       "    .dataframe tbody tr th:only-of-type {\n",
       "        vertical-align: middle;\n",
       "    }\n",
       "\n",
       "    .dataframe tbody tr th {\n",
       "        vertical-align: top;\n",
       "    }\n",
       "\n",
       "    .dataframe thead th {\n",
       "        text-align: right;\n",
       "    }\n",
       "</style>\n",
       "<table border=\"1\" class=\"dataframe\">\n",
       "  <thead>\n",
       "    <tr style=\"text-align: right;\">\n",
       "      <th></th>\n",
       "      <th>id</th>\n",
       "      <th>breath_id</th>\n",
       "      <th>R</th>\n",
       "      <th>C</th>\n",
       "      <th>time_step</th>\n",
       "      <th>u_in</th>\n",
       "      <th>u_out</th>\n",
       "      <th>pressure</th>\n",
       "      <th>fold</th>\n",
       "      <th>LSTM5_REG_physics_PL_better_2</th>\n",
       "      <th>Public_PulpFriction_New</th>\n",
       "      <th>pressure_smart</th>\n",
       "    </tr>\n",
       "  </thead>\n",
       "  <tbody>\n",
       "    <tr>\n",
       "      <th>0</th>\n",
       "      <td>1</td>\n",
       "      <td>1</td>\n",
       "      <td>20</td>\n",
       "      <td>50</td>\n",
       "      <td>0.000000</td>\n",
       "      <td>0.083334</td>\n",
       "      <td>0</td>\n",
       "      <td>5.837492</td>\n",
       "      <td>4</td>\n",
       "      <td>5.767190</td>\n",
       "      <td>5.813899</td>\n",
       "      <td>5.767190</td>\n",
       "    </tr>\n",
       "    <tr>\n",
       "      <th>1</th>\n",
       "      <td>2</td>\n",
       "      <td>1</td>\n",
       "      <td>20</td>\n",
       "      <td>50</td>\n",
       "      <td>0.033652</td>\n",
       "      <td>18.383041</td>\n",
       "      <td>0</td>\n",
       "      <td>5.907794</td>\n",
       "      <td>4</td>\n",
       "      <td>5.837492</td>\n",
       "      <td>5.973472</td>\n",
       "      <td>5.907794</td>\n",
       "    </tr>\n",
       "    <tr>\n",
       "      <th>2</th>\n",
       "      <td>3</td>\n",
       "      <td>1</td>\n",
       "      <td>20</td>\n",
       "      <td>50</td>\n",
       "      <td>0.067514</td>\n",
       "      <td>22.509277</td>\n",
       "      <td>0</td>\n",
       "      <td>7.876254</td>\n",
       "      <td>4</td>\n",
       "      <td>7.946556</td>\n",
       "      <td>8.012121</td>\n",
       "      <td>7.946556</td>\n",
       "    </tr>\n",
       "    <tr>\n",
       "      <th>3</th>\n",
       "      <td>4</td>\n",
       "      <td>1</td>\n",
       "      <td>20</td>\n",
       "      <td>50</td>\n",
       "      <td>0.101542</td>\n",
       "      <td>22.808823</td>\n",
       "      <td>0</td>\n",
       "      <td>11.742872</td>\n",
       "      <td>4</td>\n",
       "      <td>11.813173</td>\n",
       "      <td>11.873021</td>\n",
       "      <td>11.813174</td>\n",
       "    </tr>\n",
       "    <tr>\n",
       "      <th>4</th>\n",
       "      <td>5</td>\n",
       "      <td>1</td>\n",
       "      <td>20</td>\n",
       "      <td>50</td>\n",
       "      <td>0.135756</td>\n",
       "      <td>25.355850</td>\n",
       "      <td>0</td>\n",
       "      <td>12.234987</td>\n",
       "      <td>4</td>\n",
       "      <td>12.516195</td>\n",
       "      <td>12.394066</td>\n",
       "      <td>12.445893</td>\n",
       "    </tr>\n",
       "  </tbody>\n",
       "</table>\n",
       "</div>"
      ],
      "text/plain": [
       "   id  breath_id   R   C  time_step       u_in  u_out   pressure  fold  \\\n",
       "0   1          1  20  50   0.000000   0.083334      0   5.837492     4   \n",
       "1   2          1  20  50   0.033652  18.383041      0   5.907794     4   \n",
       "2   3          1  20  50   0.067514  22.509277      0   7.876254     4   \n",
       "3   4          1  20  50   0.101542  22.808823      0  11.742872     4   \n",
       "4   5          1  20  50   0.135756  25.355850      0  12.234987     4   \n",
       "\n",
       "   LSTM5_REG_physics_PL_better_2  Public_PulpFriction_New  pressure_smart  \n",
       "0                       5.767190                 5.813899        5.767190  \n",
       "1                       5.837492                 5.973472        5.907794  \n",
       "2                       7.946556                 8.012121        7.946556  \n",
       "3                      11.813173                11.873021       11.813174  \n",
       "4                      12.516195                12.394066       12.445893  "
      ]
     },
     "execution_count": 22,
     "metadata": {},
     "output_type": "execute_result"
    }
   ],
   "source": [
    "train.head()"
   ]
  },
  {
   "cell_type": "code",
   "execution_count": 23,
   "id": "8cff8ac8",
   "metadata": {
    "ExecuteTime": {
     "end_time": "2021-11-01T22:05:46.436233Z",
     "start_time": "2021-11-01T22:05:46.425154Z"
    }
   },
   "outputs": [
    {
     "data": {
      "text/html": [
       "<div>\n",
       "<style scoped>\n",
       "    .dataframe tbody tr th:only-of-type {\n",
       "        vertical-align: middle;\n",
       "    }\n",
       "\n",
       "    .dataframe tbody tr th {\n",
       "        vertical-align: top;\n",
       "    }\n",
       "\n",
       "    .dataframe thead th {\n",
       "        text-align: right;\n",
       "    }\n",
       "</style>\n",
       "<table border=\"1\" class=\"dataframe\">\n",
       "  <thead>\n",
       "    <tr style=\"text-align: right;\">\n",
       "      <th></th>\n",
       "      <th>id</th>\n",
       "      <th>pressure</th>\n",
       "      <th>LSTM5_REG_physics_PL_better_2_0</th>\n",
       "      <th>LSTM5_REG_physics_PL_better_2_1</th>\n",
       "      <th>LSTM5_REG_physics_PL_better_2_2</th>\n",
       "      <th>LSTM5_REG_physics_PL_better_2_3</th>\n",
       "      <th>LSTM5_REG_physics_PL_better_2_4</th>\n",
       "      <th>LSTM5_REG_physics_PL_better_2</th>\n",
       "      <th>Public_PulpFriction_New_0</th>\n",
       "      <th>Public_PulpFriction_New_1</th>\n",
       "      <th>Public_PulpFriction_New_2</th>\n",
       "      <th>Public_PulpFriction_New_3</th>\n",
       "      <th>Public_PulpFriction_New_4</th>\n",
       "      <th>Public_PulpFriction_New</th>\n",
       "    </tr>\n",
       "  </thead>\n",
       "  <tbody>\n",
       "    <tr>\n",
       "      <th>0</th>\n",
       "      <td>1</td>\n",
       "      <td>6.189002</td>\n",
       "      <td>6.329606</td>\n",
       "      <td>6.259304</td>\n",
       "      <td>6.259304</td>\n",
       "      <td>6.259304</td>\n",
       "      <td>6.189002</td>\n",
       "      <td>6.189002</td>\n",
       "      <td>6.297967</td>\n",
       "      <td>6.315374</td>\n",
       "      <td>6.320640</td>\n",
       "      <td>6.227913</td>\n",
       "      <td>6.300588</td>\n",
       "      <td>6.259305</td>\n",
       "    </tr>\n",
       "    <tr>\n",
       "      <th>1</th>\n",
       "      <td>2</td>\n",
       "      <td>5.907794</td>\n",
       "      <td>5.978096</td>\n",
       "      <td>5.978096</td>\n",
       "      <td>5.907794</td>\n",
       "      <td>5.907794</td>\n",
       "      <td>5.907794</td>\n",
       "      <td>5.907794</td>\n",
       "      <td>5.987489</td>\n",
       "      <td>5.982381</td>\n",
       "      <td>5.996212</td>\n",
       "      <td>5.917186</td>\n",
       "      <td>5.982573</td>\n",
       "      <td>5.907794</td>\n",
       "    </tr>\n",
       "    <tr>\n",
       "      <th>2</th>\n",
       "      <td>3</td>\n",
       "      <td>7.032628</td>\n",
       "      <td>7.032628</td>\n",
       "      <td>7.102930</td>\n",
       "      <td>7.173232</td>\n",
       "      <td>7.102930</td>\n",
       "      <td>7.102930</td>\n",
       "      <td>7.032628</td>\n",
       "      <td>7.048677</td>\n",
       "      <td>7.147728</td>\n",
       "      <td>7.079803</td>\n",
       "      <td>7.086129</td>\n",
       "      <td>7.157315</td>\n",
       "      <td>7.102930</td>\n",
       "    </tr>\n",
       "    <tr>\n",
       "      <th>3</th>\n",
       "      <td>4</td>\n",
       "      <td>7.524743</td>\n",
       "      <td>7.595045</td>\n",
       "      <td>7.665347</td>\n",
       "      <td>7.524743</td>\n",
       "      <td>7.595045</td>\n",
       "      <td>7.595045</td>\n",
       "      <td>7.524743</td>\n",
       "      <td>7.596078</td>\n",
       "      <td>7.761950</td>\n",
       "      <td>7.575807</td>\n",
       "      <td>7.577055</td>\n",
       "      <td>7.637226</td>\n",
       "      <td>7.595045</td>\n",
       "    </tr>\n",
       "    <tr>\n",
       "      <th>4</th>\n",
       "      <td>5</td>\n",
       "      <td>9.001088</td>\n",
       "      <td>9.071390</td>\n",
       "      <td>9.141692</td>\n",
       "      <td>9.001088</td>\n",
       "      <td>9.071390</td>\n",
       "      <td>9.071390</td>\n",
       "      <td>9.001088</td>\n",
       "      <td>9.124584</td>\n",
       "      <td>9.207625</td>\n",
       "      <td>9.030670</td>\n",
       "      <td>9.131549</td>\n",
       "      <td>9.165101</td>\n",
       "      <td>9.071390</td>\n",
       "    </tr>\n",
       "  </tbody>\n",
       "</table>\n",
       "</div>"
      ],
      "text/plain": [
       "   id  pressure  LSTM5_REG_physics_PL_better_2_0  \\\n",
       "0   1  6.189002                         6.329606   \n",
       "1   2  5.907794                         5.978096   \n",
       "2   3  7.032628                         7.032628   \n",
       "3   4  7.524743                         7.595045   \n",
       "4   5  9.001088                         9.071390   \n",
       "\n",
       "   LSTM5_REG_physics_PL_better_2_1  LSTM5_REG_physics_PL_better_2_2  \\\n",
       "0                         6.259304                         6.259304   \n",
       "1                         5.978096                         5.907794   \n",
       "2                         7.102930                         7.173232   \n",
       "3                         7.665347                         7.524743   \n",
       "4                         9.141692                         9.001088   \n",
       "\n",
       "   LSTM5_REG_physics_PL_better_2_3  LSTM5_REG_physics_PL_better_2_4  \\\n",
       "0                         6.259304                         6.189002   \n",
       "1                         5.907794                         5.907794   \n",
       "2                         7.102930                         7.102930   \n",
       "3                         7.595045                         7.595045   \n",
       "4                         9.071390                         9.071390   \n",
       "\n",
       "   LSTM5_REG_physics_PL_better_2  Public_PulpFriction_New_0  \\\n",
       "0                       6.189002                   6.297967   \n",
       "1                       5.907794                   5.987489   \n",
       "2                       7.032628                   7.048677   \n",
       "3                       7.524743                   7.596078   \n",
       "4                       9.001088                   9.124584   \n",
       "\n",
       "   Public_PulpFriction_New_1  Public_PulpFriction_New_2  \\\n",
       "0                   6.315374                   6.320640   \n",
       "1                   5.982381                   5.996212   \n",
       "2                   7.147728                   7.079803   \n",
       "3                   7.761950                   7.575807   \n",
       "4                   9.207625                   9.030670   \n",
       "\n",
       "   Public_PulpFriction_New_3  Public_PulpFriction_New_4  \\\n",
       "0                   6.227913                   6.300588   \n",
       "1                   5.917186                   5.982573   \n",
       "2                   7.086129                   7.157315   \n",
       "3                   7.577055                   7.637226   \n",
       "4                   9.131549                   9.165101   \n",
       "\n",
       "   Public_PulpFriction_New  \n",
       "0                 6.259305  \n",
       "1                 5.907794  \n",
       "2                 7.102930  \n",
       "3                 7.595045  \n",
       "4                 9.071390  "
      ]
     },
     "execution_count": 23,
     "metadata": {},
     "output_type": "execute_result"
    }
   ],
   "source": [
    "sub_all.head()"
   ]
  },
  {
   "cell_type": "code",
   "execution_count": 24,
   "id": "e3240cec",
   "metadata": {
    "ExecuteTime": {
     "end_time": "2021-11-01T22:08:47.527942Z",
     "start_time": "2021-11-01T22:08:22.656826Z"
    }
   },
   "outputs": [],
   "source": [
    "id_score = train.groupby(\"breath_id\").apply(lambda df: cal_mae_metric(df[\"pressure\"],df[\"pressure_smart\"],1-df[\"u_out\"]))"
   ]
  },
  {
   "cell_type": "code",
   "execution_count": 27,
   "id": "e8c674a2",
   "metadata": {
    "ExecuteTime": {
     "end_time": "2021-11-01T22:09:16.184752Z",
     "start_time": "2021-11-01T22:09:16.178012Z"
    }
   },
   "outputs": [
    {
     "data": {
      "text/plain": [
       "count    75450.000000\n",
       "mean         0.158526\n",
       "std          0.248364\n",
       "min          0.002343\n",
       "25%          0.063499\n",
       "50%          0.096080\n",
       "75%          0.159998\n",
       "max         19.703528\n",
       "dtype: float64"
      ]
     },
     "execution_count": 27,
     "metadata": {},
     "output_type": "execute_result"
    }
   ],
   "source": [
    "id_score.describe()"
   ]
  },
  {
   "cell_type": "code",
   "execution_count": 32,
   "id": "e32a49f8",
   "metadata": {
    "ExecuteTime": {
     "end_time": "2021-11-01T22:10:01.681865Z",
     "start_time": "2021-11-01T22:10:01.678202Z"
    }
   },
   "outputs": [
    {
     "data": {
      "text/plain": [
       "984"
      ]
     },
     "execution_count": 32,
     "metadata": {},
     "output_type": "execute_result"
    }
   ],
   "source": [
    "np.sum(id_score > 1)"
   ]
  },
  {
   "cell_type": "code",
   "execution_count": 30,
   "id": "817c6daf",
   "metadata": {
    "ExecuteTime": {
     "end_time": "2021-11-01T22:09:35.396723Z",
     "start_time": "2021-11-01T22:09:35.394026Z"
    }
   },
   "outputs": [
    {
     "data": {
      "text/plain": [
       "75450"
      ]
     },
     "execution_count": 30,
     "metadata": {},
     "output_type": "execute_result"
    }
   ],
   "source": [
    "len(id_score)"
   ]
  },
  {
   "cell_type": "code",
   "execution_count": 37,
   "id": "980a8727",
   "metadata": {
    "ExecuteTime": {
     "end_time": "2021-11-01T22:15:12.785465Z",
     "start_time": "2021-11-01T22:15:12.780284Z"
    }
   },
   "outputs": [],
   "source": [
    "drop_id_1 = np.array(id_score[id_score > 1].index)\n",
    "drop_id_2 = np.array(id_score[id_score > 2].index)\n",
    "np.save(\"../input/large_error_id_1\", drop_id_1)\n",
    "np.save(\"../input/large_error_id_2\", drop_id_2)"
   ]
  },
  {
   "cell_type": "code",
   "execution_count": null,
   "id": "b92c438e",
   "metadata": {},
   "outputs": [],
   "source": []
  },
  {
   "cell_type": "code",
   "execution_count": null,
   "id": "9f792f66",
   "metadata": {},
   "outputs": [],
   "source": []
  },
  {
   "cell_type": "code",
   "execution_count": 19,
   "id": "ea7f0818",
   "metadata": {
    "ExecuteTime": {
     "end_time": "2021-11-01T18:31:33.977608Z",
     "start_time": "2021-11-01T18:29:48.445920Z"
    }
   },
   "outputs": [
    {
     "name": "stdout",
     "output_type": "stream",
     "text": [
      "['LSTM5_REG_physics_PL_better_2', 'Public_PulpFriction_New'] (6036000, 5)\n",
      "Inital Blend OOF: -0.164781\n",
      "Optimised Blend OOF: -0.159634\n",
      "----------------------------------------------------------------------\n",
      "LSTM5_REG_physics_PL_better_2            Optimised Weights: 0.36341257205255006\n",
      "Public_PulpFriction_New                  Optimised Weights: 0.6382675562859392\n"
     ]
    },
    {
     "data": {
      "text/plain": [
       "<AxesSubplot:>"
      ]
     },
     "execution_count": 19,
     "metadata": {},
     "output_type": "execute_result"
    },
    {
     "data": {
      "image/png": "[encoded data removed]",
      "text/plain": [
       "<Figure size 720x1152 with 1 Axes>"
      ]
     },
     "metadata": {
      "needs_background": "light"
     },
     "output_type": "display_data"
    }
   ],
   "source": [
    "# weight optimization here .....\n",
    "model_cols = list(subs.keys())\n",
    "sci_opt_preds = train[model_cols + [\"pressure\",\"u_out\",\"fold\"]].copy() \n",
    "X = sci_opt_preds[model_cols].values\n",
    "print(model_cols, sci_opt_preds.shape)\n",
    "def get_score(weights, oof=sci_opt_preds):\n",
    "    weights = np.array(weights)\n",
    "    oof[\"prediction\"] = (weights * X).sum(axis=1)\n",
    "    oof[\"prediction\"] = transform_pv(oof[\"prediction\"])\n",
    "    return oof.groupby(\"fold\").apply(lambda df: cal_mae_metric(df[\"pressure\"],df[\"prediction\"],1-df[\"u_out\"])).mean()\n",
    "\n",
    "tol = 1e-10\n",
    "init_guess = [1 / len(model_cols)] * len(model_cols)\n",
    "bnds = [(-1, 1) for _ in range(len(model_cols))]\n",
    "print('Inital Blend OOF: {:.6f}'.format(-get_score(init_guess)))\n",
    "res_scipy = minimize(fun = get_score, \n",
    "                    x0 = init_guess, \n",
    "                    method = 'Nelder-Mead', \n",
    "                    bounds = bnds, \n",
    "                    tol = tol)\n",
    "print('Optimised Blend OOF: {:.6f}'.format(-res_scipy.fun))\n",
    "sci_cv_score = -res_scipy.fun\n",
    "print('-' * 70)\n",
    "for n, key in enumerate(model_cols):\n",
    "    print(f'{key:40s} Optimised Weights:', res_scipy.x[n])\n",
    "ws = res_scipy.x \n",
    "pd.DataFrame(dict(zip(model_cols,ws)),index=[\"weight\"]).T.plot(kind=\"barh\",figsize=(10,16))"
   ]
  },
  {
   "cell_type": "code",
   "execution_count": 20,
   "id": "1efcc0a0",
   "metadata": {
    "ExecuteTime": {
     "end_time": "2021-11-01T18:31:34.898940Z",
     "start_time": "2021-11-01T18:31:33.978541Z"
    }
   },
   "outputs": [
    {
     "name": "stdout",
     "output_type": "stream",
     "text": [
      "fold\n",
      "0    0.162597\n",
      "1    0.158854\n",
      "2    0.156994\n",
      "3    0.159313\n",
      "4    0.160414\n",
      "dtype: float64\n",
      "Ensemble CV: Mean 0.1596, std 0.0018\n"
     ]
    }
   ],
   "source": [
    "# weights here ....        \n",
    "train[\"pressure_smart\"] = transform_pv((train[list(subs.keys())] * ws).sum(axis=1))\n",
    "CVs = train.groupby(\"fold\").apply(lambda df: cal_mae_metric(df[\"pressure\"],df[\"pressure_smart\"],1-df[\"u_out\"]))\n",
    "CV = np.mean(CVs)\n",
    "print(CVs)\n",
    "print(\"Ensemble CV: Mean {:.4f}, std {:.4f}\".format(np.mean(CVs), np.std(CVs)))"
   ]
  },
  {
   "cell_type": "code",
   "execution_count": 21,
   "id": "3a3b67fe",
   "metadata": {
    "ExecuteTime": {
     "end_time": "2021-11-01T18:33:32.901733Z",
     "start_time": "2021-11-01T18:32:22.547086Z"
    }
   },
   "outputs": [
    {
     "name": "stderr",
     "output_type": "stream",
     "text": [
      "100%|█████████████████████████████████████████████████████████████████████████████| 5/5 [00:28<00:00,  5.76s/it]\n"
     ]
    },
    {
     "name": "stdout",
     "output_type": "stream",
     "text": [
      "(4024000, 14) (6036000, 12)\n"
     ]
    },
    {
     "data": {
      "text/html": [
       "<div>\n",
       "<style scoped>\n",
       "    .dataframe tbody tr th:only-of-type {\n",
       "        vertical-align: middle;\n",
       "    }\n",
       "\n",
       "    .dataframe tbody tr th {\n",
       "        vertical-align: top;\n",
       "    }\n",
       "\n",
       "    .dataframe thead th {\n",
       "        text-align: right;\n",
       "    }\n",
       "</style>\n",
       "<table border=\"1\" class=\"dataframe\">\n",
       "  <thead>\n",
       "    <tr style=\"text-align: right;\">\n",
       "      <th></th>\n",
       "      <th>id</th>\n",
       "      <th>pressure</th>\n",
       "      <th>LSTM5_REG_physics_PL_better_2_0</th>\n",
       "      <th>LSTM5_REG_physics_PL_better_2_1</th>\n",
       "      <th>LSTM5_REG_physics_PL_better_2_2</th>\n",
       "      <th>LSTM5_REG_physics_PL_better_2_3</th>\n",
       "      <th>LSTM5_REG_physics_PL_better_2_4</th>\n",
       "      <th>LSTM5_REG_physics_PL_better_2</th>\n",
       "      <th>Public_PulpFriction_New_0</th>\n",
       "      <th>Public_PulpFriction_New_1</th>\n",
       "      <th>Public_PulpFriction_New_2</th>\n",
       "      <th>Public_PulpFriction_New_3</th>\n",
       "      <th>Public_PulpFriction_New_4</th>\n",
       "      <th>Public_PulpFriction_New</th>\n",
       "    </tr>\n",
       "  </thead>\n",
       "  <tbody>\n",
       "    <tr>\n",
       "      <th>0</th>\n",
       "      <td>1</td>\n",
       "      <td>6.189002</td>\n",
       "      <td>6.329606</td>\n",
       "      <td>6.259304</td>\n",
       "      <td>6.259304</td>\n",
       "      <td>6.259304</td>\n",
       "      <td>6.189002</td>\n",
       "      <td>6.189002</td>\n",
       "      <td>6.297967</td>\n",
       "      <td>6.315374</td>\n",
       "      <td>6.320640</td>\n",
       "      <td>6.227913</td>\n",
       "      <td>6.300588</td>\n",
       "      <td>6.259305</td>\n",
       "    </tr>\n",
       "    <tr>\n",
       "      <th>1</th>\n",
       "      <td>2</td>\n",
       "      <td>5.907794</td>\n",
       "      <td>5.978096</td>\n",
       "      <td>5.978096</td>\n",
       "      <td>5.907794</td>\n",
       "      <td>5.907794</td>\n",
       "      <td>5.907794</td>\n",
       "      <td>5.907794</td>\n",
       "      <td>5.987489</td>\n",
       "      <td>5.982381</td>\n",
       "      <td>5.996212</td>\n",
       "      <td>5.917186</td>\n",
       "      <td>5.982573</td>\n",
       "      <td>5.907794</td>\n",
       "    </tr>\n",
       "    <tr>\n",
       "      <th>2</th>\n",
       "      <td>3</td>\n",
       "      <td>7.032628</td>\n",
       "      <td>7.032628</td>\n",
       "      <td>7.102930</td>\n",
       "      <td>7.173232</td>\n",
       "      <td>7.102930</td>\n",
       "      <td>7.102930</td>\n",
       "      <td>7.032628</td>\n",
       "      <td>7.048677</td>\n",
       "      <td>7.147728</td>\n",
       "      <td>7.079803</td>\n",
       "      <td>7.086129</td>\n",
       "      <td>7.157315</td>\n",
       "      <td>7.102930</td>\n",
       "    </tr>\n",
       "    <tr>\n",
       "      <th>3</th>\n",
       "      <td>4</td>\n",
       "      <td>7.524743</td>\n",
       "      <td>7.595045</td>\n",
       "      <td>7.665347</td>\n",
       "      <td>7.524743</td>\n",
       "      <td>7.595045</td>\n",
       "      <td>7.595045</td>\n",
       "      <td>7.524743</td>\n",
       "      <td>7.596078</td>\n",
       "      <td>7.761950</td>\n",
       "      <td>7.575807</td>\n",
       "      <td>7.577055</td>\n",
       "      <td>7.637226</td>\n",
       "      <td>7.595045</td>\n",
       "    </tr>\n",
       "    <tr>\n",
       "      <th>4</th>\n",
       "      <td>5</td>\n",
       "      <td>9.001088</td>\n",
       "      <td>9.071390</td>\n",
       "      <td>9.141692</td>\n",
       "      <td>9.001088</td>\n",
       "      <td>9.071390</td>\n",
       "      <td>9.071390</td>\n",
       "      <td>9.001088</td>\n",
       "      <td>9.124584</td>\n",
       "      <td>9.207625</td>\n",
       "      <td>9.030670</td>\n",
       "      <td>9.131549</td>\n",
       "      <td>9.165101</td>\n",
       "      <td>9.071390</td>\n",
       "    </tr>\n",
       "    <tr>\n",
       "      <th>...</th>\n",
       "      <td>...</td>\n",
       "      <td>...</td>\n",
       "      <td>...</td>\n",
       "      <td>...</td>\n",
       "      <td>...</td>\n",
       "      <td>...</td>\n",
       "      <td>...</td>\n",
       "      <td>...</td>\n",
       "      <td>...</td>\n",
       "      <td>...</td>\n",
       "      <td>...</td>\n",
       "      <td>...</td>\n",
       "      <td>...</td>\n",
       "      <td>...</td>\n",
       "    </tr>\n",
       "    <tr>\n",
       "      <th>4023995</th>\n",
       "      <td>4023996</td>\n",
       "      <td>3.869032</td>\n",
       "      <td>0.002414</td>\n",
       "      <td>0.002414</td>\n",
       "      <td>0.002414</td>\n",
       "      <td>0.002414</td>\n",
       "      <td>0.002414</td>\n",
       "      <td>-0.067889</td>\n",
       "      <td>6.155486</td>\n",
       "      <td>6.287960</td>\n",
       "      <td>6.178166</td>\n",
       "      <td>6.289627</td>\n",
       "      <td>6.211693</td>\n",
       "      <td>6.189002</td>\n",
       "    </tr>\n",
       "    <tr>\n",
       "      <th>4023996</th>\n",
       "      <td>4023997</td>\n",
       "      <td>3.939334</td>\n",
       "      <td>0.002414</td>\n",
       "      <td>0.002414</td>\n",
       "      <td>0.002414</td>\n",
       "      <td>0.002414</td>\n",
       "      <td>0.002414</td>\n",
       "      <td>-0.067889</td>\n",
       "      <td>6.349664</td>\n",
       "      <td>6.205312</td>\n",
       "      <td>6.254850</td>\n",
       "      <td>6.213360</td>\n",
       "      <td>6.290364</td>\n",
       "      <td>6.259305</td>\n",
       "    </tr>\n",
       "    <tr>\n",
       "      <th>4023997</th>\n",
       "      <td>4023998</td>\n",
       "      <td>4.009636</td>\n",
       "      <td>0.002414</td>\n",
       "      <td>0.002414</td>\n",
       "      <td>0.002414</td>\n",
       "      <td>0.002414</td>\n",
       "      <td>0.002414</td>\n",
       "      <td>-0.067889</td>\n",
       "      <td>6.351519</td>\n",
       "      <td>6.484034</td>\n",
       "      <td>6.444641</td>\n",
       "      <td>6.469348</td>\n",
       "      <td>6.476368</td>\n",
       "      <td>6.399909</td>\n",
       "    </tr>\n",
       "    <tr>\n",
       "      <th>4023998</th>\n",
       "      <td>4023999</td>\n",
       "      <td>3.869032</td>\n",
       "      <td>0.002414</td>\n",
       "      <td>0.002414</td>\n",
       "      <td>0.002414</td>\n",
       "      <td>0.002414</td>\n",
       "      <td>0.002414</td>\n",
       "      <td>-0.067889</td>\n",
       "      <td>6.155175</td>\n",
       "      <td>6.271890</td>\n",
       "      <td>6.167885</td>\n",
       "      <td>6.279932</td>\n",
       "      <td>6.199571</td>\n",
       "      <td>6.189002</td>\n",
       "    </tr>\n",
       "    <tr>\n",
       "      <th>4023999</th>\n",
       "      <td>4024000</td>\n",
       "      <td>3.939334</td>\n",
       "      <td>0.002414</td>\n",
       "      <td>0.002414</td>\n",
       "      <td>0.002414</td>\n",
       "      <td>0.002414</td>\n",
       "      <td>0.002414</td>\n",
       "      <td>-0.067889</td>\n",
       "      <td>6.392490</td>\n",
       "      <td>6.227872</td>\n",
       "      <td>6.348980</td>\n",
       "      <td>6.237012</td>\n",
       "      <td>6.320364</td>\n",
       "      <td>6.259305</td>\n",
       "    </tr>\n",
       "  </tbody>\n",
       "</table>\n",
       "<p>4024000 rows × 14 columns</p>\n",
       "</div>"
      ],
      "text/plain": [
       "              id  pressure  LSTM5_REG_physics_PL_better_2_0  \\\n",
       "0              1  6.189002                         6.329606   \n",
       "1              2  5.907794                         5.978096   \n",
       "2              3  7.032628                         7.032628   \n",
       "3              4  7.524743                         7.595045   \n",
       "4              5  9.001088                         9.071390   \n",
       "...          ...       ...                              ...   \n",
       "4023995  4023996  3.869032                         0.002414   \n",
       "4023996  4023997  3.939334                         0.002414   \n",
       "4023997  4023998  4.009636                         0.002414   \n",
       "4023998  4023999  3.869032                         0.002414   \n",
       "4023999  4024000  3.939334                         0.002414   \n",
       "\n",
       "         LSTM5_REG_physics_PL_better_2_1  LSTM5_REG_physics_PL_better_2_2  \\\n",
       "0                               6.259304                         6.259304   \n",
       "1                               5.978096                         5.907794   \n",
       "2                               7.102930                         7.173232   \n",
       "3                               7.665347                         7.524743   \n",
       "4                               9.141692                         9.001088   \n",
       "...                                  ...                              ...   \n",
       "4023995                         0.002414                         0.002414   \n",
       "4023996                         0.002414                         0.002414   \n",
       "4023997                         0.002414                         0.002414   \n",
       "4023998                         0.002414                         0.002414   \n",
       "4023999                         0.002414                         0.002414   \n",
       "\n",
       "         LSTM5_REG_physics_PL_better_2_3  LSTM5_REG_physics_PL_better_2_4  \\\n",
       "0                               6.259304                         6.189002   \n",
       "1                               5.907794                         5.907794   \n",
       "2                               7.102930                         7.102930   \n",
       "3                               7.595045                         7.595045   \n",
       "4                               9.071390                         9.071390   \n",
       "...                                  ...                              ...   \n",
       "4023995                         0.002414                         0.002414   \n",
       "4023996                         0.002414                         0.002414   \n",
       "4023997                         0.002414                         0.002414   \n",
       "4023998                         0.002414                         0.002414   \n",
       "4023999                         0.002414                         0.002414   \n",
       "\n",
       "         LSTM5_REG_physics_PL_better_2  Public_PulpFriction_New_0  \\\n",
       "0                             6.189002                   6.297967   \n",
       "1                             5.907794                   5.987489   \n",
       "2                             7.032628                   7.048677   \n",
       "3                             7.524743                   7.596078   \n",
       "4                             9.001088                   9.124584   \n",
       "...                                ...                        ...   \n",
       "4023995                      -0.067889                   6.155486   \n",
       "4023996                      -0.067889                   6.349664   \n",
       "4023997                      -0.067889                   6.351519   \n",
       "4023998                      -0.067889                   6.155175   \n",
       "4023999                      -0.067889                   6.392490   \n",
       "\n",
       "         Public_PulpFriction_New_1  Public_PulpFriction_New_2  \\\n",
       "0                         6.315374                   6.320640   \n",
       "1                         5.982381                   5.996212   \n",
       "2                         7.147728                   7.079803   \n",
       "3                         7.761950                   7.575807   \n",
       "4                         9.207625                   9.030670   \n",
       "...                            ...                        ...   \n",
       "4023995                   6.287960                   6.178166   \n",
       "4023996                   6.205312                   6.254850   \n",
       "4023997                   6.484034                   6.444641   \n",
       "4023998                   6.271890                   6.167885   \n",
       "4023999                   6.227872                   6.348980   \n",
       "\n",
       "         Public_PulpFriction_New_3  Public_PulpFriction_New_4  \\\n",
       "0                         6.227913                   6.300588   \n",
       "1                         5.917186                   5.982573   \n",
       "2                         7.086129                   7.157315   \n",
       "3                         7.577055                   7.637226   \n",
       "4                         9.131549                   9.165101   \n",
       "...                            ...                        ...   \n",
       "4023995                   6.289627                   6.211693   \n",
       "4023996                   6.213360                   6.290364   \n",
       "4023997                   6.469348                   6.476368   \n",
       "4023998                   6.279932                   6.199571   \n",
       "4023999                   6.237012                   6.320364   \n",
       "\n",
       "         Public_PulpFriction_New  \n",
       "0                       6.259305  \n",
       "1                       5.907794  \n",
       "2                       7.102930  \n",
       "3                       7.595045  \n",
       "4                       9.071390  \n",
       "...                          ...  \n",
       "4023995                 6.189002  \n",
       "4023996                 6.259305  \n",
       "4023997                 6.399909  \n",
       "4023998                 6.189002  \n",
       "4023999                 6.259305  \n",
       "\n",
       "[4024000 rows x 14 columns]"
      ]
     },
     "execution_count": 21,
     "metadata": {},
     "output_type": "execute_result"
    }
   ],
   "source": [
    "for fold in tqdm(range(5)):\n",
    "    sub_keys = [key+f\"_{fold}\" for key in subs.keys()]\n",
    "    test_fold_pred = transform_pv((sub_all[sub_keys] * ws).sum(axis=1))\n",
    "    sub_fold = sub_all[[\"id\"]].copy()\n",
    "    sub_fold[f'preds_fold{fold}'] = test_fold_pred\n",
    "    sub_fold.to_csv(ensemble_folder + f\"/test_fold{fold}.csv\",index=False)\n",
    "\n",
    "sub_all[\"pressure\"] = transform_pv((sub_all[model_cols] * ws).sum(axis=1))\n",
    "sub_all.to_csv(ensemble_folder + f\"/sub_all_{CV*1e5:.0f}.csv\")\n",
    "sub_all[[\"id\",\"pressure\"]].to_csv(ensemble_folder + f\"/submission_{CV*1e5:.0f}.csv\",index=False)\n",
    "print(sub_all.shape, train.shape)\n",
    "sub_all"
   ]
  },
  {
   "cell_type": "code",
   "execution_count": null,
   "id": "dffa27a2",
   "metadata": {},
   "outputs": [],
   "source": []
  }
 ],
 "metadata": {
  "kernelspec": {
   "display_name": "Python 3 (ipykernel)",
   "language": "python",
   "name": "python3"
  },
  "language_info": {
   "codemirror_mode": {
    "name": "ipython",
    "version": 3
   },
   "file_extension": ".py",
   "mimetype": "text/x-python",
   "name": "python",
   "nbconvert_exporter": "python",
   "pygments_lexer": "ipython3",
   "version": "3.8.10"
  },
  "toc": {
   "base_numbering": 1,
   "nav_menu": {},
   "number_sections": true,
   "sideBar": true,
   "skip_h1_title": false,
   "title_cell": "Table of Contents",
   "title_sidebar": "Contents",
   "toc_cell": false,
   "toc_position": {},
   "toc_section_display": true,
   "toc_window_display": false
  }
 },
 "nbformat": 4,
 "nbformat_minor": 5
}

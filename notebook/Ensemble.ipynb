{
 "cells": [
  {
   "cell_type": "code",
   "execution_count": 1,
   "id": "14d9e5b0",
   "metadata": {
    "ExecuteTime": {
     "end_time": "2021-11-02T00:39:43.678224Z",
     "start_time": "2021-11-02T00:39:42.590953Z"
    }
   },
   "outputs": [],
   "source": [
    "import torch\n",
    "from torch.nn import DataParallel\n",
    "from torch.utils.data import DataLoader\n",
    "from torch.optim import AdamW\n",
    "from scipy.optimize import minimize, fsolve\n",
    "import pandas as pd\n",
    "import numpy as np\n",
    "import matplotlib.pyplot as plt\n",
    "from sklearn.preprocessing import RobustScaler\n",
    "import os\n",
    "import gc\n",
    "from tqdm import tqdm\n",
    "import sys\n",
    "sys.path.append(\"../src\")\n",
    "from config import read_config, update_config\n",
    "from metric import cal_mae_metric\n",
    "from dataset import read_data\n",
    "from util import smart_avg"
   ]
  },
  {
   "cell_type": "code",
   "execution_count": 2,
   "id": "4a2aa8cb",
   "metadata": {
    "ExecuteTime": {
     "end_time": "2021-11-02T00:39:47.730240Z",
     "start_time": "2021-11-02T00:39:47.666236Z"
    }
   },
   "outputs": [
    {
     "name": "stdout",
     "output_type": "stream",
     "text": [
      "Using device: cuda\n",
      "Number of device: 1\n",
      "Model Output Folder: /home/vincent/Kaggle/GBVPP/output/Base/\n"
     ]
    }
   ],
   "source": [
    "config = read_config(\"Base\")\n",
    "config.gpu = [1]\n",
    "config = update_config(config)"
   ]
  },
  {
   "cell_type": "code",
   "execution_count": 3,
   "id": "706e6d65",
   "metadata": {
    "ExecuteTime": {
     "end_time": "2021-11-02T00:39:53.577676Z",
     "start_time": "2021-11-02T00:39:53.574752Z"
    }
   },
   "outputs": [],
   "source": [
    "subs = {\n",
    "    \"Public_PulpFriction_New\": \"../output/Public_PulpFriction_New/test_pred_all_16657.csv\",\n",
    "    \n",
    "    \"LSTM5_REG_PL_better\": \"../output/LSTM5_REG_PL_better/test_pred_all_17937.csv\",    \n",
    "    \"LSTM5_REG_physics_PL_better_2\": \"../output/LSTM5_REG_physics_PL_better_2/test_pred_all_17501.csv\",\n",
    "    \n",
    "    \"LSTM5_CLS_DO02_CH01_IPOnly_SiLU_ADAM_PL\": \"../output/LSTM5_CLS_DO02_CH01_IPOnly_SiLU_ADAM_PL/test_pred_all_17199.csv\"\n",
    "    \"LSTM5_CLS_DO03_CH02_IPOnly_SiLU_ADAM_PL3\":\"../output/LSTM5_CLS_DO03_CH02_IPOnly_SiLU_ADAM_PL3/test_pred_all_17404.csv\",\n",
    "    \"LSTM5_CLS_DO02_CH04_IPOnly_SiLU_ADAM_PL3\": \"../output/LSTM5_CLS_DO02_CH04_IPOnly_SiLU_ADAM_PL3/test_pred_all_17136.csv\",\n",
    "}\n",
    "ensemble_folder = config.output_folder + \"/\" + \"ensemble_1101_all\"\n",
    "if not os.path.exists(ensemble_folder):\n",
    "    \n",
    "    os.makedirs(ensemble_folder)"
   ]
  },
  {
   "cell_type": "code",
   "execution_count": 4,
   "id": "dcb15872",
   "metadata": {
    "ExecuteTime": {
     "end_time": "2021-11-02T00:39:59.525979Z",
     "start_time": "2021-11-02T00:39:54.523765Z"
    }
   },
   "outputs": [],
   "source": [
    "train, test = read_data(config)"
   ]
  },
  {
   "cell_type": "code",
   "execution_count": 5,
   "id": "20f3b427",
   "metadata": {
    "ExecuteTime": {
     "end_time": "2021-11-02T00:39:59.528990Z",
     "start_time": "2021-11-02T00:39:59.527082Z"
    }
   },
   "outputs": [],
   "source": [
    "pressure_unique = np.load(\"/home/vincent/Kaggle/GBVPP/input/pressure_unique.npy\")"
   ]
  },
  {
   "cell_type": "code",
   "execution_count": 23,
   "id": "5ca4ffa8",
   "metadata": {
    "ExecuteTime": {
     "end_time": "2021-11-02T00:47:53.107000Z",
     "start_time": "2021-11-02T00:47:53.103271Z"
    }
   },
   "outputs": [],
   "source": [
    "P_MIN = np.min(pressure_unique)\n",
    "P_MAX = np.max(pressure_unique)\n",
    "P_STEP = pressure_unique[1] - pressure_unique[0]\n",
    "def transform_p(x):\n",
    "    t = ((x - P_MIN) // P_STEP * P_STEP + P_MIN)\n",
    "    return min(max(t, P_MIN), P_MAX)\n",
    "\n",
    "def transform_pv(s):\n",
    "    t = (np.round((s - P_MIN) / P_STEP) * P_STEP + P_MIN)\n",
    "    return np.clip(t, P_MIN, P_MAX)"
   ]
  },
  {
   "cell_type": "code",
   "execution_count": 24,
   "id": "4eb36aff",
   "metadata": {
    "ExecuteTime": {
     "end_time": "2021-11-02T00:48:17.918518Z",
     "start_time": "2021-11-02T00:47:54.785139Z"
    }
   },
   "outputs": [
    {
     "name": "stderr",
     "output_type": "stream",
     "text": [
      "\r",
      "  0%|                                                                                     | 0/5 [00:00<?, ?it/s]"
     ]
    },
    {
     "name": "stdout",
     "output_type": "stream",
     "text": [
      "Inliers:  3565273 -> compute mean\n",
      "Outliers:  458727 -> compute median\n",
      "Total:    4024000\n"
     ]
    },
    {
     "name": "stderr",
     "output_type": "stream",
     "text": [
      "\r",
      " 20%|███████████████▍                                                             | 1/5 [00:03<00:14,  3.60s/it]"
     ]
    },
    {
     "name": "stdout",
     "output_type": "stream",
     "text": [
      "Inliers:  3897721 -> compute mean\n",
      "Outliers:  126279 -> compute median\n",
      "Total:    4024000\n"
     ]
    },
    {
     "name": "stderr",
     "output_type": "stream",
     "text": [
      "\r",
      " 40%|██████████████████████████████▊                                              | 2/5 [00:07<00:11,  3.77s/it]"
     ]
    },
    {
     "name": "stdout",
     "output_type": "stream",
     "text": [
      "Inliers:  3909208 -> compute mean\n",
      "Outliers:  114792 -> compute median\n",
      "Total:    4024000\n"
     ]
    },
    {
     "name": "stderr",
     "output_type": "stream",
     "text": [
      "\r",
      " 60%|██████████████████████████████████████████████▏                              | 3/5 [00:12<00:08,  4.17s/it]"
     ]
    },
    {
     "name": "stdout",
     "output_type": "stream",
     "text": [
      "Inliers:  1754681 -> compute mean\n",
      "Outliers: 2269319 -> compute median\n",
      "Total:    4024000\n"
     ]
    },
    {
     "name": "stderr",
     "output_type": "stream",
     "text": [
      "\r",
      " 80%|█████████████████████████████████████████████████████████████▌               | 4/5 [00:17<00:04,  4.67s/it]"
     ]
    },
    {
     "name": "stdout",
     "output_type": "stream",
     "text": [
      "Inliers:  1645905 -> compute mean\n",
      "Outliers: 2378095 -> compute median\n",
      "Total:    4024000\n"
     ]
    },
    {
     "name": "stderr",
     "output_type": "stream",
     "text": [
      "100%|█████████████████████████████████████████████████████████████████████████████| 5/5 [00:23<00:00,  4.62s/it]\n"
     ]
    }
   ],
   "source": [
    "sub_all = None\n",
    "for key, sub_file in tqdm(subs.items()):\n",
    "    train[key] = 0\n",
    "    tmp = pd.read_csv(sub_file)\n",
    "    if sub_all is None:\n",
    "        sub_all = tmp[[\"id\",\"pressure\"]].copy()\n",
    "        sub_all[\"pressure\"] = 0\n",
    "        \n",
    "    for fold in range(5):\n",
    "        if \"Public_PulpFriction_New\" == key:\n",
    "            train.loc[train.query(f\"fold=={fold}\").index, key] = np.load(f'../output/{key}/oof{fold}.npy').flatten()\n",
    "        else:\n",
    "            train.loc[train.query(f\"fold=={fold}\").index, key] = torch.load(f'../output/{key}/Fold_{fold}_best_model.pth')['valid_preds'].flatten()\n",
    "        sub_all[key+f\"_{fold}\"] = tmp[f\"preds_fold{fold}\"]\n",
    "    train[key] = transform_pv(train[key])\n",
    "    sub_all[key] = smart_avg(sub_all[[key+f\"_{f}\" for f in range(5)]],axis=1)\n",
    "    sub_all[key] = transform_pv(sub_all[key])"
   ]
  },
  {
   "cell_type": "code",
   "execution_count": 25,
   "id": "aed8d5dd",
   "metadata": {
    "ExecuteTime": {
     "end_time": "2021-11-02T00:48:25.537526Z",
     "start_time": "2021-11-02T00:48:22.716003Z"
    }
   },
   "outputs": [
    {
     "name": "stdout",
     "output_type": "stream",
     "text": [
      "Model Public_PulpFriction_New CV 0.16499\n",
      "Model LSTM5_REG_PL_better CV 0.17937\n",
      "Model LSTM5_REG_physics_PL_better_2 CV 0.17501\n",
      "Model LSTM5_CLS_DO03_CH02_IPOnly_SiLU_ADAM_PL3 CV 0.17404\n",
      "Model LSTM5_CLS_DO02_CH04_IPOnly_SiLU_ADAM_PL3 CV 0.17136\n"
     ]
    }
   ],
   "source": [
    "for key, sub_file in subs.items():\n",
    "    CV = train.groupby(\"fold\").apply(lambda df: cal_mae_metric(df[\"pressure\"],df[key],1-df[\"u_out\"])).mean()\n",
    "    print(f\"Model {key} CV {CV:.5f}\")"
   ]
  },
  {
   "cell_type": "code",
   "execution_count": 30,
   "id": "cf2a0763",
   "metadata": {
    "ExecuteTime": {
     "end_time": "2021-11-02T03:29:45.711975Z",
     "start_time": "2021-11-02T03:29:40.571333Z"
    }
   },
   "outputs": [
    {
     "name": "stdout",
     "output_type": "stream",
     "text": [
      "Inliers:  2034927 -> compute mean\n",
      "Outliers: 4001073 -> compute median\n",
      "Total:    6036000\n",
      "oof_avg CV 0.15561\n",
      "oof_median CV 0.15459\n",
      "oof_smart CV 0.15392\n"
     ]
    }
   ],
   "source": [
    "model_cols = list(subs.keys())\n",
    "train[\"oof_avg\"] =  transform_pv(train[model_cols].mean(axis=1))\n",
    "train[\"oof_median\"] =  transform_pv(train[model_cols].median(axis=1))\n",
    "train[\"oof_smart\"] =  transform_pv(smart_avg(train[model_cols], axis=1))\n",
    "for key in ['oof_avg', 'oof_median', 'oof_smart']:\n",
    "    CV = train.groupby(\"fold\").apply(lambda df: cal_mae_metric(df[\"pressure\"],df[key],1-df[\"u_out\"])).mean()\n",
    "    print(f\"{key} CV {CV:.5f}\")"
   ]
  },
  {
   "cell_type": "code",
   "execution_count": 31,
   "id": "ee130373",
   "metadata": {
    "ExecuteTime": {
     "end_time": "2021-11-02T03:30:28.807898Z",
     "start_time": "2021-11-02T03:30:28.795482Z"
    }
   },
   "outputs": [
    {
     "data": {
      "text/html": [
       "<div>\n",
       "<style scoped>\n",
       "    .dataframe tbody tr th:only-of-type {\n",
       "        vertical-align: middle;\n",
       "    }\n",
       "\n",
       "    .dataframe tbody tr th {\n",
       "        vertical-align: top;\n",
       "    }\n",
       "\n",
       "    .dataframe thead th {\n",
       "        text-align: right;\n",
       "    }\n",
       "</style>\n",
       "<table border=\"1\" class=\"dataframe\">\n",
       "  <thead>\n",
       "    <tr style=\"text-align: right;\">\n",
       "      <th></th>\n",
       "      <th>id</th>\n",
       "      <th>breath_id</th>\n",
       "      <th>R</th>\n",
       "      <th>C</th>\n",
       "      <th>time_step</th>\n",
       "      <th>u_in</th>\n",
       "      <th>u_out</th>\n",
       "      <th>pressure</th>\n",
       "      <th>fold</th>\n",
       "      <th>Public_PulpFriction_New</th>\n",
       "      <th>LSTM5_REG_PL_better</th>\n",
       "      <th>LSTM5_REG_physics_PL_better_2</th>\n",
       "      <th>LSTM5_CLS_DO03_CH02_IPOnly_SiLU_ADAM_PL3</th>\n",
       "      <th>LSTM5_CLS_DO02_CH04_IPOnly_SiLU_ADAM_PL3</th>\n",
       "      <th>pressure_smart</th>\n",
       "      <th>oof_avg</th>\n",
       "      <th>oof_median</th>\n",
       "      <th>oof_smart</th>\n",
       "    </tr>\n",
       "  </thead>\n",
       "  <tbody>\n",
       "    <tr>\n",
       "      <th>0</th>\n",
       "      <td>1</td>\n",
       "      <td>1</td>\n",
       "      <td>20</td>\n",
       "      <td>50</td>\n",
       "      <td>0.000000</td>\n",
       "      <td>0.083334</td>\n",
       "      <td>0</td>\n",
       "      <td>5.837492</td>\n",
       "      <td>4</td>\n",
       "      <td>5.837492</td>\n",
       "      <td>5.767190</td>\n",
       "      <td>5.767190</td>\n",
       "      <td>5.767190</td>\n",
       "      <td>5.767190</td>\n",
       "      <td>5.767190</td>\n",
       "      <td>5.767190</td>\n",
       "      <td>5.767190</td>\n",
       "      <td>5.767190</td>\n",
       "    </tr>\n",
       "    <tr>\n",
       "      <th>1</th>\n",
       "      <td>2</td>\n",
       "      <td>1</td>\n",
       "      <td>20</td>\n",
       "      <td>50</td>\n",
       "      <td>0.033652</td>\n",
       "      <td>18.383041</td>\n",
       "      <td>0</td>\n",
       "      <td>5.907794</td>\n",
       "      <td>4</td>\n",
       "      <td>5.978096</td>\n",
       "      <td>5.837492</td>\n",
       "      <td>5.837492</td>\n",
       "      <td>5.837492</td>\n",
       "      <td>5.837492</td>\n",
       "      <td>5.907794</td>\n",
       "      <td>5.837492</td>\n",
       "      <td>5.837492</td>\n",
       "      <td>5.837492</td>\n",
       "    </tr>\n",
       "    <tr>\n",
       "      <th>2</th>\n",
       "      <td>3</td>\n",
       "      <td>1</td>\n",
       "      <td>20</td>\n",
       "      <td>50</td>\n",
       "      <td>0.067514</td>\n",
       "      <td>22.509277</td>\n",
       "      <td>0</td>\n",
       "      <td>7.876254</td>\n",
       "      <td>4</td>\n",
       "      <td>8.016858</td>\n",
       "      <td>7.876254</td>\n",
       "      <td>7.946556</td>\n",
       "      <td>7.876254</td>\n",
       "      <td>7.876254</td>\n",
       "      <td>7.946556</td>\n",
       "      <td>7.946556</td>\n",
       "      <td>7.876254</td>\n",
       "      <td>7.946556</td>\n",
       "    </tr>\n",
       "    <tr>\n",
       "      <th>3</th>\n",
       "      <td>4</td>\n",
       "      <td>1</td>\n",
       "      <td>20</td>\n",
       "      <td>50</td>\n",
       "      <td>0.101542</td>\n",
       "      <td>22.808823</td>\n",
       "      <td>0</td>\n",
       "      <td>11.742872</td>\n",
       "      <td>4</td>\n",
       "      <td>11.883476</td>\n",
       "      <td>11.742872</td>\n",
       "      <td>11.813174</td>\n",
       "      <td>11.883476</td>\n",
       "      <td>11.883476</td>\n",
       "      <td>11.813174</td>\n",
       "      <td>11.813174</td>\n",
       "      <td>11.883476</td>\n",
       "      <td>11.813174</td>\n",
       "    </tr>\n",
       "    <tr>\n",
       "      <th>4</th>\n",
       "      <td>5</td>\n",
       "      <td>1</td>\n",
       "      <td>20</td>\n",
       "      <td>50</td>\n",
       "      <td>0.135756</td>\n",
       "      <td>25.355850</td>\n",
       "      <td>0</td>\n",
       "      <td>12.234987</td>\n",
       "      <td>4</td>\n",
       "      <td>12.375591</td>\n",
       "      <td>12.516196</td>\n",
       "      <td>12.516196</td>\n",
       "      <td>12.516196</td>\n",
       "      <td>12.445893</td>\n",
       "      <td>12.445893</td>\n",
       "      <td>12.445893</td>\n",
       "      <td>12.516196</td>\n",
       "      <td>12.445893</td>\n",
       "    </tr>\n",
       "  </tbody>\n",
       "</table>\n",
       "</div>"
      ],
      "text/plain": [
       "   id  breath_id   R   C  time_step       u_in  u_out   pressure  fold  \\\n",
       "0   1          1  20  50   0.000000   0.083334      0   5.837492     4   \n",
       "1   2          1  20  50   0.033652  18.383041      0   5.907794     4   \n",
       "2   3          1  20  50   0.067514  22.509277      0   7.876254     4   \n",
       "3   4          1  20  50   0.101542  22.808823      0  11.742872     4   \n",
       "4   5          1  20  50   0.135756  25.355850      0  12.234987     4   \n",
       "\n",
       "   Public_PulpFriction_New  LSTM5_REG_PL_better  \\\n",
       "0                 5.837492             5.767190   \n",
       "1                 5.978096             5.837492   \n",
       "2                 8.016858             7.876254   \n",
       "3                11.883476            11.742872   \n",
       "4                12.375591            12.516196   \n",
       "\n",
       "   LSTM5_REG_physics_PL_better_2  LSTM5_CLS_DO03_CH02_IPOnly_SiLU_ADAM_PL3  \\\n",
       "0                       5.767190                                  5.767190   \n",
       "1                       5.837492                                  5.837492   \n",
       "2                       7.946556                                  7.876254   \n",
       "3                      11.813174                                 11.883476   \n",
       "4                      12.516196                                 12.516196   \n",
       "\n",
       "   LSTM5_CLS_DO02_CH04_IPOnly_SiLU_ADAM_PL3  pressure_smart    oof_avg  \\\n",
       "0                                  5.767190        5.767190   5.767190   \n",
       "1                                  5.837492        5.907794   5.837492   \n",
       "2                                  7.876254        7.946556   7.946556   \n",
       "3                                 11.883476       11.813174  11.813174   \n",
       "4                                 12.445893       12.445893  12.445893   \n",
       "\n",
       "   oof_median  oof_smart  \n",
       "0    5.767190   5.767190  \n",
       "1    5.837492   5.837492  \n",
       "2    7.876254   7.946556  \n",
       "3   11.883476  11.813174  \n",
       "4   12.516196  12.445893  "
      ]
     },
     "execution_count": 31,
     "metadata": {},
     "output_type": "execute_result"
    }
   ],
   "source": [
    "train.head()"
   ]
  },
  {
   "cell_type": "code",
   "execution_count": 32,
   "id": "7c63fab4",
   "metadata": {
    "ExecuteTime": {
     "end_time": "2021-11-02T03:30:29.130957Z",
     "start_time": "2021-11-02T03:30:29.115410Z"
    }
   },
   "outputs": [
    {
     "data": {
      "text/html": [
       "<div>\n",
       "<style scoped>\n",
       "    .dataframe tbody tr th:only-of-type {\n",
       "        vertical-align: middle;\n",
       "    }\n",
       "\n",
       "    .dataframe tbody tr th {\n",
       "        vertical-align: top;\n",
       "    }\n",
       "\n",
       "    .dataframe thead th {\n",
       "        text-align: right;\n",
       "    }\n",
       "</style>\n",
       "<table border=\"1\" class=\"dataframe\">\n",
       "  <thead>\n",
       "    <tr style=\"text-align: right;\">\n",
       "      <th></th>\n",
       "      <th>id</th>\n",
       "      <th>pressure</th>\n",
       "      <th>Public_PulpFriction_New_0</th>\n",
       "      <th>Public_PulpFriction_New_1</th>\n",
       "      <th>Public_PulpFriction_New_2</th>\n",
       "      <th>Public_PulpFriction_New_3</th>\n",
       "      <th>Public_PulpFriction_New_4</th>\n",
       "      <th>Public_PulpFriction_New</th>\n",
       "      <th>LSTM5_REG_PL_better_0</th>\n",
       "      <th>LSTM5_REG_PL_better_1</th>\n",
       "      <th>...</th>\n",
       "      <th>LSTM5_CLS_DO03_CH02_IPOnly_SiLU_ADAM_PL3_2</th>\n",
       "      <th>LSTM5_CLS_DO03_CH02_IPOnly_SiLU_ADAM_PL3_3</th>\n",
       "      <th>LSTM5_CLS_DO03_CH02_IPOnly_SiLU_ADAM_PL3_4</th>\n",
       "      <th>LSTM5_CLS_DO03_CH02_IPOnly_SiLU_ADAM_PL3</th>\n",
       "      <th>LSTM5_CLS_DO02_CH04_IPOnly_SiLU_ADAM_PL3_0</th>\n",
       "      <th>LSTM5_CLS_DO02_CH04_IPOnly_SiLU_ADAM_PL3_1</th>\n",
       "      <th>LSTM5_CLS_DO02_CH04_IPOnly_SiLU_ADAM_PL3_2</th>\n",
       "      <th>LSTM5_CLS_DO02_CH04_IPOnly_SiLU_ADAM_PL3_3</th>\n",
       "      <th>LSTM5_CLS_DO02_CH04_IPOnly_SiLU_ADAM_PL3_4</th>\n",
       "      <th>LSTM5_CLS_DO02_CH04_IPOnly_SiLU_ADAM_PL3</th>\n",
       "    </tr>\n",
       "  </thead>\n",
       "  <tbody>\n",
       "    <tr>\n",
       "      <th>0</th>\n",
       "      <td>1</td>\n",
       "      <td>0</td>\n",
       "      <td>6.297967</td>\n",
       "      <td>6.315374</td>\n",
       "      <td>6.320640</td>\n",
       "      <td>6.227913</td>\n",
       "      <td>6.300588</td>\n",
       "      <td>6.259305</td>\n",
       "      <td>6.329606</td>\n",
       "      <td>6.259304</td>\n",
       "      <td>...</td>\n",
       "      <td>6.259305</td>\n",
       "      <td>6.259305</td>\n",
       "      <td>6.259305</td>\n",
       "      <td>6.259305</td>\n",
       "      <td>6.259305</td>\n",
       "      <td>6.189002</td>\n",
       "      <td>6.259305</td>\n",
       "      <td>6.259305</td>\n",
       "      <td>6.189002</td>\n",
       "      <td>6.259305</td>\n",
       "    </tr>\n",
       "    <tr>\n",
       "      <th>1</th>\n",
       "      <td>2</td>\n",
       "      <td>0</td>\n",
       "      <td>5.987489</td>\n",
       "      <td>5.982381</td>\n",
       "      <td>5.996212</td>\n",
       "      <td>5.917186</td>\n",
       "      <td>5.982573</td>\n",
       "      <td>5.978096</td>\n",
       "      <td>5.978096</td>\n",
       "      <td>5.978096</td>\n",
       "      <td>...</td>\n",
       "      <td>5.907794</td>\n",
       "      <td>5.907794</td>\n",
       "      <td>5.907794</td>\n",
       "      <td>5.907794</td>\n",
       "      <td>5.907794</td>\n",
       "      <td>5.907794</td>\n",
       "      <td>5.907794</td>\n",
       "      <td>5.907794</td>\n",
       "      <td>5.978096</td>\n",
       "      <td>5.907794</td>\n",
       "    </tr>\n",
       "    <tr>\n",
       "      <th>2</th>\n",
       "      <td>3</td>\n",
       "      <td>0</td>\n",
       "      <td>7.048677</td>\n",
       "      <td>7.147728</td>\n",
       "      <td>7.079803</td>\n",
       "      <td>7.086129</td>\n",
       "      <td>7.157315</td>\n",
       "      <td>7.102930</td>\n",
       "      <td>7.102930</td>\n",
       "      <td>7.102930</td>\n",
       "      <td>...</td>\n",
       "      <td>7.102930</td>\n",
       "      <td>7.102930</td>\n",
       "      <td>7.102930</td>\n",
       "      <td>7.102930</td>\n",
       "      <td>7.032628</td>\n",
       "      <td>7.173232</td>\n",
       "      <td>7.102930</td>\n",
       "      <td>7.102930</td>\n",
       "      <td>7.102930</td>\n",
       "      <td>7.102930</td>\n",
       "    </tr>\n",
       "    <tr>\n",
       "      <th>3</th>\n",
       "      <td>4</td>\n",
       "      <td>0</td>\n",
       "      <td>7.596078</td>\n",
       "      <td>7.761950</td>\n",
       "      <td>7.575807</td>\n",
       "      <td>7.577055</td>\n",
       "      <td>7.637226</td>\n",
       "      <td>7.595045</td>\n",
       "      <td>7.595045</td>\n",
       "      <td>7.665347</td>\n",
       "      <td>...</td>\n",
       "      <td>7.595045</td>\n",
       "      <td>7.665347</td>\n",
       "      <td>7.595045</td>\n",
       "      <td>7.595045</td>\n",
       "      <td>7.595045</td>\n",
       "      <td>7.665347</td>\n",
       "      <td>7.524743</td>\n",
       "      <td>7.665347</td>\n",
       "      <td>7.665347</td>\n",
       "      <td>7.595045</td>\n",
       "    </tr>\n",
       "    <tr>\n",
       "      <th>4</th>\n",
       "      <td>5</td>\n",
       "      <td>0</td>\n",
       "      <td>9.124584</td>\n",
       "      <td>9.207625</td>\n",
       "      <td>9.030670</td>\n",
       "      <td>9.131549</td>\n",
       "      <td>9.165101</td>\n",
       "      <td>9.141693</td>\n",
       "      <td>9.141692</td>\n",
       "      <td>9.141692</td>\n",
       "      <td>...</td>\n",
       "      <td>9.071390</td>\n",
       "      <td>9.071390</td>\n",
       "      <td>9.071390</td>\n",
       "      <td>9.071390</td>\n",
       "      <td>9.071390</td>\n",
       "      <td>9.141693</td>\n",
       "      <td>9.001088</td>\n",
       "      <td>9.141693</td>\n",
       "      <td>9.071390</td>\n",
       "      <td>9.071390</td>\n",
       "    </tr>\n",
       "  </tbody>\n",
       "</table>\n",
       "<p>5 rows × 32 columns</p>\n",
       "</div>"
      ],
      "text/plain": [
       "   id  pressure  Public_PulpFriction_New_0  Public_PulpFriction_New_1  \\\n",
       "0   1         0                   6.297967                   6.315374   \n",
       "1   2         0                   5.987489                   5.982381   \n",
       "2   3         0                   7.048677                   7.147728   \n",
       "3   4         0                   7.596078                   7.761950   \n",
       "4   5         0                   9.124584                   9.207625   \n",
       "\n",
       "   Public_PulpFriction_New_2  Public_PulpFriction_New_3  \\\n",
       "0                   6.320640                   6.227913   \n",
       "1                   5.996212                   5.917186   \n",
       "2                   7.079803                   7.086129   \n",
       "3                   7.575807                   7.577055   \n",
       "4                   9.030670                   9.131549   \n",
       "\n",
       "   Public_PulpFriction_New_4  Public_PulpFriction_New  LSTM5_REG_PL_better_0  \\\n",
       "0                   6.300588                 6.259305               6.329606   \n",
       "1                   5.982573                 5.978096               5.978096   \n",
       "2                   7.157315                 7.102930               7.102930   \n",
       "3                   7.637226                 7.595045               7.595045   \n",
       "4                   9.165101                 9.141693               9.141692   \n",
       "\n",
       "   LSTM5_REG_PL_better_1  ...  LSTM5_CLS_DO03_CH02_IPOnly_SiLU_ADAM_PL3_2  \\\n",
       "0               6.259304  ...                                    6.259305   \n",
       "1               5.978096  ...                                    5.907794   \n",
       "2               7.102930  ...                                    7.102930   \n",
       "3               7.665347  ...                                    7.595045   \n",
       "4               9.141692  ...                                    9.071390   \n",
       "\n",
       "   LSTM5_CLS_DO03_CH02_IPOnly_SiLU_ADAM_PL3_3  \\\n",
       "0                                    6.259305   \n",
       "1                                    5.907794   \n",
       "2                                    7.102930   \n",
       "3                                    7.665347   \n",
       "4                                    9.071390   \n",
       "\n",
       "   LSTM5_CLS_DO03_CH02_IPOnly_SiLU_ADAM_PL3_4  \\\n",
       "0                                    6.259305   \n",
       "1                                    5.907794   \n",
       "2                                    7.102930   \n",
       "3                                    7.595045   \n",
       "4                                    9.071390   \n",
       "\n",
       "   LSTM5_CLS_DO03_CH02_IPOnly_SiLU_ADAM_PL3  \\\n",
       "0                                  6.259305   \n",
       "1                                  5.907794   \n",
       "2                                  7.102930   \n",
       "3                                  7.595045   \n",
       "4                                  9.071390   \n",
       "\n",
       "   LSTM5_CLS_DO02_CH04_IPOnly_SiLU_ADAM_PL3_0  \\\n",
       "0                                    6.259305   \n",
       "1                                    5.907794   \n",
       "2                                    7.032628   \n",
       "3                                    7.595045   \n",
       "4                                    9.071390   \n",
       "\n",
       "   LSTM5_CLS_DO02_CH04_IPOnly_SiLU_ADAM_PL3_1  \\\n",
       "0                                    6.189002   \n",
       "1                                    5.907794   \n",
       "2                                    7.173232   \n",
       "3                                    7.665347   \n",
       "4                                    9.141693   \n",
       "\n",
       "   LSTM5_CLS_DO02_CH04_IPOnly_SiLU_ADAM_PL3_2  \\\n",
       "0                                    6.259305   \n",
       "1                                    5.907794   \n",
       "2                                    7.102930   \n",
       "3                                    7.524743   \n",
       "4                                    9.001088   \n",
       "\n",
       "   LSTM5_CLS_DO02_CH04_IPOnly_SiLU_ADAM_PL3_3  \\\n",
       "0                                    6.259305   \n",
       "1                                    5.907794   \n",
       "2                                    7.102930   \n",
       "3                                    7.665347   \n",
       "4                                    9.141693   \n",
       "\n",
       "   LSTM5_CLS_DO02_CH04_IPOnly_SiLU_ADAM_PL3_4  \\\n",
       "0                                    6.189002   \n",
       "1                                    5.978096   \n",
       "2                                    7.102930   \n",
       "3                                    7.665347   \n",
       "4                                    9.071390   \n",
       "\n",
       "   LSTM5_CLS_DO02_CH04_IPOnly_SiLU_ADAM_PL3  \n",
       "0                                  6.259305  \n",
       "1                                  5.907794  \n",
       "2                                  7.102930  \n",
       "3                                  7.595045  \n",
       "4                                  9.071390  \n",
       "\n",
       "[5 rows x 32 columns]"
      ]
     },
     "execution_count": 32,
     "metadata": {},
     "output_type": "execute_result"
    }
   ],
   "source": [
    "sub_all.head()"
   ]
  },
  {
   "cell_type": "code",
   "execution_count": 28,
   "id": "ea7f0818",
   "metadata": {
    "ExecuteTime": {
     "end_time": "2021-11-02T00:53:26.011842Z",
     "start_time": "2021-11-02T00:48:47.307722Z"
    }
   },
   "outputs": [
    {
     "name": "stdout",
     "output_type": "stream",
     "text": [
      "['Public_PulpFriction_New', 'LSTM5_REG_PL_better', 'LSTM5_REG_physics_PL_better_2', 'LSTM5_CLS_DO03_CH02_IPOnly_SiLU_ADAM_PL3', 'LSTM5_CLS_DO02_CH04_IPOnly_SiLU_ADAM_PL3'] (6036000, 8)\n",
      "Inital Blend OOF: -0.155607\n",
      "Optimised Blend OOF: -0.154189\n",
      "----------------------------------------------------------------------\n",
      "Public_PulpFriction_New                  Optimised Weights: 0.3476972049460615\n",
      "LSTM5_REG_PL_better                      Optimised Weights: 0.21913777383927804\n",
      "LSTM5_REG_physics_PL_better_2            Optimised Weights: 0.1037610848781544\n",
      "LSTM5_CLS_DO03_CH02_IPOnly_SiLU_ADAM_PL3 Optimised Weights: 0.13583249045269577\n",
      "LSTM5_CLS_DO02_CH04_IPOnly_SiLU_ADAM_PL3 Optimised Weights: 0.19324280188590431\n"
     ]
    },
    {
     "data": {
      "text/plain": [
       "<AxesSubplot:>"
      ]
     },
     "execution_count": 28,
     "metadata": {},
     "output_type": "execute_result"
    },
    {
     "data": {
      "image/png": "[encoded data removed]",
      "text/plain": [
       "<Figure size 720x1152 with 1 Axes>"
      ]
     },
     "metadata": {
      "needs_background": "light"
     },
     "output_type": "display_data"
    }
   ],
   "source": [
    "# weight optimization here .....\n",
    "sci_opt_preds = train[model_cols + [\"pressure\",\"u_out\",\"fold\"]].copy() \n",
    "X = sci_opt_preds[model_cols].values\n",
    "print(model_cols, sci_opt_preds.shape)\n",
    "def get_score(weights, oof=sci_opt_preds):\n",
    "    weights = np.array(weights)\n",
    "    oof[\"prediction\"] = (weights * X).sum(axis=1)\n",
    "    oof[\"prediction\"] = transform_pv(oof[\"prediction\"])\n",
    "    return oof.groupby(\"fold\").apply(lambda df: cal_mae_metric(df[\"pressure\"],df[\"prediction\"],1-df[\"u_out\"])).mean()\n",
    "\n",
    "tol = 1e-10\n",
    "init_guess = [1 / len(model_cols)] * len(model_cols)\n",
    "bnds = [(-1, 1) for _ in range(len(model_cols))]\n",
    "print('Inital Blend OOF: {:.6f}'.format(-get_score(init_guess)))\n",
    "res_scipy = minimize(fun = get_score, \n",
    "                    x0 = init_guess, \n",
    "                    method = 'Nelder-Mead', \n",
    "                    bounds = bnds, \n",
    "                    tol = tol)\n",
    "print('Optimised Blend OOF: {:.6f}'.format(-res_scipy.fun))\n",
    "sci_cv_score = -res_scipy.fun\n",
    "print('-' * 70)\n",
    "for n, key in enumerate(model_cols):\n",
    "    print(f'{key:40s} Optimised Weights:', res_scipy.x[n])\n",
    "ws = res_scipy.x \n",
    "pd.DataFrame(dict(zip(model_cols,ws)),index=[\"weight\"]).T.plot(kind=\"barh\",figsize=(10,16))"
   ]
  },
  {
   "cell_type": "code",
   "execution_count": 33,
   "id": "ed8a263e",
   "metadata": {
    "ExecuteTime": {
     "end_time": "2021-11-02T03:31:27.597585Z",
     "start_time": "2021-11-02T03:31:25.850482Z"
    }
   },
   "outputs": [
    {
     "name": "stdout",
     "output_type": "stream",
     "text": [
      "Inliers:  2034927 -> compute mean\n",
      "Outliers: 4001073 -> compute median\n",
      "Total:    6036000\n",
      "fold\n",
      "0    0.157437\n",
      "1    0.151371\n",
      "2    0.151494\n",
      "3    0.154488\n",
      "4    0.154789\n",
      "dtype: float64\n",
      "Ensemble CV: Mean 0.1539, std 0.0023\n"
     ]
    }
   ],
   "source": [
    "# weights here ....        \n",
    "#train[\"pressure_smart\"] = transform_pv((train[list(subs.keys())] * ws).sum(axis=1))\n",
    "train[\"pressure_smart\"] = transform_pv(smart_avg(train[list(subs.keys())],axis=1))\n",
    "CVs = train.groupby(\"fold\").apply(lambda df: cal_mae_metric(df[\"pressure\"],df[\"pressure_smart\"],1-df[\"u_out\"]))\n",
    "CV = np.mean(CVs)\n",
    "print(CVs)\n",
    "print(\"Ensemble CV: Mean {:.4f}, std {:.4f}\".format(np.mean(CVs), np.std(CVs)))"
   ]
  },
  {
   "cell_type": "code",
   "execution_count": 34,
   "id": "27a02ca2",
   "metadata": {
    "ExecuteTime": {
     "end_time": "2021-11-02T03:32:06.416457Z",
     "start_time": "2021-11-02T03:31:40.526026Z"
    }
   },
   "outputs": [],
   "source": [
    "id_score = train.groupby(\"breath_id\").apply(lambda df: cal_mae_metric(df[\"pressure\"], df[\"pressure_smart\"],1-df[\"u_out\"]))"
   ]
  },
  {
   "cell_type": "code",
   "execution_count": 35,
   "id": "8786e018",
   "metadata": {
    "ExecuteTime": {
     "end_time": "2021-11-02T03:32:06.423122Z",
     "start_time": "2021-11-02T03:32:06.417375Z"
    }
   },
   "outputs": [
    {
     "data": {
      "text/plain": [
       "count    7.545000e+04\n",
       "mean     1.528221e-01\n",
       "std      2.488917e-01\n",
       "min      1.290612e-12\n",
       "25%      6.060530e-02\n",
       "50%      9.212005e-02\n",
       "75%      1.542112e-01\n",
       "max      2.028217e+01\n",
       "dtype: float64"
      ]
     },
     "execution_count": 35,
     "metadata": {},
     "output_type": "execute_result"
    }
   ],
   "source": [
    "id_score.describe()"
   ]
  },
  {
   "cell_type": "code",
   "execution_count": 36,
   "id": "4d778339",
   "metadata": {
    "ExecuteTime": {
     "end_time": "2021-11-02T03:32:06.429594Z",
     "start_time": "2021-11-02T03:32:06.423802Z"
    }
   },
   "outputs": [
    {
     "data": {
      "text/plain": [
       "905"
      ]
     },
     "execution_count": 36,
     "metadata": {},
     "output_type": "execute_result"
    }
   ],
   "source": [
    "np.sum(id_score > 1)"
   ]
  },
  {
   "cell_type": "code",
   "execution_count": 37,
   "id": "f1dcd572",
   "metadata": {
    "ExecuteTime": {
     "end_time": "2021-11-02T03:32:15.464017Z",
     "start_time": "2021-11-02T03:32:15.453652Z"
    }
   },
   "outputs": [],
   "source": [
    "good_ids = list(id_score[id_score < 1].index)"
   ]
  },
  {
   "cell_type": "code",
   "execution_count": 38,
   "id": "91c90727",
   "metadata": {
    "ExecuteTime": {
     "end_time": "2021-11-02T03:32:18.523282Z",
     "start_time": "2021-11-02T03:32:17.230623Z"
    }
   },
   "outputs": [],
   "source": [
    "good_train = train.query(f\"breath_id in {good_ids}\")"
   ]
  },
  {
   "cell_type": "code",
   "execution_count": 39,
   "id": "50cad1db",
   "metadata": {
    "ExecuteTime": {
     "end_time": "2021-11-02T03:32:20.843118Z",
     "start_time": "2021-11-02T03:32:20.190130Z"
    }
   },
   "outputs": [
    {
     "name": "stdout",
     "output_type": "stream",
     "text": [
      "fold\n",
      "0    0.157495\n",
      "1    0.152886\n",
      "2    0.155672\n",
      "3    0.156048\n",
      "4    0.153016\n",
      "dtype: float64\n"
     ]
    }
   ],
   "source": [
    "CVs_good = good_train.groupby(\"fold\").apply(lambda df: cal_mae_metric(df[\"pressure\"],df[\"LSTM5_CLS_DO03_CH02_IPOnly_SiLU_ADAM_PL3\"],1-df[\"u_out\"]))\n",
    "CV_good = np.mean(CVs_good)\n",
    "print(CVs_good)"
   ]
  },
  {
   "cell_type": "code",
   "execution_count": 40,
   "id": "9e2d6fc0",
   "metadata": {
    "ExecuteTime": {
     "end_time": "2021-11-02T03:32:23.818018Z",
     "start_time": "2021-11-02T03:32:23.815751Z"
    }
   },
   "outputs": [
    {
     "data": {
      "text/plain": [
       "0.15502331782890422"
      ]
     },
     "execution_count": 40,
     "metadata": {},
     "output_type": "execute_result"
    }
   ],
   "source": [
    "CV_good"
   ]
  },
  {
   "cell_type": "code",
   "execution_count": 41,
   "id": "3aa35e54",
   "metadata": {
    "ExecuteTime": {
     "end_time": "2021-11-02T03:32:24.537980Z",
     "start_time": "2021-11-02T03:32:24.536334Z"
    }
   },
   "outputs": [],
   "source": [
    "# len(id_score)"
   ]
  },
  {
   "cell_type": "code",
   "execution_count": 18,
   "id": "d0e8a762",
   "metadata": {
    "ExecuteTime": {
     "end_time": "2021-11-02T00:06:44.732647Z",
     "start_time": "2021-11-02T00:06:44.725450Z"
    }
   },
   "outputs": [],
   "source": [
    "# drop_id_1 = np.array(id_score[id_score > 1].index)\n",
    "# drop_id_2 = np.array(id_score[id_score > 2].index)\n",
    "# np.save(\"../input/large_error_id_1\", drop_id_1)\n",
    "# np.save(\"../input/large_error_id_2\", drop_id_2)"
   ]
  },
  {
   "cell_type": "code",
   "execution_count": 42,
   "id": "6d1b68f7",
   "metadata": {
    "ExecuteTime": {
     "end_time": "2021-11-02T03:36:09.192649Z",
     "start_time": "2021-11-02T03:34:01.060497Z"
    }
   },
   "outputs": [
    {
     "name": "stderr",
     "output_type": "stream",
     "text": [
      "\r",
      "  0%|                                                                                     | 0/5 [00:00<?, ?it/s]"
     ]
    },
    {
     "name": "stdout",
     "output_type": "stream",
     "text": [
      "Inliers:  1438946 -> compute mean\n",
      "Outliers: 2585054 -> compute median\n",
      "Total:    4024000\n"
     ]
    },
    {
     "name": "stderr",
     "output_type": "stream",
     "text": [
      "\r",
      " 20%|███████████████▍                                                             | 1/5 [00:06<00:25,  6.32s/it]"
     ]
    },
    {
     "name": "stdout",
     "output_type": "stream",
     "text": [
      "Inliers:  1447003 -> compute mean\n",
      "Outliers: 2576997 -> compute median\n",
      "Total:    4024000\n"
     ]
    },
    {
     "name": "stderr",
     "output_type": "stream",
     "text": [
      "\r",
      " 40%|██████████████████████████████▊                                              | 2/5 [00:12<00:18,  6.22s/it]"
     ]
    },
    {
     "name": "stdout",
     "output_type": "stream",
     "text": [
      "Inliers:  1439551 -> compute mean\n",
      "Outliers: 2584449 -> compute median\n",
      "Total:    4024000\n"
     ]
    },
    {
     "name": "stderr",
     "output_type": "stream",
     "text": [
      "\r",
      " 60%|██████████████████████████████████████████████▏                              | 3/5 [00:18<00:12,  6.10s/it]"
     ]
    },
    {
     "name": "stdout",
     "output_type": "stream",
     "text": [
      "Inliers:  1446165 -> compute mean\n",
      "Outliers: 2577835 -> compute median\n",
      "Total:    4024000\n"
     ]
    },
    {
     "name": "stderr",
     "output_type": "stream",
     "text": [
      "\r",
      " 80%|█████████████████████████████████████████████████████████████▌               | 4/5 [00:24<00:06,  6.09s/it]"
     ]
    },
    {
     "name": "stdout",
     "output_type": "stream",
     "text": [
      "Inliers:  1444167 -> compute mean\n",
      "Outliers: 2579833 -> compute median\n",
      "Total:    4024000\n"
     ]
    },
    {
     "name": "stderr",
     "output_type": "stream",
     "text": [
      "100%|█████████████████████████████████████████████████████████████████████████████| 5/5 [00:30<00:00,  6.12s/it]\n"
     ]
    },
    {
     "name": "stdout",
     "output_type": "stream",
     "text": [
      "Inliers:  1484794 -> compute mean\n",
      "Outliers: 2539206 -> compute median\n",
      "Total:    4024000\n",
      "(4024000, 32) (6036000, 18)\n"
     ]
    },
    {
     "data": {
      "text/html": [
       "<div>\n",
       "<style scoped>\n",
       "    .dataframe tbody tr th:only-of-type {\n",
       "        vertical-align: middle;\n",
       "    }\n",
       "\n",
       "    .dataframe tbody tr th {\n",
       "        vertical-align: top;\n",
       "    }\n",
       "\n",
       "    .dataframe thead th {\n",
       "        text-align: right;\n",
       "    }\n",
       "</style>\n",
       "<table border=\"1\" class=\"dataframe\">\n",
       "  <thead>\n",
       "    <tr style=\"text-align: right;\">\n",
       "      <th></th>\n",
       "      <th>id</th>\n",
       "      <th>pressure</th>\n",
       "      <th>Public_PulpFriction_New_0</th>\n",
       "      <th>Public_PulpFriction_New_1</th>\n",
       "      <th>Public_PulpFriction_New_2</th>\n",
       "      <th>Public_PulpFriction_New_3</th>\n",
       "      <th>Public_PulpFriction_New_4</th>\n",
       "      <th>Public_PulpFriction_New</th>\n",
       "      <th>LSTM5_REG_PL_better_0</th>\n",
       "      <th>LSTM5_REG_PL_better_1</th>\n",
       "      <th>...</th>\n",
       "      <th>LSTM5_CLS_DO03_CH02_IPOnly_SiLU_ADAM_PL3_2</th>\n",
       "      <th>LSTM5_CLS_DO03_CH02_IPOnly_SiLU_ADAM_PL3_3</th>\n",
       "      <th>LSTM5_CLS_DO03_CH02_IPOnly_SiLU_ADAM_PL3_4</th>\n",
       "      <th>LSTM5_CLS_DO03_CH02_IPOnly_SiLU_ADAM_PL3</th>\n",
       "      <th>LSTM5_CLS_DO02_CH04_IPOnly_SiLU_ADAM_PL3_0</th>\n",
       "      <th>LSTM5_CLS_DO02_CH04_IPOnly_SiLU_ADAM_PL3_1</th>\n",
       "      <th>LSTM5_CLS_DO02_CH04_IPOnly_SiLU_ADAM_PL3_2</th>\n",
       "      <th>LSTM5_CLS_DO02_CH04_IPOnly_SiLU_ADAM_PL3_3</th>\n",
       "      <th>LSTM5_CLS_DO02_CH04_IPOnly_SiLU_ADAM_PL3_4</th>\n",
       "      <th>LSTM5_CLS_DO02_CH04_IPOnly_SiLU_ADAM_PL3</th>\n",
       "    </tr>\n",
       "  </thead>\n",
       "  <tbody>\n",
       "    <tr>\n",
       "      <th>0</th>\n",
       "      <td>1</td>\n",
       "      <td>6.259305</td>\n",
       "      <td>6.297967</td>\n",
       "      <td>6.315374</td>\n",
       "      <td>6.320640</td>\n",
       "      <td>6.227913</td>\n",
       "      <td>6.300588</td>\n",
       "      <td>6.259305</td>\n",
       "      <td>6.329606</td>\n",
       "      <td>6.259304</td>\n",
       "      <td>...</td>\n",
       "      <td>6.259305</td>\n",
       "      <td>6.259305</td>\n",
       "      <td>6.259305</td>\n",
       "      <td>6.259305</td>\n",
       "      <td>6.259305</td>\n",
       "      <td>6.189002</td>\n",
       "      <td>6.259305</td>\n",
       "      <td>6.259305</td>\n",
       "      <td>6.189002</td>\n",
       "      <td>6.259305</td>\n",
       "    </tr>\n",
       "    <tr>\n",
       "      <th>1</th>\n",
       "      <td>2</td>\n",
       "      <td>5.907794</td>\n",
       "      <td>5.987489</td>\n",
       "      <td>5.982381</td>\n",
       "      <td>5.996212</td>\n",
       "      <td>5.917186</td>\n",
       "      <td>5.982573</td>\n",
       "      <td>5.978096</td>\n",
       "      <td>5.978096</td>\n",
       "      <td>5.978096</td>\n",
       "      <td>...</td>\n",
       "      <td>5.907794</td>\n",
       "      <td>5.907794</td>\n",
       "      <td>5.907794</td>\n",
       "      <td>5.907794</td>\n",
       "      <td>5.907794</td>\n",
       "      <td>5.907794</td>\n",
       "      <td>5.907794</td>\n",
       "      <td>5.907794</td>\n",
       "      <td>5.978096</td>\n",
       "      <td>5.907794</td>\n",
       "    </tr>\n",
       "    <tr>\n",
       "      <th>2</th>\n",
       "      <td>3</td>\n",
       "      <td>7.102930</td>\n",
       "      <td>7.048677</td>\n",
       "      <td>7.147728</td>\n",
       "      <td>7.079803</td>\n",
       "      <td>7.086129</td>\n",
       "      <td>7.157315</td>\n",
       "      <td>7.102930</td>\n",
       "      <td>7.102930</td>\n",
       "      <td>7.102930</td>\n",
       "      <td>...</td>\n",
       "      <td>7.102930</td>\n",
       "      <td>7.102930</td>\n",
       "      <td>7.102930</td>\n",
       "      <td>7.102930</td>\n",
       "      <td>7.032628</td>\n",
       "      <td>7.173232</td>\n",
       "      <td>7.102930</td>\n",
       "      <td>7.102930</td>\n",
       "      <td>7.102930</td>\n",
       "      <td>7.102930</td>\n",
       "    </tr>\n",
       "    <tr>\n",
       "      <th>3</th>\n",
       "      <td>4</td>\n",
       "      <td>7.595045</td>\n",
       "      <td>7.596078</td>\n",
       "      <td>7.761950</td>\n",
       "      <td>7.575807</td>\n",
       "      <td>7.577055</td>\n",
       "      <td>7.637226</td>\n",
       "      <td>7.595045</td>\n",
       "      <td>7.595045</td>\n",
       "      <td>7.665347</td>\n",
       "      <td>...</td>\n",
       "      <td>7.595045</td>\n",
       "      <td>7.665347</td>\n",
       "      <td>7.595045</td>\n",
       "      <td>7.595045</td>\n",
       "      <td>7.595045</td>\n",
       "      <td>7.665347</td>\n",
       "      <td>7.524743</td>\n",
       "      <td>7.665347</td>\n",
       "      <td>7.665347</td>\n",
       "      <td>7.595045</td>\n",
       "    </tr>\n",
       "    <tr>\n",
       "      <th>4</th>\n",
       "      <td>5</td>\n",
       "      <td>9.071390</td>\n",
       "      <td>9.124584</td>\n",
       "      <td>9.207625</td>\n",
       "      <td>9.030670</td>\n",
       "      <td>9.131549</td>\n",
       "      <td>9.165101</td>\n",
       "      <td>9.141693</td>\n",
       "      <td>9.141692</td>\n",
       "      <td>9.141692</td>\n",
       "      <td>...</td>\n",
       "      <td>9.071390</td>\n",
       "      <td>9.071390</td>\n",
       "      <td>9.071390</td>\n",
       "      <td>9.071390</td>\n",
       "      <td>9.071390</td>\n",
       "      <td>9.141693</td>\n",
       "      <td>9.001088</td>\n",
       "      <td>9.141693</td>\n",
       "      <td>9.071390</td>\n",
       "      <td>9.071390</td>\n",
       "    </tr>\n",
       "    <tr>\n",
       "      <th>...</th>\n",
       "      <td>...</td>\n",
       "      <td>...</td>\n",
       "      <td>...</td>\n",
       "      <td>...</td>\n",
       "      <td>...</td>\n",
       "      <td>...</td>\n",
       "      <td>...</td>\n",
       "      <td>...</td>\n",
       "      <td>...</td>\n",
       "      <td>...</td>\n",
       "      <td>...</td>\n",
       "      <td>...</td>\n",
       "      <td>...</td>\n",
       "      <td>...</td>\n",
       "      <td>...</td>\n",
       "      <td>...</td>\n",
       "      <td>...</td>\n",
       "      <td>...</td>\n",
       "      <td>...</td>\n",
       "      <td>...</td>\n",
       "      <td>...</td>\n",
       "    </tr>\n",
       "    <tr>\n",
       "      <th>4023995</th>\n",
       "      <td>4023996</td>\n",
       "      <td>6.259305</td>\n",
       "      <td>6.155486</td>\n",
       "      <td>6.287960</td>\n",
       "      <td>6.178166</td>\n",
       "      <td>6.289627</td>\n",
       "      <td>6.211693</td>\n",
       "      <td>6.259305</td>\n",
       "      <td>0.002414</td>\n",
       "      <td>0.002414</td>\n",
       "      <td>...</td>\n",
       "      <td>12.516196</td>\n",
       "      <td>18.140367</td>\n",
       "      <td>12.656800</td>\n",
       "      <td>14.765864</td>\n",
       "      <td>11.672570</td>\n",
       "      <td>14.133145</td>\n",
       "      <td>14.484656</td>\n",
       "      <td>11.813174</td>\n",
       "      <td>16.593720</td>\n",
       "      <td>14.133145</td>\n",
       "    </tr>\n",
       "    <tr>\n",
       "      <th>4023996</th>\n",
       "      <td>4023997</td>\n",
       "      <td>6.259305</td>\n",
       "      <td>6.349664</td>\n",
       "      <td>6.205312</td>\n",
       "      <td>6.254850</td>\n",
       "      <td>6.213360</td>\n",
       "      <td>6.290364</td>\n",
       "      <td>6.259305</td>\n",
       "      <td>0.002414</td>\n",
       "      <td>0.002414</td>\n",
       "      <td>...</td>\n",
       "      <td>11.883476</td>\n",
       "      <td>18.070065</td>\n",
       "      <td>12.797404</td>\n",
       "      <td>14.765864</td>\n",
       "      <td>11.672570</td>\n",
       "      <td>12.938008</td>\n",
       "      <td>14.554958</td>\n",
       "      <td>11.883476</td>\n",
       "      <td>13.641030</td>\n",
       "      <td>12.938008</td>\n",
       "    </tr>\n",
       "    <tr>\n",
       "      <th>4023997</th>\n",
       "      <td>4023998</td>\n",
       "      <td>6.470211</td>\n",
       "      <td>6.351519</td>\n",
       "      <td>6.484034</td>\n",
       "      <td>6.444641</td>\n",
       "      <td>6.469348</td>\n",
       "      <td>6.476368</td>\n",
       "      <td>6.470211</td>\n",
       "      <td>0.002414</td>\n",
       "      <td>0.002414</td>\n",
       "      <td>...</td>\n",
       "      <td>11.883476</td>\n",
       "      <td>18.140367</td>\n",
       "      <td>12.938008</td>\n",
       "      <td>14.344051</td>\n",
       "      <td>12.024081</td>\n",
       "      <td>13.359821</td>\n",
       "      <td>14.554958</td>\n",
       "      <td>12.305289</td>\n",
       "      <td>13.781634</td>\n",
       "      <td>13.359821</td>\n",
       "    </tr>\n",
       "    <tr>\n",
       "      <th>4023998</th>\n",
       "      <td>4023999</td>\n",
       "      <td>6.189002</td>\n",
       "      <td>6.155175</td>\n",
       "      <td>6.271890</td>\n",
       "      <td>6.167885</td>\n",
       "      <td>6.279932</td>\n",
       "      <td>6.199571</td>\n",
       "      <td>6.189002</td>\n",
       "      <td>0.002414</td>\n",
       "      <td>0.002414</td>\n",
       "      <td>...</td>\n",
       "      <td>12.024081</td>\n",
       "      <td>18.140367</td>\n",
       "      <td>12.938008</td>\n",
       "      <td>14.554958</td>\n",
       "      <td>14.133145</td>\n",
       "      <td>15.890699</td>\n",
       "      <td>14.554958</td>\n",
       "      <td>12.727102</td>\n",
       "      <td>13.781634</td>\n",
       "      <td>14.133145</td>\n",
       "    </tr>\n",
       "    <tr>\n",
       "      <th>4023999</th>\n",
       "      <td>4024000</td>\n",
       "      <td>6.329607</td>\n",
       "      <td>6.392490</td>\n",
       "      <td>6.227872</td>\n",
       "      <td>6.348980</td>\n",
       "      <td>6.237012</td>\n",
       "      <td>6.320364</td>\n",
       "      <td>6.329607</td>\n",
       "      <td>0.002414</td>\n",
       "      <td>0.002414</td>\n",
       "      <td>...</td>\n",
       "      <td>15.820396</td>\n",
       "      <td>17.929461</td>\n",
       "      <td>14.133145</td>\n",
       "      <td>15.820396</td>\n",
       "      <td>14.133145</td>\n",
       "      <td>16.664022</td>\n",
       "      <td>14.554958</td>\n",
       "      <td>13.781634</td>\n",
       "      <td>13.992541</td>\n",
       "      <td>14.133145</td>\n",
       "    </tr>\n",
       "  </tbody>\n",
       "</table>\n",
       "<p>4024000 rows × 32 columns</p>\n",
       "</div>"
      ],
      "text/plain": [
       "              id  pressure  Public_PulpFriction_New_0  \\\n",
       "0              1  6.259305                   6.297967   \n",
       "1              2  5.907794                   5.987489   \n",
       "2              3  7.102930                   7.048677   \n",
       "3              4  7.595045                   7.596078   \n",
       "4              5  9.071390                   9.124584   \n",
       "...          ...       ...                        ...   \n",
       "4023995  4023996  6.259305                   6.155486   \n",
       "4023996  4023997  6.259305                   6.349664   \n",
       "4023997  4023998  6.470211                   6.351519   \n",
       "4023998  4023999  6.189002                   6.155175   \n",
       "4023999  4024000  6.329607                   6.392490   \n",
       "\n",
       "         Public_PulpFriction_New_1  Public_PulpFriction_New_2  \\\n",
       "0                         6.315374                   6.320640   \n",
       "1                         5.982381                   5.996212   \n",
       "2                         7.147728                   7.079803   \n",
       "3                         7.761950                   7.575807   \n",
       "4                         9.207625                   9.030670   \n",
       "...                            ...                        ...   \n",
       "4023995                   6.287960                   6.178166   \n",
       "4023996                   6.205312                   6.254850   \n",
       "4023997                   6.484034                   6.444641   \n",
       "4023998                   6.271890                   6.167885   \n",
       "4023999                   6.227872                   6.348980   \n",
       "\n",
       "         Public_PulpFriction_New_3  Public_PulpFriction_New_4  \\\n",
       "0                         6.227913                   6.300588   \n",
       "1                         5.917186                   5.982573   \n",
       "2                         7.086129                   7.157315   \n",
       "3                         7.577055                   7.637226   \n",
       "4                         9.131549                   9.165101   \n",
       "...                            ...                        ...   \n",
       "4023995                   6.289627                   6.211693   \n",
       "4023996                   6.213360                   6.290364   \n",
       "4023997                   6.469348                   6.476368   \n",
       "4023998                   6.279932                   6.199571   \n",
       "4023999                   6.237012                   6.320364   \n",
       "\n",
       "         Public_PulpFriction_New  LSTM5_REG_PL_better_0  \\\n",
       "0                       6.259305               6.329606   \n",
       "1                       5.978096               5.978096   \n",
       "2                       7.102930               7.102930   \n",
       "3                       7.595045               7.595045   \n",
       "4                       9.141693               9.141692   \n",
       "...                          ...                    ...   \n",
       "4023995                 6.259305               0.002414   \n",
       "4023996                 6.259305               0.002414   \n",
       "4023997                 6.470211               0.002414   \n",
       "4023998                 6.189002               0.002414   \n",
       "4023999                 6.329607               0.002414   \n",
       "\n",
       "         LSTM5_REG_PL_better_1  ...  \\\n",
       "0                     6.259304  ...   \n",
       "1                     5.978096  ...   \n",
       "2                     7.102930  ...   \n",
       "3                     7.665347  ...   \n",
       "4                     9.141692  ...   \n",
       "...                        ...  ...   \n",
       "4023995               0.002414  ...   \n",
       "4023996               0.002414  ...   \n",
       "4023997               0.002414  ...   \n",
       "4023998               0.002414  ...   \n",
       "4023999               0.002414  ...   \n",
       "\n",
       "         LSTM5_CLS_DO03_CH02_IPOnly_SiLU_ADAM_PL3_2  \\\n",
       "0                                          6.259305   \n",
       "1                                          5.907794   \n",
       "2                                          7.102930   \n",
       "3                                          7.595045   \n",
       "4                                          9.071390   \n",
       "...                                             ...   \n",
       "4023995                                   12.516196   \n",
       "4023996                                   11.883476   \n",
       "4023997                                   11.883476   \n",
       "4023998                                   12.024081   \n",
       "4023999                                   15.820396   \n",
       "\n",
       "         LSTM5_CLS_DO03_CH02_IPOnly_SiLU_ADAM_PL3_3  \\\n",
       "0                                          6.259305   \n",
       "1                                          5.907794   \n",
       "2                                          7.102930   \n",
       "3                                          7.665347   \n",
       "4                                          9.071390   \n",
       "...                                             ...   \n",
       "4023995                                   18.140367   \n",
       "4023996                                   18.070065   \n",
       "4023997                                   18.140367   \n",
       "4023998                                   18.140367   \n",
       "4023999                                   17.929461   \n",
       "\n",
       "         LSTM5_CLS_DO03_CH02_IPOnly_SiLU_ADAM_PL3_4  \\\n",
       "0                                          6.259305   \n",
       "1                                          5.907794   \n",
       "2                                          7.102930   \n",
       "3                                          7.595045   \n",
       "4                                          9.071390   \n",
       "...                                             ...   \n",
       "4023995                                   12.656800   \n",
       "4023996                                   12.797404   \n",
       "4023997                                   12.938008   \n",
       "4023998                                   12.938008   \n",
       "4023999                                   14.133145   \n",
       "\n",
       "         LSTM5_CLS_DO03_CH02_IPOnly_SiLU_ADAM_PL3  \\\n",
       "0                                        6.259305   \n",
       "1                                        5.907794   \n",
       "2                                        7.102930   \n",
       "3                                        7.595045   \n",
       "4                                        9.071390   \n",
       "...                                           ...   \n",
       "4023995                                 14.765864   \n",
       "4023996                                 14.765864   \n",
       "4023997                                 14.344051   \n",
       "4023998                                 14.554958   \n",
       "4023999                                 15.820396   \n",
       "\n",
       "         LSTM5_CLS_DO02_CH04_IPOnly_SiLU_ADAM_PL3_0  \\\n",
       "0                                          6.259305   \n",
       "1                                          5.907794   \n",
       "2                                          7.032628   \n",
       "3                                          7.595045   \n",
       "4                                          9.071390   \n",
       "...                                             ...   \n",
       "4023995                                   11.672570   \n",
       "4023996                                   11.672570   \n",
       "4023997                                   12.024081   \n",
       "4023998                                   14.133145   \n",
       "4023999                                   14.133145   \n",
       "\n",
       "         LSTM5_CLS_DO02_CH04_IPOnly_SiLU_ADAM_PL3_1  \\\n",
       "0                                          6.189002   \n",
       "1                                          5.907794   \n",
       "2                                          7.173232   \n",
       "3                                          7.665347   \n",
       "4                                          9.141693   \n",
       "...                                             ...   \n",
       "4023995                                   14.133145   \n",
       "4023996                                   12.938008   \n",
       "4023997                                   13.359821   \n",
       "4023998                                   15.890699   \n",
       "4023999                                   16.664022   \n",
       "\n",
       "         LSTM5_CLS_DO02_CH04_IPOnly_SiLU_ADAM_PL3_2  \\\n",
       "0                                          6.259305   \n",
       "1                                          5.907794   \n",
       "2                                          7.102930   \n",
       "3                                          7.524743   \n",
       "4                                          9.001088   \n",
       "...                                             ...   \n",
       "4023995                                   14.484656   \n",
       "4023996                                   14.554958   \n",
       "4023997                                   14.554958   \n",
       "4023998                                   14.554958   \n",
       "4023999                                   14.554958   \n",
       "\n",
       "         LSTM5_CLS_DO02_CH04_IPOnly_SiLU_ADAM_PL3_3  \\\n",
       "0                                          6.259305   \n",
       "1                                          5.907794   \n",
       "2                                          7.102930   \n",
       "3                                          7.665347   \n",
       "4                                          9.141693   \n",
       "...                                             ...   \n",
       "4023995                                   11.813174   \n",
       "4023996                                   11.883476   \n",
       "4023997                                   12.305289   \n",
       "4023998                                   12.727102   \n",
       "4023999                                   13.781634   \n",
       "\n",
       "         LSTM5_CLS_DO02_CH04_IPOnly_SiLU_ADAM_PL3_4  \\\n",
       "0                                          6.189002   \n",
       "1                                          5.978096   \n",
       "2                                          7.102930   \n",
       "3                                          7.665347   \n",
       "4                                          9.071390   \n",
       "...                                             ...   \n",
       "4023995                                   16.593720   \n",
       "4023996                                   13.641030   \n",
       "4023997                                   13.781634   \n",
       "4023998                                   13.781634   \n",
       "4023999                                   13.992541   \n",
       "\n",
       "         LSTM5_CLS_DO02_CH04_IPOnly_SiLU_ADAM_PL3  \n",
       "0                                        6.259305  \n",
       "1                                        5.907794  \n",
       "2                                        7.102930  \n",
       "3                                        7.595045  \n",
       "4                                        9.071390  \n",
       "...                                           ...  \n",
       "4023995                                 14.133145  \n",
       "4023996                                 12.938008  \n",
       "4023997                                 13.359821  \n",
       "4023998                                 14.133145  \n",
       "4023999                                 14.133145  \n",
       "\n",
       "[4024000 rows x 32 columns]"
      ]
     },
     "execution_count": 42,
     "metadata": {},
     "output_type": "execute_result"
    }
   ],
   "source": [
    "for fold in tqdm(range(5)):\n",
    "    sub_keys = [key+f\"_{fold}\" for key in subs.keys()]\n",
    "    #test_fold_pred = transform_pv((sub_all[sub_keys] * ws).sum(axis=1))\n",
    "    test_fold_pred = transform_pv(smart_avg(sub_all[sub_keys], axis=1))\n",
    "    sub_fold = sub_all[[\"id\"]].copy()\n",
    "    sub_fold[f'preds_fold{fold}'] = test_fold_pred\n",
    "    sub_fold.to_csv(ensemble_folder + f\"/test_fold{fold}.csv\",index=False)\n",
    "\n",
    "#sub_all[\"pressure\"] = transform_pv((sub_all[model_cols] * ws).sum(axis=1))\n",
    "sub_all[\"pressure\"] = transform_pv(smart_avg(sub_all[model_cols], axis=1))\n",
    "sub_all.to_csv(ensemble_folder + f\"/sub_all_{CV*1e5:.0f}.csv\")\n",
    "sub_all[[\"id\",\"pressure\"]].to_csv(ensemble_folder + f\"/submission_{CV*1e5:.0f}.csv\",index=False)\n",
    "print(sub_all.shape, train.shape)\n",
    "sub_all"
   ]
  },
  {
   "cell_type": "code",
   "execution_count": null,
   "id": "ff49ab8a",
   "metadata": {},
   "outputs": [],
   "source": []
  }
 ],
 "metadata": {
  "kernelspec": {
   "display_name": "Python 3 (ipykernel)",
   "language": "python",
   "name": "python3"
  },
  "language_info": {
   "codemirror_mode": {
    "name": "ipython",
    "version": 3
   },
   "file_extension": ".py",
   "mimetype": "text/x-python",
   "name": "python",
   "nbconvert_exporter": "python",
   "pygments_lexer": "ipython3",
   "version": "3.8.10"
  },
  "toc": {
   "base_numbering": 1,
   "nav_menu": {},
   "number_sections": true,
   "sideBar": true,
   "skip_h1_title": false,
   "title_cell": "Table of Contents",
   "title_sidebar": "Contents",
   "toc_cell": false,
   "toc_position": {},
   "toc_section_display": true,
   "toc_window_display": false
  }
 },
 "nbformat": 4,
 "nbformat_minor": 5
}

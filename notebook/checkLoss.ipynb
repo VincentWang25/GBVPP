{
 "cells": [
  {
   "cell_type": "code",
   "execution_count": 1,
   "id": "e99bf0d1",
   "metadata": {
    "ExecuteTime": {
     "end_time": "2021-10-30T01:36:27.184902Z",
     "start_time": "2021-10-30T01:36:26.650229Z"
    }
   },
   "outputs": [],
   "source": [
    "import torch\n",
    "from torch import nn"
   ]
  },
  {
   "cell_type": "code",
   "execution_count": 51,
   "id": "7c002bea",
   "metadata": {
    "ExecuteTime": {
     "end_time": "2021-10-30T02:06:54.547005Z",
     "start_time": "2021-10-30T02:06:54.543824Z"
    }
   },
   "outputs": [
    {
     "data": {
      "text/plain": [
       "torch.Size([1, 1, 2])"
      ]
     },
     "execution_count": 51,
     "metadata": {},
     "output_type": "execute_result"
    }
   ],
   "source": [
    "a = torch.tensor([[[1,2]]])\n",
    "a.shape"
   ]
  },
  {
   "cell_type": "code",
   "execution_count": 58,
   "id": "c0986b78",
   "metadata": {
    "ExecuteTime": {
     "end_time": "2021-10-30T02:07:33.069868Z",
     "start_time": "2021-10-30T02:07:33.066917Z"
    }
   },
   "outputs": [
    {
     "data": {
      "text/plain": [
       "torch.Size([1, 1, 3])"
      ]
     },
     "execution_count": 58,
     "metadata": {},
     "output_type": "execute_result"
    }
   ],
   "source": [
    "a[np.arange(0,2),:,[0,0,0]]"
   ]
  },
  {
   "cell_type": "code",
   "execution_count": 47,
   "id": "992008fb",
   "metadata": {
    "ExecuteTime": {
     "end_time": "2021-10-30T02:03:30.081673Z",
     "start_time": "2021-10-30T02:03:30.078985Z"
    }
   },
   "outputs": [],
   "source": [
    "\n",
    "def cal_ce_loss(y_true, y_pred, weight):\n",
    "    # probs = nn.Softmax(-1)(y_pred.reshape(-1, 950))\n",
    "    # loss = - torch.log(probs[y_true.reshape(-1)]) * weight\n",
    "    # return loss.sum() / weight.sum()\n",
    "    return nn.CrossEntropyLoss(reduction='mean')(y_pred, y_true.reshape(-1))\n",
    "\n",
    "def cal_ce_loss_custom(y_true, y_pred, weight):\n",
    "    probs = nn.Softmax(-1)(y_pred.reshape(-1,5))\n",
    "    loss = - torch.log(probs[torch.arange(0, probs.shape[0]), y_true.reshape(-1)]) * weight\n",
    "    return loss.sum() / weight.sum()"
   ]
  },
  {
   "cell_type": "code",
   "execution_count": 40,
   "id": "15c8005a",
   "metadata": {
    "ExecuteTime": {
     "end_time": "2021-10-30T01:45:48.112580Z",
     "start_time": "2021-10-30T01:45:48.109937Z"
    }
   },
   "outputs": [],
   "source": [
    "y_pred = torch.randn(5, 5, requires_grad=True)\n",
    "target = torch.empty(5, dtype=torch.long).random_(5)"
   ]
  },
  {
   "cell_type": "code",
   "execution_count": 41,
   "id": "e015ac7c",
   "metadata": {
    "ExecuteTime": {
     "end_time": "2021-10-30T01:45:49.522823Z",
     "start_time": "2021-10-30T01:45:49.519188Z"
    }
   },
   "outputs": [
    {
     "data": {
      "text/plain": [
       "tensor([0, 1, 2, 3, 4])"
      ]
     },
     "execution_count": 41,
     "metadata": {},
     "output_type": "execute_result"
    }
   ],
   "source": [
    "torch.arange(0,len(target))"
   ]
  },
  {
   "cell_type": "code",
   "execution_count": 42,
   "id": "f8b2acea",
   "metadata": {
    "ExecuteTime": {
     "end_time": "2021-10-30T01:45:53.317066Z",
     "start_time": "2021-10-30T01:45:53.313286Z"
    }
   },
   "outputs": [
    {
     "data": {
      "text/plain": [
       "tensor([0, 0, 1, 1, 1])"
      ]
     },
     "execution_count": 42,
     "metadata": {},
     "output_type": "execute_result"
    }
   ],
   "source": [
    "target"
   ]
  },
  {
   "cell_type": "code",
   "execution_count": 43,
   "id": "abb1e0f6",
   "metadata": {
    "ExecuteTime": {
     "end_time": "2021-10-30T01:45:56.995999Z",
     "start_time": "2021-10-30T01:45:56.993264Z"
    }
   },
   "outputs": [
    {
     "data": {
      "text/plain": [
       "tensor(2.6541, grad_fn=<NllLossBackward>)"
      ]
     },
     "execution_count": 43,
     "metadata": {},
     "output_type": "execute_result"
    }
   ],
   "source": [
    "cal_ce_loss(target, y_pred, None)"
   ]
  },
  {
   "cell_type": "code",
   "execution_count": 48,
   "id": "4dc4cd3e",
   "metadata": {
    "ExecuteTime": {
     "end_time": "2021-10-30T02:03:31.924745Z",
     "start_time": "2021-10-30T02:03:31.920604Z"
    }
   },
   "outputs": [
    {
     "data": {
      "text/plain": [
       "tensor(2.6541, grad_fn=<DivBackward0>)"
      ]
     },
     "execution_count": 48,
     "metadata": {},
     "output_type": "execute_result"
    }
   ],
   "source": [
    "cal_ce_loss_custom(target, y_pred, weight=torch.ones(5))"
   ]
  },
  {
   "cell_type": "code",
   "execution_count": null,
   "id": "7148a099",
   "metadata": {},
   "outputs": [],
   "source": []
  },
  {
   "cell_type": "code",
   "execution_count": null,
   "id": "79a1845f",
   "metadata": {},
   "outputs": [],
   "source": [
    "# Example of target with class indices\n",
    "loss = nn.CrossEntropyLoss()\n",
    "output = loss(input, target)\n",
    "output.backward()\n",
    "# Example of target with class probabilities\n",
    "input = torch.randn(3, 5, requires_grad=True)\n",
    "target = torch.randn(3, 5).softmax(dim=1)\n",
    "output = loss(input, target)\n",
    "output.backward()"
   ]
  },
  {
   "cell_type": "code",
   "execution_count": null,
   "id": "e755d7f9",
   "metadata": {},
   "outputs": [],
   "source": []
  }
 ],
 "metadata": {
  "kernelspec": {
   "display_name": "Python 3 (ipykernel)",
   "language": "python",
   "name": "python3"
  },
  "language_info": {
   "codemirror_mode": {
    "name": "ipython",
    "version": 3
   },
   "file_extension": ".py",
   "mimetype": "text/x-python",
   "name": "python",
   "nbconvert_exporter": "python",
   "pygments_lexer": "ipython3",
   "version": "3.8.10"
  },
  "toc": {
   "base_numbering": 1,
   "nav_menu": {},
   "number_sections": true,
   "sideBar": true,
   "skip_h1_title": false,
   "title_cell": "Table of Contents",
   "title_sidebar": "Contents",
   "toc_cell": false,
   "toc_position": {},
   "toc_section_display": true,
   "toc_window_display": false
  }
 },
 "nbformat": 4,
 "nbformat_minor": 5
}
